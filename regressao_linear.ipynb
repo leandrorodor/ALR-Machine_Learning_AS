{
  "nbformat": 4,
  "nbformat_minor": 0,
  "metadata": {
    "kernelspec": {
      "display_name": "Python 3",
      "language": "python",
      "name": "python3"
    },
    "language_info": {
      "codemirror_mode": {
        "name": "ipython",
        "version": 3
      },
      "file_extension": ".py",
      "mimetype": "text/x-python",
      "name": "python",
      "nbconvert_exporter": "python",
      "pygments_lexer": "ipython3",
      "version": "3.6.5"
    },
    "colab": {
      "name": "626-Aula1.ipynb",
      "provenance": [],
      "toc_visible": true,
      "include_colab_link": true
    }
  },
  "cells": [
    {
      "cell_type": "markdown",
      "metadata": {
        "id": "view-in-github",
        "colab_type": "text"
      },
      "source": [
        "<a href=\"https://colab.research.google.com/github/leandrorodor/ALR-Machine_Learning_AS/blob/main/regressao_linear.ipynb\" target=\"_parent\"><img src=\"https://colab.research.google.com/assets/colab-badge.svg\" alt=\"Open In Colab\"/></a>"
      ]
    },
    {
      "cell_type": "markdown",
      "metadata": {
        "id": "AeWq_Wh9U3WD"
      },
      "source": [
        "## Entendendo os dados"
      ]
    },
    {
      "cell_type": "code",
      "metadata": {
        "id": "-Gf9UlnvU3WH"
      },
      "source": [
        "import pandas as pd\n",
        "import matplotlib.pyplot as plt\n",
        "from sklearn.model_selection import train_test_split\n",
        "from sklearn.linear_model import LinearRegression\n",
        "import numpy as np"
      ],
      "execution_count": 2,
      "outputs": []
    },
    {
      "cell_type": "code",
      "metadata": {
        "id": "FV2UFp0JU3WK"
      },
      "source": [
        "movies = pd.read_csv('/content/sample_data/rla.csv')"
      ],
      "execution_count": 3,
      "outputs": []
    },
    {
      "cell_type": "code",
      "metadata": {
        "colab": {
          "base_uri": "https://localhost:8080/",
          "height": 204
        },
        "id": "97wxed13U3WK",
        "outputId": "cb9a0b3f-3341-4d9c-abdf-5d1de148b1fe"
      },
      "source": [
        "movies.head()"
      ],
      "execution_count": 4,
      "outputs": [
        {
          "output_type": "execute_result",
          "data": {
            "text/html": [
              "<div>\n",
              "<style scoped>\n",
              "    .dataframe tbody tr th:only-of-type {\n",
              "        vertical-align: middle;\n",
              "    }\n",
              "\n",
              "    .dataframe tbody tr th {\n",
              "        vertical-align: top;\n",
              "    }\n",
              "\n",
              "    .dataframe thead th {\n",
              "        text-align: right;\n",
              "    }\n",
              "</style>\n",
              "<table border=\"1\" class=\"dataframe\">\n",
              "  <thead>\n",
              "    <tr style=\"text-align: right;\">\n",
              "      <th></th>\n",
              "      <th>movieId</th>\n",
              "      <th>Titulo</th>\n",
              "      <th>Investimento (em milhoes)</th>\n",
              "      <th>Bilheteria (pessoas)</th>\n",
              "    </tr>\n",
              "  </thead>\n",
              "  <tbody>\n",
              "    <tr>\n",
              "      <th>0</th>\n",
              "      <td>1</td>\n",
              "      <td>Toy Story (1995)</td>\n",
              "      <td>11.048216</td>\n",
              "      <td>5623234.602</td>\n",
              "    </tr>\n",
              "    <tr>\n",
              "      <th>1</th>\n",
              "      <td>2</td>\n",
              "      <td>Jumanji (1995)</td>\n",
              "      <td>14.927678</td>\n",
              "      <td>5714951.757</td>\n",
              "    </tr>\n",
              "    <tr>\n",
              "      <th>2</th>\n",
              "      <td>3</td>\n",
              "      <td>Grumpier Old Men (1995)</td>\n",
              "      <td>27.114597</td>\n",
              "      <td>9524339.124</td>\n",
              "    </tr>\n",
              "    <tr>\n",
              "      <th>3</th>\n",
              "      <td>4</td>\n",
              "      <td>Waiting to Exhale (1995)</td>\n",
              "      <td>4.994242</td>\n",
              "      <td>6331568.779</td>\n",
              "    </tr>\n",
              "    <tr>\n",
              "      <th>4</th>\n",
              "      <td>5</td>\n",
              "      <td>Father of the Bride Part II (1995)</td>\n",
              "      <td>19.142246</td>\n",
              "      <td>6409617.277</td>\n",
              "    </tr>\n",
              "  </tbody>\n",
              "</table>\n",
              "</div>"
            ],
            "text/plain": [
              "   movieId  ... Bilheteria (pessoas)\n",
              "0        1  ...          5623234.602\n",
              "1        2  ...          5714951.757\n",
              "2        3  ...          9524339.124\n",
              "3        4  ...          6331568.779\n",
              "4        5  ...          6409617.277\n",
              "\n",
              "[5 rows x 4 columns]"
            ]
          },
          "metadata": {
            "tags": []
          },
          "execution_count": 4
        }
      ]
    },
    {
      "cell_type": "code",
      "metadata": {
        "colab": {
          "base_uri": "https://localhost:8080/"
        },
        "id": "unKrMHMsU3WL",
        "outputId": "4d84709b-d507-4af3-f289-dae248b55205"
      },
      "source": [
        "movies.shape"
      ],
      "execution_count": 5,
      "outputs": [
        {
          "output_type": "execute_result",
          "data": {
            "text/plain": [
              "(9125, 4)"
            ]
          },
          "metadata": {
            "tags": []
          },
          "execution_count": 5
        }
      ]
    },
    {
      "cell_type": "code",
      "metadata": {
        "id": "qEiJpwtZU3WL"
      },
      "source": [
        "x = movies['Investimento (em milhoes)']"
      ],
      "execution_count": 6,
      "outputs": []
    },
    {
      "cell_type": "code",
      "metadata": {
        "id": "jOY06KDmU3WM"
      },
      "source": [
        "y = movies['Bilheteria (pessoas)']"
      ],
      "execution_count": 7,
      "outputs": []
    },
    {
      "cell_type": "code",
      "metadata": {
        "colab": {
          "base_uri": "https://localhost:8080/",
          "height": 312
        },
        "id": "sb5c9QlJU3WM",
        "outputId": "7966241c-7f34-45d0-dbe8-eab491caed86"
      },
      "source": [
        "plt.scatter(x,y)\n",
        "plt.title('Investimento X Bilheteria')\n",
        "plt.xlabel('Investimento (Milhões U$)')\n",
        "plt.ylabel('Bilheteria (Pessoas)')"
      ],
      "execution_count": 8,
      "outputs": [
        {
          "output_type": "execute_result",
          "data": {
            "text/plain": [
              "Text(0, 0.5, 'Bilheteria (Pessoas)')"
            ]
          },
          "metadata": {
            "tags": []
          },
          "execution_count": 8
        },
        {
          "output_type": "display_data",
          "data": {
            "image/png": "[encoded data removed]",
            "text/plain": [
              "<Figure size 432x288 with 1 Axes>"
            ]
          },
          "metadata": {
            "tags": [],
            "needs_background": "light"
          }
        }
      ]
    },
    {
      "cell_type": "code",
      "metadata": {
        "id": "gsoa3ateU3WM"
      },
      "source": [
        "sample = movies.sample(n=200)"
      ],
      "execution_count": 9,
      "outputs": []
    },
    {
      "cell_type": "code",
      "metadata": {
        "id": "6rpGvf_BU3WM"
      },
      "source": [
        "x = sample['Investimento (em milhoes)']"
      ],
      "execution_count": 10,
      "outputs": []
    },
    {
      "cell_type": "code",
      "metadata": {
        "id": "2r24vF3NU3WN"
      },
      "source": [
        "y = sample['Bilheteria (pessoas)']"
      ],
      "execution_count": 11,
      "outputs": []
    },
    {
      "cell_type": "code",
      "metadata": {
        "colab": {
          "base_uri": "https://localhost:8080/",
          "height": 329
        },
        "id": "eqGQLjAIU3WN",
        "outputId": "04cacbaa-5f7f-45e1-fc20-8a41fdd2ecb4"
      },
      "source": [
        "plt.scatter(x,y)\n",
        "plt.title('Investimento X Bilheteria')\n",
        "plt.xlabel('Investimento (Milhões U$)')\n",
        "plt.ylabel('Bilheteria (Pessoas)')\n",
        "#plt.legend(loc='best') #colocando a legenda no melhor lugar"
      ],
      "execution_count": 12,
      "outputs": [
        {
          "output_type": "stream",
          "text": [
            "No handles with labels found to put in legend.\n"
          ],
          "name": "stderr"
        },
        {
          "output_type": "execute_result",
          "data": {
            "text/plain": [
              "<matplotlib.legend.Legend at 0x7f240690b5f8>"
            ]
          },
          "metadata": {
            "tags": []
          },
          "execution_count": 12
        },
        {
          "output_type": "display_data",
          "data": {
            "image/png": "[encoded data removed]",
            "text/plain": [
              "<Figure size 432x288 with 1 Axes>"
            ]
          },
          "metadata": {
            "tags": [],
            "needs_background": "light"
          }
        }
      ]
    },
    {
      "cell_type": "markdown",
      "metadata": {
        "id": "dU38pzLcU3WN"
      },
      "source": [
        "## Regressão linear"
      ]
    },
    {
      "cell_type": "code",
      "metadata": {
        "id": "AxQtVX7PU3WN"
      },
      "source": [
        "filmes_investimento = movies['Investimento (em milhoes)']\n",
        "filmes_bilheteria = movies['Bilheteria (pessoas)']"
      ],
      "execution_count": 13,
      "outputs": []
    },
    {
      "cell_type": "code",
      "metadata": {
        "colab": {
          "base_uri": "https://localhost:8080/"
        },
        "id": "Ny1cxTabU3WN",
        "outputId": "5af5505a-af21-4c76-b47d-af292ff1175e"
      },
      "source": [
        "type(filmes_investimento)"
      ],
      "execution_count": 14,
      "outputs": [
        {
          "output_type": "execute_result",
          "data": {
            "text/plain": [
              "pandas.core.series.Series"
            ]
          },
          "metadata": {
            "tags": []
          },
          "execution_count": 14
        }
      ]
    },
    {
      "cell_type": "code",
      "metadata": {
        "colab": {
          "base_uri": "https://localhost:8080/"
        },
        "id": "-ywio8LYU3WO",
        "outputId": "fb6b99a8-9755-4db7-dd05-f65545a3d6b0"
      },
      "source": [
        "filmes_investimento.head(10)"
      ],
      "execution_count": 15,
      "outputs": [
        {
          "output_type": "execute_result",
          "data": {
            "text/plain": [
              "0    11.048216\n",
              "1    14.927678\n",
              "2    27.114597\n",
              "3     4.994242\n",
              "4    19.142246\n",
              "5     9.977311\n",
              "6    14.257461\n",
              "7     8.871800\n",
              "8    29.112800\n",
              "9     3.695241\n",
              "Name: Investimento (em milhoes), dtype: float64"
            ]
          },
          "metadata": {
            "tags": []
          },
          "execution_count": 15
        }
      ]
    },
    {
      "cell_type": "code",
      "metadata": {
        "colab": {
          "base_uri": "https://localhost:8080/"
        },
        "id": "fwmouhAtU3WO",
        "outputId": "3e1272d8-78cd-4ff1-accc-21b02d049d98"
      },
      "source": [
        "filmes_bilheteria.head(10)"
      ],
      "execution_count": 16,
      "outputs": [
        {
          "output_type": "execute_result",
          "data": {
            "text/plain": [
              "0    5623234.602\n",
              "1    5714951.757\n",
              "2    9524339.124\n",
              "3    6331568.779\n",
              "4    6409617.277\n",
              "5    4956557.317\n",
              "6    4654565.066\n",
              "7    3950017.325\n",
              "8    6850971.551\n",
              "9    5157865.850\n",
              "Name: Bilheteria (pessoas), dtype: float64"
            ]
          },
          "metadata": {
            "tags": []
          },
          "execution_count": 16
        }
      ]
    },
    {
      "cell_type": "code",
      "metadata": {
        "id": "5wA-yR78U3WO"
      },
      "source": [
        "treino, teste, treino_bilheteria, teste_bilheteria = train_test_split(filmes_investimento, filmes_bilheteria)"
      ],
      "execution_count": 17,
      "outputs": []
    },
    {
      "cell_type": "code",
      "metadata": {
        "colab": {
          "base_uri": "https://localhost:8080/"
        },
        "id": "IZBKkN5JU3WO",
        "outputId": "ce719bd6-fec0-4cc3-e88a-dd22bd55cc86"
      },
      "source": [
        "print('Tamanho treino: {0} Tamanho teste: {1} Total: {2} ({0} + {1})'.format(len(treino), len(teste), len(filmes_investimento)))"
      ],
      "execution_count": 18,
      "outputs": [
        {
          "output_type": "stream",
          "text": [
            "Tamanho treino: 6843 Tamanho teste: 2282 Total: 9125 (6843 + 2282)\n"
          ],
          "name": "stdout"
        }
      ]
    },
    {
      "cell_type": "code",
      "metadata": {
        "colab": {
          "base_uri": "https://localhost:8080/"
        },
        "id": "MGgb4tYVU3WP",
        "outputId": "db4addd8-b12e-41dc-e482-61f743b187e3"
      },
      "source": [
        "print('Porcentagem treino {}'.format(len(treino)/len(filmes_investimento)))"
      ],
      "execution_count": 19,
      "outputs": [
        {
          "output_type": "stream",
          "text": [
            "Porcentagem treino 0.7499178082191781\n"
          ],
          "name": "stdout"
        }
      ]
    },
    {
      "cell_type": "code",
      "metadata": {
        "colab": {
          "base_uri": "https://localhost:8080/"
        },
        "id": "U0CkJDssU3WP",
        "outputId": "1a0bdf62-d90c-4967-b147-6dd99342382e"
      },
      "source": [
        "type(treino)"
      ],
      "execution_count": 20,
      "outputs": [
        {
          "output_type": "execute_result",
          "data": {
            "text/plain": [
              "pandas.core.series.Series"
            ]
          },
          "metadata": {
            "tags": []
          },
          "execution_count": 20
        }
      ]
    },
    {
      "cell_type": "code",
      "metadata": {
        "id": "Ra46C5s6U3WP"
      },
      "source": [
        "treino = np.array(treino).reshape(len(treino),1)"
      ],
      "execution_count": 21,
      "outputs": []
    },
    {
      "cell_type": "code",
      "metadata": {
        "colab": {
          "base_uri": "https://localhost:8080/"
        },
        "id": "ma-iREpHU3WP",
        "outputId": "334b8b60-02fd-43b1-96c5-0e2b1a907918"
      },
      "source": [
        "type(treino)"
      ],
      "execution_count": 22,
      "outputs": [
        {
          "output_type": "execute_result",
          "data": {
            "text/plain": [
              "numpy.ndarray"
            ]
          },
          "metadata": {
            "tags": []
          },
          "execution_count": 22
        }
      ]
    },
    {
      "cell_type": "code",
      "metadata": {
        "id": "tSysynkRU3WP"
      },
      "source": [
        "teste = np.array(teste).reshape(len(teste),1)"
      ],
      "execution_count": 23,
      "outputs": []
    },
    {
      "cell_type": "code",
      "metadata": {
        "colab": {
          "base_uri": "https://localhost:8080/"
        },
        "id": "E3fCVpImU3WQ",
        "outputId": "0177b4ef-a9eb-43de-bfcb-b0418ef357cc"
      },
      "source": [
        "type(teste)"
      ],
      "execution_count": 24,
      "outputs": [
        {
          "output_type": "execute_result",
          "data": {
            "text/plain": [
              "numpy.ndarray"
            ]
          },
          "metadata": {
            "tags": []
          },
          "execution_count": 24
        }
      ]
    },
    {
      "cell_type": "code",
      "metadata": {
        "id": "8HUv1IYTU3WQ"
      },
      "source": [
        "treino_bilheteria = np.array(treino_bilheteria).reshape(len(treino_bilheteria),1)\n",
        "teste_bilheteria= np.array(teste_bilheteria).reshape(len(teste_bilheteria),1)"
      ],
      "execution_count": 25,
      "outputs": []
    },
    {
      "cell_type": "code",
      "metadata": {
        "colab": {
          "base_uri": "https://localhost:8080/"
        },
        "id": "Aa2On09mU3WQ",
        "outputId": "779b9675-c847-4851-dd13-edaa45a18e8c"
      },
      "source": [
        "modelo = LinearRegression()\n",
        "modelo.fit(treino, treino_bilheteria)\n",
        "modelo"
      ],
      "execution_count": 26,
      "outputs": [
        {
          "output_type": "execute_result",
          "data": {
            "text/plain": [
              "LinearRegression(copy_X=True, fit_intercept=True, n_jobs=None, normalize=False)"
            ]
          },
          "metadata": {
            "tags": []
          },
          "execution_count": 26
        }
      ]
    },
    {
      "cell_type": "code",
      "metadata": {
        "colab": {
          "base_uri": "https://localhost:8080/"
        },
        "id": "tprPEFfAU3WQ",
        "outputId": "4273fb26-8195-4942-c575-5c8bcfea2c64"
      },
      "source": [
        "modelo.intercept_.round(2)"
      ],
      "execution_count": 27,
      "outputs": [
        {
          "output_type": "execute_result",
          "data": {
            "text/plain": [
              "array([5051816.76])"
            ]
          },
          "metadata": {
            "tags": []
          },
          "execution_count": 27
        }
      ]
    },
    {
      "cell_type": "code",
      "metadata": {
        "colab": {
          "base_uri": "https://localhost:8080/"
        },
        "id": "Mz-1zRA6U3WQ",
        "outputId": "c6aa4caf-68b2-4b89-938e-6b2236ff315d"
      },
      "source": [
        "modelo.coef_.round(2)"
      ],
      "execution_count": 28,
      "outputs": [
        {
          "output_type": "execute_result",
          "data": {
            "text/plain": [
              "array([[98909.23]])"
            ]
          },
          "metadata": {
            "tags": []
          },
          "execution_count": 28
        }
      ]
    },
    {
      "cell_type": "markdown",
      "metadata": {
        "id": "7VfCJeVtU3WR"
      },
      "source": [
        "#### Investimento Zootopia 27.74456356"
      ]
    },
    {
      "cell_type": "code",
      "metadata": {
        "colab": {
          "base_uri": "https://localhost:8080/"
        },
        "id": "traxK9CqU3WR",
        "outputId": "4693fe94-8ed8-4e9d-a515-3e22bda30e84"
      },
      "source": [
        "orcamento_filme=27.74456356\n",
        "\n",
        "investimento=[[orcamento_filme]]\n",
        "\n",
        "modelo.predict(investimento)[0]"
      ],
      "execution_count": 29,
      "outputs": [
        {
          "output_type": "execute_result",
          "data": {
            "text/plain": [
              "array([7796010.1353714])"
            ]
          },
          "metadata": {
            "tags": []
          },
          "execution_count": 29
        }
      ]
    },
    {
      "cell_type": "code",
      "metadata": {
        "colab": {
          "base_uri": "https://localhost:8080/"
        },
        "id": "vcBm1nxQU3WR",
        "outputId": "083b4291-dec8-433e-9441-c7e1cc96831a"
      },
      "source": [
        "modelo.coef_ * 27.74456356 + modelo.intercept_"
      ],
      "execution_count": 30,
      "outputs": [
        {
          "output_type": "execute_result",
          "data": {
            "text/plain": [
              "array([[7796010.1353714]])"
            ]
          },
          "metadata": {
            "tags": []
          },
          "execution_count": 30
        }
      ]
    },
    {
      "cell_type": "code",
      "metadata": {
        "colab": {
          "base_uri": "https://localhost:8080/"
        },
        "id": "dVihxqzoU3WR",
        "outputId": "5b530c1b-d56a-4e0b-b215-902b47daa097"
      },
      "source": [
        "modelo.score(treino, treino_bilheteria).round(2)"
      ],
      "execution_count": 31,
      "outputs": [
        {
          "output_type": "execute_result",
          "data": {
            "text/plain": [
              "0.54"
            ]
          },
          "metadata": {
            "tags": []
          },
          "execution_count": 31
        }
      ]
    },
    {
      "cell_type": "code",
      "metadata": {
        "colab": {
          "base_uri": "https://localhost:8080/"
        },
        "id": "pZOFqWGTU3WR",
        "outputId": "0879693f-c728-4f74-e0b1-a9b9b36022f9"
      },
      "source": [
        "modelo.score(teste, teste_bilheteria).round(2)"
      ],
      "execution_count": 32,
      "outputs": [
        {
          "output_type": "execute_result",
          "data": {
            "text/plain": [
              "0.53"
            ]
          },
          "metadata": {
            "tags": []
          },
          "execution_count": 32
        }
      ]
    },
    {
      "cell_type": "markdown",
      "metadata": {
        "id": "JKELa8JtU3WR"
      },
      "source": [
        "### Testando split dos dados de treino e teste com 10%"
      ]
    },
    {
      "cell_type": "code",
      "metadata": {
        "id": "ie4w0wRxU3WS"
      },
      "source": [
        "treino, teste, treino_bilheteria, teste_bilheteria = train_test_split(filmes_investimento, filmes_bilheteria, test_size=0.10)"
      ],
      "execution_count": 33,
      "outputs": []
    },
    {
      "cell_type": "code",
      "metadata": {
        "id": "WKfcCIbbU3WS"
      },
      "source": [
        "treino = np.array(treino).reshape(len(treino),1)\n",
        "treino_bilheteria = np.array(treino_bilheteria).reshape(len(treino_bilheteria),1)\n",
        "teste_bilheteria= np.array(teste_bilheteria).reshape(len(teste_bilheteria),1)\n",
        "teste = np.array(teste).reshape(len(teste),1)"
      ],
      "execution_count": 34,
      "outputs": []
    },
    {
      "cell_type": "code",
      "metadata": {
        "colab": {
          "base_uri": "https://localhost:8080/"
        },
        "id": "bWPT7U9xU3WS",
        "outputId": "7b54ca4f-4a28-4c0e-9f4c-5cfda796b19a"
      },
      "source": [
        "modelo_10 = LinearRegression()\n",
        "modelo_10.fit(treino, treino_bilheteria)\n",
        "modelo_10"
      ],
      "execution_count": 35,
      "outputs": [
        {
          "output_type": "execute_result",
          "data": {
            "text/plain": [
              "LinearRegression(copy_X=True, fit_intercept=True, n_jobs=None, normalize=False)"
            ]
          },
          "metadata": {
            "tags": []
          },
          "execution_count": 35
        }
      ]
    },
    {
      "cell_type": "markdown",
      "metadata": {
        "id": "v6DX1vrj4N56"
      },
      "source": [
        "Obtendo o coeficiente de determinação (R²) do novo modelo estimado e comparando com o resultado do modelo anterior"
      ]
    },
    {
      "cell_type": "code",
      "metadata": {
        "colab": {
          "base_uri": "https://localhost:8080/"
        },
        "id": "bKAx__N7U3WS",
        "outputId": "1363faa5-e5a7-447c-e825-29c18c389337"
      },
      "source": [
        "print('Modelo simples')\n",
        "print('R² = {}'.format(modelo.score(treino, treino_bilheteria).round(2)))"
      ],
      "execution_count": 39,
      "outputs": [
        {
          "output_type": "stream",
          "text": [
            "Modelo simples\n",
            "R² = 0.54\n"
          ],
          "name": "stdout"
        }
      ]
    },
    {
      "cell_type": "code",
      "metadata": {
        "colab": {
          "base_uri": "https://localhost:8080/"
        },
        "id": "7rg690WLU3WS",
        "outputId": "e547efd4-da4b-42ea-b89b-57d97959a12d"
      },
      "source": [
        "modelo_10.score(teste, teste_bilheteria).round(2)"
      ],
      "execution_count": 37,
      "outputs": [
        {
          "output_type": "execute_result",
          "data": {
            "text/plain": [
              "0.49"
            ]
          },
          "metadata": {
            "tags": []
          },
          "execution_count": 37
        }
      ]
    },
    {
      "cell_type": "code",
      "metadata": {
        "id": "ULNdtJXp4PCg"
      },
      "source": [
        ""
      ],
      "execution_count": null,
      "outputs": []
    }
  ]
}