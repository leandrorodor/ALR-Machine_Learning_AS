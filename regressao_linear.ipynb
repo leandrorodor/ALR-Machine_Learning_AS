{
  "nbformat": 4,
  "nbformat_minor": 0,
  "metadata": {
    "kernelspec": {
      "display_name": "Python 3",
      "language": "python",
      "name": "python3"
    },
    "language_info": {
      "codemirror_mode": {
        "name": "ipython",
        "version": 3
      },
      "file_extension": ".py",
      "mimetype": "text/x-python",
      "name": "python",
      "nbconvert_exporter": "python",
      "pygments_lexer": "ipython3",
      "version": "3.6.5"
    },
    "colab": {
      "name": "626-Aula1.ipynb",
      "provenance": [],
      "toc_visible": true,
      "include_colab_link": true
    }
  },
  "cells": [
    {
      "cell_type": "markdown",
      "metadata": {
        "id": "view-in-github",
        "colab_type": "text"
      },
      "source": [
        "<a href=\"https://colab.research.google.com/github/leandrorodor/ALR-Machine_Learning_AS/blob/main/regressao_linear.ipynb\" target=\"_parent\"><img src=\"https://colab.research.google.com/assets/colab-badge.svg\" alt=\"Open In Colab\"/></a>"
      ]
    },
    {
      "cell_type": "markdown",
      "metadata": {
        "id": "AeWq_Wh9U3WD"
      },
      "source": [
        "## Entendendo os dados"
      ]
    },
    {
      "cell_type": "code",
      "metadata": {
        "id": "-Gf9UlnvU3WH"
      },
      "source": [
        "import pandas as pd\n",
        "import matplotlib.pyplot as plt\n",
        "from sklearn.model_selection import train_test_split\n",
        "from sklearn.linear_model import LinearRegression\n",
        "import numpy as np"
      ],
      "execution_count": 1,
      "outputs": []
    },
    {
      "cell_type": "code",
      "metadata": {
        "id": "FV2UFp0JU3WK"
      },
      "source": [
        "movies = pd.read_csv('/content/sample_data/rla.csv')"
      ],
      "execution_count": 2,
      "outputs": []
    },
    {
      "cell_type": "code",
      "metadata": {
        "colab": {
          "base_uri": "https://localhost:8080/",
          "height": 204
        },
        "id": "97wxed13U3WK",
        "outputId": "00eea072-87b9-44ae-9833-859e125ae970"
      },
      "source": [
        "movies.head()"
      ],
      "execution_count": 3,
      "outputs": [
        {
          "output_type": "execute_result",
          "data": {
            "text/html": [
              "<div>\n",
              "<style scoped>\n",
              "    .dataframe tbody tr th:only-of-type {\n",
              "        vertical-align: middle;\n",
              "    }\n",
              "\n",
              "    .dataframe tbody tr th {\n",
              "        vertical-align: top;\n",
              "    }\n",
              "\n",
              "    .dataframe thead th {\n",
              "        text-align: right;\n",
              "    }\n",
              "</style>\n",
              "<table border=\"1\" class=\"dataframe\">\n",
              "  <thead>\n",
              "    <tr style=\"text-align: right;\">\n",
              "      <th></th>\n",
              "      <th>movieId</th>\n",
              "      <th>Titulo</th>\n",
              "      <th>Investimento (em milhoes)</th>\n",
              "      <th>Bilheteria (pessoas)</th>\n",
              "    </tr>\n",
              "  </thead>\n",
              "  <tbody>\n",
              "    <tr>\n",
              "      <th>0</th>\n",
              "      <td>1</td>\n",
              "      <td>Toy Story (1995)</td>\n",
              "      <td>11.048216</td>\n",
              "      <td>5623234.602</td>\n",
              "    </tr>\n",
              "    <tr>\n",
              "      <th>1</th>\n",
              "      <td>2</td>\n",
              "      <td>Jumanji (1995)</td>\n",
              "      <td>14.927678</td>\n",
              "      <td>5714951.757</td>\n",
              "    </tr>\n",
              "    <tr>\n",
              "      <th>2</th>\n",
              "      <td>3</td>\n",
              "      <td>Grumpier Old Men (1995)</td>\n",
              "      <td>27.114597</td>\n",
              "      <td>9524339.124</td>\n",
              "    </tr>\n",
              "    <tr>\n",
              "      <th>3</th>\n",
              "      <td>4</td>\n",
              "      <td>Waiting to Exhale (1995)</td>\n",
              "      <td>4.994242</td>\n",
              "      <td>6331568.779</td>\n",
              "    </tr>\n",
              "    <tr>\n",
              "      <th>4</th>\n",
              "      <td>5</td>\n",
              "      <td>Father of the Bride Part II (1995)</td>\n",
              "      <td>19.142246</td>\n",
              "      <td>6409617.277</td>\n",
              "    </tr>\n",
              "  </tbody>\n",
              "</table>\n",
              "</div>"
            ],
            "text/plain": [
              "   movieId  ... Bilheteria (pessoas)\n",
              "0        1  ...          5623234.602\n",
              "1        2  ...          5714951.757\n",
              "2        3  ...          9524339.124\n",
              "3        4  ...          6331568.779\n",
              "4        5  ...          6409617.277\n",
              "\n",
              "[5 rows x 4 columns]"
            ]
          },
          "metadata": {
            "tags": []
          },
          "execution_count": 3
        }
      ]
    },
    {
      "cell_type": "code",
      "metadata": {
        "colab": {
          "base_uri": "https://localhost:8080/"
        },
        "id": "unKrMHMsU3WL",
        "outputId": "7dd03a06-f238-4a28-8c21-bd68b615b9f1"
      },
      "source": [
        "movies.shape"
      ],
      "execution_count": 4,
      "outputs": [
        {
          "output_type": "execute_result",
          "data": {
            "text/plain": [
              "(9125, 4)"
            ]
          },
          "metadata": {
            "tags": []
          },
          "execution_count": 4
        }
      ]
    },
    {
      "cell_type": "code",
      "metadata": {
        "id": "qEiJpwtZU3WL"
      },
      "source": [
        "x = movies['Investimento (em milhoes)']"
      ],
      "execution_count": 10,
      "outputs": []
    },
    {
      "cell_type": "code",
      "metadata": {
        "id": "jOY06KDmU3WM"
      },
      "source": [
        "y = movies['Bilheteria (pessoas)']"
      ],
      "execution_count": 6,
      "outputs": []
    },
    {
      "cell_type": "code",
      "metadata": {
        "colab": {
          "base_uri": "https://localhost:8080/",
          "height": 312
        },
        "id": "sb5c9QlJU3WM",
        "outputId": "4e10aaef-bcf9-40d3-f601-22a1595b5057"
      },
      "source": [
        "plt.scatter(x,y)\n",
        "plt.title('Investimento X Bilheteria')\n",
        "plt.xlabel('Investimento (Milhões U$)')\n",
        "plt.ylabel('Bilheteria (Pessoas)')"
      ],
      "execution_count": 21,
      "outputs": [
        {
          "output_type": "execute_result",
          "data": {
            "text/plain": [
              "Text(0, 0.5, 'Bilheteria (Pessoas)')"
            ]
          },
          "metadata": {
            "tags": []
          },
          "execution_count": 21
        },
        {
          "output_type": "display_data",
          "data": {
            "image/png": "[encoded data removed]",
            "text/plain": [
              "<Figure size 432x288 with 1 Axes>"
            ]
          },
          "metadata": {
            "tags": [],
            "needs_background": "light"
          }
        }
      ]
    },
    {
      "cell_type": "code",
      "metadata": {
        "id": "gsoa3ateU3WM"
      },
      "source": [
        "sample = movies.sample(n=200)"
      ],
      "execution_count": 8,
      "outputs": []
    },
    {
      "cell_type": "code",
      "metadata": {
        "id": "6rpGvf_BU3WM"
      },
      "source": [
        "x = sample['Investimento (em milhoes)']"
      ],
      "execution_count": 13,
      "outputs": []
    },
    {
      "cell_type": "code",
      "metadata": {
        "id": "2r24vF3NU3WN"
      },
      "source": [
        "y = sample['Bilheteria (pessoas)']"
      ],
      "execution_count": 14,
      "outputs": []
    },
    {
      "cell_type": "code",
      "metadata": {
        "colab": {
          "base_uri": "https://localhost:8080/",
          "height": 312
        },
        "id": "eqGQLjAIU3WN",
        "outputId": "d83bb50d-03ed-4a81-83d0-65fec432ed29"
      },
      "source": [
        "plt.scatter(x,y)\n",
        "plt.title('Investimento X Bilheteria')\n",
        "plt.xlabel('Investimento (Milhões U$)')\n",
        "plt.ylabel('Bilheteria (Pessoas)')"
      ],
      "execution_count": 22,
      "outputs": [
        {
          "output_type": "execute_result",
          "data": {
            "text/plain": [
              "Text(0, 0.5, 'Bilheteria (Pessoas)')"
            ]
          },
          "metadata": {
            "tags": []
          },
          "execution_count": 22
        },
        {
          "output_type": "display_data",
          "data": {
            "image/png": "[encoded data removed]",
            "text/plain": [
              "<Figure size 432x288 with 1 Axes>"
            ]
          },
          "metadata": {
            "tags": [],
            "needs_background": "light"
          }
        }
      ]
    },
    {
      "cell_type": "markdown",
      "metadata": {
        "id": "dU38pzLcU3WN"
      },
      "source": [
        "## Regressão linear"
      ]
    },
    {
      "cell_type": "code",
      "metadata": {
        "id": "AxQtVX7PU3WN"
      },
      "source": [
        "filmes_investimento = movies['Investimento (em milhoes)']\n",
        "filmes_bilheteria = movies['Bilheteria (pessoas)']"
      ],
      "execution_count": 16,
      "outputs": []
    },
    {
      "cell_type": "code",
      "metadata": {
        "colab": {
          "base_uri": "https://localhost:8080/"
        },
        "id": "Ny1cxTabU3WN",
        "outputId": "c10e658a-b72c-48d7-dd18-9f2a2ca73985"
      },
      "source": [
        "type(filmes_investimento)"
      ],
      "execution_count": 17,
      "outputs": [
        {
          "output_type": "execute_result",
          "data": {
            "text/plain": [
              "pandas.core.series.Series"
            ]
          },
          "metadata": {
            "tags": []
          },
          "execution_count": 17
        }
      ]
    },
    {
      "cell_type": "code",
      "metadata": {
        "colab": {
          "base_uri": "https://localhost:8080/"
        },
        "id": "-ywio8LYU3WO",
        "outputId": "b2f95aeb-5cb7-48e7-fe5d-ef31742d1653"
      },
      "source": [
        "filmes_investimento.head(10)"
      ],
      "execution_count": 25,
      "outputs": [
        {
          "output_type": "execute_result",
          "data": {
            "text/plain": [
              "0    11.048216\n",
              "1    14.927678\n",
              "2    27.114597\n",
              "3     4.994242\n",
              "4    19.142246\n",
              "5     9.977311\n",
              "6    14.257461\n",
              "7     8.871800\n",
              "8    29.112800\n",
              "9     3.695241\n",
              "Name: Investimento (em milhoes), dtype: float64"
            ]
          },
          "metadata": {
            "tags": []
          },
          "execution_count": 25
        }
      ]
    },
    {
      "cell_type": "code",
      "metadata": {
        "colab": {
          "base_uri": "https://localhost:8080/"
        },
        "id": "fwmouhAtU3WO",
        "outputId": "0b3bf636-81fb-466b-a2a1-94632f38fed5"
      },
      "source": [
        "filmes_bilheteria.head(10)"
      ],
      "execution_count": 19,
      "outputs": [
        {
          "output_type": "execute_result",
          "data": {
            "text/plain": [
              "0    5623234.602\n",
              "1    5714951.757\n",
              "2    9524339.124\n",
              "3    6331568.779\n",
              "4    6409617.277\n",
              "5    4956557.317\n",
              "6    4654565.066\n",
              "7    3950017.325\n",
              "8    6850971.551\n",
              "9    5157865.850\n",
              "Name: Bilheteria (pessoas), dtype: float64"
            ]
          },
          "metadata": {
            "tags": []
          },
          "execution_count": 19
        }
      ]
    },
    {
      "cell_type": "code",
      "metadata": {
        "id": "5wA-yR78U3WO"
      },
      "source": [
        "treino, teste, treino_bilheteria, teste_bilheteria = train_test_split(filmes_investimento, filmes_bilheteria)"
      ],
      "execution_count": 26,
      "outputs": []
    },
    {
      "cell_type": "code",
      "metadata": {
        "colab": {
          "base_uri": "https://localhost:8080/"
        },
        "id": "IZBKkN5JU3WO",
        "outputId": "81def6c5-717f-4d47-b256-c12981fcfd8c"
      },
      "source": [
        "print('Tamanho treino: {0} Tamanho teste: {1} Total: {2} ({0} + {1})'.format(len(treino), len(teste), len(filmes_investimento)))"
      ],
      "execution_count": 27,
      "outputs": [
        {
          "output_type": "stream",
          "text": [
            "Tamanho treino: 6843 Tamanho teste: 2282 Total: 9125 (6843 + 2282)\n"
          ],
          "name": "stdout"
        }
      ]
    },
    {
      "cell_type": "code",
      "metadata": {
        "id": "MGgb4tYVU3WP",
        "outputId": "123705c6-4fae-42cc-e0c0-95abd2408928"
      },
      "source": [
        "print('Porcentagem treino {}'.format(len(treino)/len(filmes_investimento)))"
      ],
      "execution_count": null,
      "outputs": [
        {
          "output_type": "stream",
          "text": [
            "Porcentagem treino 0.7499178082191781\n"
          ],
          "name": "stdout"
        }
      ]
    },
    {
      "cell_type": "code",
      "metadata": {
        "colab": {
          "base_uri": "https://localhost:8080/"
        },
        "id": "U0CkJDssU3WP",
        "outputId": "26d27f9f-0bf4-4938-8892-f6ff20ad1f60"
      },
      "source": [
        "type(treino)"
      ],
      "execution_count": 28,
      "outputs": [
        {
          "output_type": "execute_result",
          "data": {
            "text/plain": [
              "pandas.core.series.Series"
            ]
          },
          "metadata": {
            "tags": []
          },
          "execution_count": 28
        }
      ]
    },
    {
      "cell_type": "code",
      "metadata": {
        "id": "Ra46C5s6U3WP"
      },
      "source": [
        "treino = np.array(treino).reshape(len(treino),1)"
      ],
      "execution_count": 29,
      "outputs": []
    },
    {
      "cell_type": "code",
      "metadata": {
        "colab": {
          "base_uri": "https://localhost:8080/"
        },
        "id": "ma-iREpHU3WP",
        "outputId": "b157885d-f0e1-4618-95b4-0dbd34b86f97"
      },
      "source": [
        "type(treino)"
      ],
      "execution_count": 30,
      "outputs": [
        {
          "output_type": "execute_result",
          "data": {
            "text/plain": [
              "numpy.ndarray"
            ]
          },
          "metadata": {
            "tags": []
          },
          "execution_count": 30
        }
      ]
    },
    {
      "cell_type": "code",
      "metadata": {
        "id": "tSysynkRU3WP"
      },
      "source": [
        "teste = np.array(teste).reshape(len(teste),1)"
      ],
      "execution_count": 31,
      "outputs": []
    },
    {
      "cell_type": "code",
      "metadata": {
        "id": "E3fCVpImU3WQ",
        "outputId": "ea306907-ab4f-4b83-8b1a-405cd36c8d61"
      },
      "source": [
        "type(teste)"
      ],
      "execution_count": null,
      "outputs": [
        {
          "output_type": "execute_result",
          "data": {
            "text/plain": [
              "numpy.ndarray"
            ]
          },
          "metadata": {
            "tags": []
          },
          "execution_count": 278
        }
      ]
    },
    {
      "cell_type": "code",
      "metadata": {
        "id": "8HUv1IYTU3WQ"
      },
      "source": [
        "treino_bilheteria = np.array(treino_bilheteria).reshape(len(treino_bilheteria),1)\n",
        "teste_bilheteria= np.array(teste_bilheteria).reshape(len(teste_bilheteria),1)"
      ],
      "execution_count": 32,
      "outputs": []
    },
    {
      "cell_type": "code",
      "metadata": {
        "colab": {
          "base_uri": "https://localhost:8080/"
        },
        "id": "Aa2On09mU3WQ",
        "outputId": "805a11c0-090b-4e3e-c7b9-d3f38e19df09"
      },
      "source": [
        "modelo = LinearRegression()\n",
        "modelo.fit(treino, treino_bilheteria)\n",
        "modelo"
      ],
      "execution_count": 33,
      "outputs": [
        {
          "output_type": "execute_result",
          "data": {
            "text/plain": [
              "LinearRegression(copy_X=True, fit_intercept=True, n_jobs=None, normalize=False)"
            ]
          },
          "metadata": {
            "tags": []
          },
          "execution_count": 33
        }
      ]
    },
    {
      "cell_type": "code",
      "metadata": {
        "colab": {
          "base_uri": "https://localhost:8080/"
        },
        "id": "tprPEFfAU3WQ",
        "outputId": "315a4e4d-cfda-4fff-ef75-7b14f2dd1754"
      },
      "source": [
        "modelo.intercept_.round(2)"
      ],
      "execution_count": 34,
      "outputs": [
        {
          "output_type": "execute_result",
          "data": {
            "text/plain": [
              "array([5064260.88])"
            ]
          },
          "metadata": {
            "tags": []
          },
          "execution_count": 34
        }
      ]
    },
    {
      "cell_type": "code",
      "metadata": {
        "colab": {
          "base_uri": "https://localhost:8080/"
        },
        "id": "Mz-1zRA6U3WQ",
        "outputId": "947c3b72-7059-45f2-ecb8-c1e42879f7d6"
      },
      "source": [
        "modelo.coef_.round(2)"
      ],
      "execution_count": 38,
      "outputs": [
        {
          "output_type": "execute_result",
          "data": {
            "text/plain": [
              "array([[98382.08]])"
            ]
          },
          "metadata": {
            "tags": []
          },
          "execution_count": 38
        }
      ]
    },
    {
      "cell_type": "markdown",
      "metadata": {
        "id": "7VfCJeVtU3WR"
      },
      "source": [
        "#### Investimento Zootopia 27.74456356"
      ]
    },
    {
      "cell_type": "code",
      "metadata": {
        "colab": {
          "base_uri": "https://localhost:8080/"
        },
        "id": "traxK9CqU3WR",
        "outputId": "6d666eec-b2ff-406b-ae3c-70abf0a110a0"
      },
      "source": [
        "orcamento_filme=27.74456356\n",
        "\n",
        "investimento=[[orcamento_filme]]\n",
        "\n",
        "modelo.predict(investimento)[0]"
      ],
      "execution_count": 71,
      "outputs": [
        {
          "output_type": "execute_result",
          "data": {
            "text/plain": [
              "array([7793828.81893035])"
            ]
          },
          "metadata": {
            "tags": []
          },
          "execution_count": 71
        }
      ]
    },
    {
      "cell_type": "code",
      "metadata": {
        "colab": {
          "base_uri": "https://localhost:8080/"
        },
        "id": "vcBm1nxQU3WR",
        "outputId": "7a5ece11-0a57-41b4-e3b0-1ba3e3e032f1"
      },
      "source": [
        "modelo.coef_ * 27.74456356 + modelo.intercept_"
      ],
      "execution_count": 72,
      "outputs": [
        {
          "output_type": "execute_result",
          "data": {
            "text/plain": [
              "array([[7793828.81893035]])"
            ]
          },
          "metadata": {
            "tags": []
          },
          "execution_count": 72
        }
      ]
    },
    {
      "cell_type": "code",
      "metadata": {
        "colab": {
          "base_uri": "https://localhost:8080/"
        },
        "id": "dVihxqzoU3WR",
        "outputId": "f66ffe60-af19-4557-de52-aa8fa9d9e7eb"
      },
      "source": [
        "modelo.score(treino, treino_bilheteria).round(2)"
      ],
      "execution_count": 65,
      "outputs": [
        {
          "output_type": "execute_result",
          "data": {
            "text/plain": [
              "0.53"
            ]
          },
          "metadata": {
            "tags": []
          },
          "execution_count": 65
        }
      ]
    },
    {
      "cell_type": "code",
      "metadata": {
        "colab": {
          "base_uri": "https://localhost:8080/"
        },
        "id": "pZOFqWGTU3WR",
        "outputId": "1aa012ef-ead0-4c12-f0ac-da3b932ce9de"
      },
      "source": [
        "modelo.score(teste, teste_bilheteria).round(2)"
      ],
      "execution_count": 68,
      "outputs": [
        {
          "output_type": "execute_result",
          "data": {
            "text/plain": [
              "0.54"
            ]
          },
          "metadata": {
            "tags": []
          },
          "execution_count": 68
        }
      ]
    },
    {
      "cell_type": "markdown",
      "metadata": {
        "id": "JKELa8JtU3WR"
      },
      "source": [
        "### Testando split dos dados de treino e teste com 10%"
      ]
    },
    {
      "cell_type": "code",
      "metadata": {
        "id": "ie4w0wRxU3WS"
      },
      "source": [
        "treino, teste, treino_bilheteria, teste_bilheteria = train_test_split(filmes_investimento, filmes_bilheteria, test_size=0.10)"
      ],
      "execution_count": 73,
      "outputs": []
    },
    {
      "cell_type": "code",
      "metadata": {
        "id": "WKfcCIbbU3WS"
      },
      "source": [
        "treino = np.array(treino).reshape(len(treino),1)\n",
        "treino_bilheteria = np.array(treino_bilheteria).reshape(len(treino_bilheteria),1)\n",
        "teste_bilheteria= np.array(teste_bilheteria).reshape(len(teste_bilheteria),1)\n",
        "teste = np.array(teste).reshape(len(teste),1)"
      ],
      "execution_count": 74,
      "outputs": []
    },
    {
      "cell_type": "code",
      "metadata": {
        "colab": {
          "base_uri": "https://localhost:8080/"
        },
        "id": "bWPT7U9xU3WS",
        "outputId": "7d456a23-8a64-4ec7-d8d6-eaed38309b44"
      },
      "source": [
        "modelo_10 = LinearRegression()\n",
        "modelo_10.fit(treino, treino_bilheteria)\n",
        "modelo_10"
      ],
      "execution_count": 75,
      "outputs": [
        {
          "output_type": "execute_result",
          "data": {
            "text/plain": [
              "LinearRegression(copy_X=True, fit_intercept=True, n_jobs=None, normalize=False)"
            ]
          },
          "metadata": {
            "tags": []
          },
          "execution_count": 75
        }
      ]
    },
    {
      "cell_type": "code",
      "metadata": {
        "colab": {
          "base_uri": "https://localhost:8080/"
        },
        "id": "bKAx__N7U3WS",
        "outputId": "1a6e224e-102d-4c35-9ace-83e08584abcb"
      },
      "source": [
        "modelo_10.score(treino, treino_bilheteria)"
      ],
      "execution_count": 76,
      "outputs": [
        {
          "output_type": "execute_result",
          "data": {
            "text/plain": [
              "0.5360723234219171"
            ]
          },
          "metadata": {
            "tags": []
          },
          "execution_count": 76
        }
      ]
    },
    {
      "cell_type": "code",
      "metadata": {
        "colab": {
          "base_uri": "https://localhost:8080/"
        },
        "id": "7rg690WLU3WS",
        "outputId": "a2facd95-0b4d-46ff-918e-2212086efa9f"
      },
      "source": [
        "modelo_10.score(teste, teste_bilheteria)"
      ],
      "execution_count": 77,
      "outputs": [
        {
          "output_type": "execute_result",
          "data": {
            "text/plain": [
              "0.5225504266945856"
            ]
          },
          "metadata": {
            "tags": []
          },
          "execution_count": 77
        }
      ]
    }
  ]
}