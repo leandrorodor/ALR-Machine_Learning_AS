{
  "nbformat": 4,
  "nbformat_minor": 0,
  "metadata": {
    "kernelspec": {
      "display_name": "Python 3",
      "language": "python",
      "name": "python3"
    },
    "language_info": {
      "codemirror_mode": {
        "name": "ipython",
        "version": 3
      },
      "file_extension": ".py",
      "mimetype": "text/x-python",
      "name": "python",
      "nbconvert_exporter": "python",
      "pygments_lexer": "ipython3",
      "version": "3.6.5"
    },
    "colab": {
      "name": "626-Aula2.ipynb",
      "provenance": [],
      "toc_visible": true,
      "include_colab_link": true
    }
  },
  "cells": [
    {
      "cell_type": "markdown",
      "metadata": {
        "id": "view-in-github",
        "colab_type": "text"
      },
      "source": [
        "<a href=\"https://colab.research.google.com/github/leandrorodor/ALR-Machine_Learning_AS/blob/main/regressao_linear_multipla.ipynb\" target=\"_parent\"><img src=\"https://colab.research.google.com/assets/colab-badge.svg\" alt=\"Open In Colab\"/></a>"
      ]
    },
    {
      "cell_type": "markdown",
      "metadata": {
        "id": "ligOx-zg5j6u"
      },
      "source": [
        "## Regressão linear múltipla"
      ]
    },
    {
      "cell_type": "code",
      "metadata": {
        "id": "kBR2nP-y5j6z"
      },
      "source": [
        "import pandas as pd\n",
        "from sklearn.model_selection import train_test_split\n",
        "from sklearn.linear_model import LinearRegression\n",
        "import numpy as np"
      ],
      "execution_count": 2,
      "outputs": []
    },
    {
      "cell_type": "markdown",
      "metadata": {
        "id": "oDb9UVNn5j6z"
      },
      "source": [
        "Download Dataset: [rlma.csv](https://s3.amazonaws.com/caelum-online-public/machine-learning-aprendizado-supervisionado/movies_multilinear_reg.csv)"
      ]
    },
    {
      "cell_type": "code",
      "metadata": {
        "id": "uSpTPMtP5j6z"
      },
      "source": [
        "movies = pd.read_csv('/content/sample_data/rlma.csv')"
      ],
      "execution_count": 3,
      "outputs": []
    },
    {
      "cell_type": "code",
      "metadata": {
        "id": "q_xdE9X15j60",
        "outputId": "44b64451-8dd1-4357-d35b-382f04fc107a"
      },
      "source": [
        "type(movies)"
      ],
      "execution_count": null,
      "outputs": [
        {
          "output_type": "execute_result",
          "data": {
            "text/plain": [
              "pandas.core.frame.DataFrame"
            ]
          },
          "metadata": {
            "tags": []
          },
          "execution_count": 82
        }
      ]
    },
    {
      "cell_type": "code",
      "metadata": {
        "id": "EYVH44iE5j60",
        "outputId": "06c4d096-676b-4b63-da39-816d29447857"
      },
      "source": [
        "movies.head(10)"
      ],
      "execution_count": null,
      "outputs": [
        {
          "output_type": "execute_result",
          "data": {
            "text/html": [
              "<div>\n",
              "<style scoped>\n",
              "    .dataframe tbody tr th:only-of-type {\n",
              "        vertical-align: middle;\n",
              "    }\n",
              "\n",
              "    .dataframe tbody tr th {\n",
              "        vertical-align: top;\n",
              "    }\n",
              "\n",
              "    .dataframe thead th {\n",
              "        text-align: right;\n",
              "    }\n",
              "</style>\n",
              "<table border=\"1\" class=\"dataframe\">\n",
              "  <thead>\n",
              "    <tr style=\"text-align: right;\">\n",
              "      <th></th>\n",
              "      <th>movieId</th>\n",
              "      <th>Titulo</th>\n",
              "      <th>Documentary</th>\n",
              "      <th>Sci-Fi</th>\n",
              "      <th>Mystery</th>\n",
              "      <th>Horror</th>\n",
              "      <th>Romance</th>\n",
              "      <th>Thriller</th>\n",
              "      <th>Crime</th>\n",
              "      <th>Fantasy</th>\n",
              "      <th>Comedy</th>\n",
              "      <th>Animation</th>\n",
              "      <th>Children</th>\n",
              "      <th>Drama</th>\n",
              "      <th>Adventure</th>\n",
              "      <th>Duracao</th>\n",
              "      <th>Investimento</th>\n",
              "      <th>Bilheteria</th>\n",
              "    </tr>\n",
              "  </thead>\n",
              "  <tbody>\n",
              "    <tr>\n",
              "      <th>0</th>\n",
              "      <td>1</td>\n",
              "      <td>Toy Story (1995)</td>\n",
              "      <td>0</td>\n",
              "      <td>0</td>\n",
              "      <td>0</td>\n",
              "      <td>0</td>\n",
              "      <td>0</td>\n",
              "      <td>0</td>\n",
              "      <td>0</td>\n",
              "      <td>1</td>\n",
              "      <td>1</td>\n",
              "      <td>1</td>\n",
              "      <td>1</td>\n",
              "      <td>0</td>\n",
              "      <td>1</td>\n",
              "      <td>103.468310</td>\n",
              "      <td>11.048216</td>\n",
              "      <td>5623234.602</td>\n",
              "    </tr>\n",
              "    <tr>\n",
              "      <th>1</th>\n",
              "      <td>2</td>\n",
              "      <td>Jumanji (1995)</td>\n",
              "      <td>0</td>\n",
              "      <td>0</td>\n",
              "      <td>0</td>\n",
              "      <td>0</td>\n",
              "      <td>0</td>\n",
              "      <td>0</td>\n",
              "      <td>0</td>\n",
              "      <td>1</td>\n",
              "      <td>0</td>\n",
              "      <td>0</td>\n",
              "      <td>1</td>\n",
              "      <td>0</td>\n",
              "      <td>1</td>\n",
              "      <td>112.337916</td>\n",
              "      <td>14.927678</td>\n",
              "      <td>5714951.757</td>\n",
              "    </tr>\n",
              "    <tr>\n",
              "      <th>2</th>\n",
              "      <td>3</td>\n",
              "      <td>Grumpier Old Men (1995)</td>\n",
              "      <td>0</td>\n",
              "      <td>0</td>\n",
              "      <td>0</td>\n",
              "      <td>0</td>\n",
              "      <td>1</td>\n",
              "      <td>0</td>\n",
              "      <td>0</td>\n",
              "      <td>0</td>\n",
              "      <td>1</td>\n",
              "      <td>0</td>\n",
              "      <td>0</td>\n",
              "      <td>0</td>\n",
              "      <td>0</td>\n",
              "      <td>116.245732</td>\n",
              "      <td>27.114597</td>\n",
              "      <td>9524339.124</td>\n",
              "    </tr>\n",
              "    <tr>\n",
              "      <th>3</th>\n",
              "      <td>4</td>\n",
              "      <td>Waiting to Exhale (1995)</td>\n",
              "      <td>0</td>\n",
              "      <td>0</td>\n",
              "      <td>0</td>\n",
              "      <td>0</td>\n",
              "      <td>1</td>\n",
              "      <td>0</td>\n",
              "      <td>0</td>\n",
              "      <td>0</td>\n",
              "      <td>1</td>\n",
              "      <td>0</td>\n",
              "      <td>0</td>\n",
              "      <td>1</td>\n",
              "      <td>0</td>\n",
              "      <td>120.317732</td>\n",
              "      <td>4.994242</td>\n",
              "      <td>6331568.779</td>\n",
              "    </tr>\n",
              "    <tr>\n",
              "      <th>4</th>\n",
              "      <td>5</td>\n",
              "      <td>Father of the Bride Part II (1995)</td>\n",
              "      <td>0</td>\n",
              "      <td>0</td>\n",
              "      <td>0</td>\n",
              "      <td>0</td>\n",
              "      <td>0</td>\n",
              "      <td>0</td>\n",
              "      <td>0</td>\n",
              "      <td>0</td>\n",
              "      <td>1</td>\n",
              "      <td>0</td>\n",
              "      <td>0</td>\n",
              "      <td>0</td>\n",
              "      <td>0</td>\n",
              "      <td>110.023572</td>\n",
              "      <td>19.142246</td>\n",
              "      <td>6409617.277</td>\n",
              "    </tr>\n",
              "    <tr>\n",
              "      <th>5</th>\n",
              "      <td>6</td>\n",
              "      <td>Heat (1995)</td>\n",
              "      <td>0</td>\n",
              "      <td>0</td>\n",
              "      <td>0</td>\n",
              "      <td>0</td>\n",
              "      <td>0</td>\n",
              "      <td>1</td>\n",
              "      <td>1</td>\n",
              "      <td>0</td>\n",
              "      <td>0</td>\n",
              "      <td>0</td>\n",
              "      <td>0</td>\n",
              "      <td>0</td>\n",
              "      <td>0</td>\n",
              "      <td>97.324845</td>\n",
              "      <td>9.977311</td>\n",
              "      <td>4956557.317</td>\n",
              "    </tr>\n",
              "    <tr>\n",
              "      <th>6</th>\n",
              "      <td>7</td>\n",
              "      <td>Sabrina (1995)</td>\n",
              "      <td>0</td>\n",
              "      <td>0</td>\n",
              "      <td>0</td>\n",
              "      <td>0</td>\n",
              "      <td>1</td>\n",
              "      <td>0</td>\n",
              "      <td>0</td>\n",
              "      <td>0</td>\n",
              "      <td>1</td>\n",
              "      <td>0</td>\n",
              "      <td>0</td>\n",
              "      <td>0</td>\n",
              "      <td>0</td>\n",
              "      <td>88.978893</td>\n",
              "      <td>14.257461</td>\n",
              "      <td>4654565.066</td>\n",
              "    </tr>\n",
              "    <tr>\n",
              "      <th>7</th>\n",
              "      <td>8</td>\n",
              "      <td>Tom and Huck (1995)</td>\n",
              "      <td>0</td>\n",
              "      <td>0</td>\n",
              "      <td>0</td>\n",
              "      <td>0</td>\n",
              "      <td>0</td>\n",
              "      <td>0</td>\n",
              "      <td>0</td>\n",
              "      <td>0</td>\n",
              "      <td>0</td>\n",
              "      <td>0</td>\n",
              "      <td>1</td>\n",
              "      <td>0</td>\n",
              "      <td>1</td>\n",
              "      <td>78.536011</td>\n",
              "      <td>8.871800</td>\n",
              "      <td>3950017.325</td>\n",
              "    </tr>\n",
              "    <tr>\n",
              "      <th>8</th>\n",
              "      <td>9</td>\n",
              "      <td>Sudden Death (1995)</td>\n",
              "      <td>0</td>\n",
              "      <td>0</td>\n",
              "      <td>0</td>\n",
              "      <td>0</td>\n",
              "      <td>0</td>\n",
              "      <td>0</td>\n",
              "      <td>0</td>\n",
              "      <td>0</td>\n",
              "      <td>0</td>\n",
              "      <td>0</td>\n",
              "      <td>0</td>\n",
              "      <td>0</td>\n",
              "      <td>0</td>\n",
              "      <td>104.934703</td>\n",
              "      <td>29.112800</td>\n",
              "      <td>6850971.551</td>\n",
              "    </tr>\n",
              "    <tr>\n",
              "      <th>9</th>\n",
              "      <td>10</td>\n",
              "      <td>GoldenEye (1995)</td>\n",
              "      <td>0</td>\n",
              "      <td>0</td>\n",
              "      <td>0</td>\n",
              "      <td>0</td>\n",
              "      <td>0</td>\n",
              "      <td>1</td>\n",
              "      <td>0</td>\n",
              "      <td>0</td>\n",
              "      <td>0</td>\n",
              "      <td>0</td>\n",
              "      <td>0</td>\n",
              "      <td>0</td>\n",
              "      <td>1</td>\n",
              "      <td>105.899475</td>\n",
              "      <td>3.695241</td>\n",
              "      <td>5157865.850</td>\n",
              "    </tr>\n",
              "  </tbody>\n",
              "</table>\n",
              "</div>"
            ],
            "text/plain": [
              "   movieId                              Titulo  Documentary  Sci-Fi  Mystery  \\\n",
              "0        1                    Toy Story (1995)            0       0        0   \n",
              "1        2                      Jumanji (1995)            0       0        0   \n",
              "2        3             Grumpier Old Men (1995)            0       0        0   \n",
              "3        4            Waiting to Exhale (1995)            0       0        0   \n",
              "4        5  Father of the Bride Part II (1995)            0       0        0   \n",
              "5        6                         Heat (1995)            0       0        0   \n",
              "6        7                      Sabrina (1995)            0       0        0   \n",
              "7        8                 Tom and Huck (1995)            0       0        0   \n",
              "8        9                 Sudden Death (1995)            0       0        0   \n",
              "9       10                    GoldenEye (1995)            0       0        0   \n",
              "\n",
              "   Horror  Romance  Thriller  Crime  Fantasy  Comedy  Animation  Children  \\\n",
              "0       0        0         0      0        1       1          1         1   \n",
              "1       0        0         0      0        1       0          0         1   \n",
              "2       0        1         0      0        0       1          0         0   \n",
              "3       0        1         0      0        0       1          0         0   \n",
              "4       0        0         0      0        0       1          0         0   \n",
              "5       0        0         1      1        0       0          0         0   \n",
              "6       0        1         0      0        0       1          0         0   \n",
              "7       0        0         0      0        0       0          0         1   \n",
              "8       0        0         0      0        0       0          0         0   \n",
              "9       0        0         1      0        0       0          0         0   \n",
              "\n",
              "   Drama  Adventure     Duracao  Investimento   Bilheteria  \n",
              "0      0          1  103.468310     11.048216  5623234.602  \n",
              "1      0          1  112.337916     14.927678  5714951.757  \n",
              "2      0          0  116.245732     27.114597  9524339.124  \n",
              "3      1          0  120.317732      4.994242  6331568.779  \n",
              "4      0          0  110.023572     19.142246  6409617.277  \n",
              "5      0          0   97.324845      9.977311  4956557.317  \n",
              "6      0          0   88.978893     14.257461  4654565.066  \n",
              "7      0          1   78.536011      8.871800  3950017.325  \n",
              "8      0          0  104.934703     29.112800  6850971.551  \n",
              "9      0          1  105.899475      3.695241  5157865.850  "
            ]
          },
          "metadata": {
            "tags": []
          },
          "execution_count": 83
        }
      ]
    },
    {
      "cell_type": "code",
      "metadata": {
        "colab": {
          "base_uri": "https://localhost:8080/"
        },
        "id": "bTlTjpUX5j61",
        "outputId": "e8fd38cb-4b31-4574-a9f5-7e60fe1a2a32"
      },
      "source": [
        "movies.shape"
      ],
      "execution_count": 4,
      "outputs": [
        {
          "output_type": "execute_result",
          "data": {
            "text/plain": [
              "(9125, 18)"
            ]
          },
          "metadata": {
            "tags": []
          },
          "execution_count": 4
        }
      ]
    },
    {
      "cell_type": "code",
      "metadata": {
        "id": "LJY8f78T5j61"
      },
      "source": [
        "filmes_independente = movies[movies.columns[2:17]]"
      ],
      "execution_count": 8,
      "outputs": []
    },
    {
      "cell_type": "code",
      "metadata": {
        "colab": {
          "base_uri": "https://localhost:8080/"
        },
        "id": "fiS4kFEq5j61",
        "outputId": "cbf7b6fc-a8d0-4e2b-c9d7-479443ba4c62"
      },
      "source": [
        "type(filmes_independente)"
      ],
      "execution_count": 9,
      "outputs": [
        {
          "output_type": "execute_result",
          "data": {
            "text/plain": [
              "pandas.core.frame.DataFrame"
            ]
          },
          "metadata": {
            "tags": []
          },
          "execution_count": 9
        }
      ]
    },
    {
      "cell_type": "code",
      "metadata": {
        "id": "IXWRsqmW5j61"
      },
      "source": [
        "filmes_dependente = movies[movies.columns[17:]]"
      ],
      "execution_count": 10,
      "outputs": []
    },
    {
      "cell_type": "code",
      "metadata": {
        "colab": {
          "base_uri": "https://localhost:8080/",
          "height": 419
        },
        "id": "iN5ouMBm6EQ0",
        "outputId": "90ddc2dc-7554-4683-e0ee-e9d8db23be58"
      },
      "source": [
        "filmes_dependente"
      ],
      "execution_count": 11,
      "outputs": [
        {
          "output_type": "execute_result",
          "data": {
            "text/html": [
              "<div>\n",
              "<style scoped>\n",
              "    .dataframe tbody tr th:only-of-type {\n",
              "        vertical-align: middle;\n",
              "    }\n",
              "\n",
              "    .dataframe tbody tr th {\n",
              "        vertical-align: top;\n",
              "    }\n",
              "\n",
              "    .dataframe thead th {\n",
              "        text-align: right;\n",
              "    }\n",
              "</style>\n",
              "<table border=\"1\" class=\"dataframe\">\n",
              "  <thead>\n",
              "    <tr style=\"text-align: right;\">\n",
              "      <th></th>\n",
              "      <th>Bilheteria</th>\n",
              "    </tr>\n",
              "  </thead>\n",
              "  <tbody>\n",
              "    <tr>\n",
              "      <th>0</th>\n",
              "      <td>5.623235e+06</td>\n",
              "    </tr>\n",
              "    <tr>\n",
              "      <th>1</th>\n",
              "      <td>5.714952e+06</td>\n",
              "    </tr>\n",
              "    <tr>\n",
              "      <th>2</th>\n",
              "      <td>9.524339e+06</td>\n",
              "    </tr>\n",
              "    <tr>\n",
              "      <th>3</th>\n",
              "      <td>6.331569e+06</td>\n",
              "    </tr>\n",
              "    <tr>\n",
              "      <th>4</th>\n",
              "      <td>6.409617e+06</td>\n",
              "    </tr>\n",
              "    <tr>\n",
              "      <th>...</th>\n",
              "      <td>...</td>\n",
              "    </tr>\n",
              "    <tr>\n",
              "      <th>9120</th>\n",
              "      <td>6.318999e+06</td>\n",
              "    </tr>\n",
              "    <tr>\n",
              "      <th>9121</th>\n",
              "      <td>5.300340e+06</td>\n",
              "    </tr>\n",
              "    <tr>\n",
              "      <th>9122</th>\n",
              "      <td>6.945211e+06</td>\n",
              "    </tr>\n",
              "    <tr>\n",
              "      <th>9123</th>\n",
              "      <td>6.459004e+06</td>\n",
              "    </tr>\n",
              "    <tr>\n",
              "      <th>9124</th>\n",
              "      <td>1.063624e+07</td>\n",
              "    </tr>\n",
              "  </tbody>\n",
              "</table>\n",
              "<p>9125 rows × 1 columns</p>\n",
              "</div>"
            ],
            "text/plain": [
              "        Bilheteria\n",
              "0     5.623235e+06\n",
              "1     5.714952e+06\n",
              "2     9.524339e+06\n",
              "3     6.331569e+06\n",
              "4     6.409617e+06\n",
              "...            ...\n",
              "9120  6.318999e+06\n",
              "9121  5.300340e+06\n",
              "9122  6.945211e+06\n",
              "9123  6.459004e+06\n",
              "9124  1.063624e+07\n",
              "\n",
              "[9125 rows x 1 columns]"
            ]
          },
          "metadata": {
            "tags": []
          },
          "execution_count": 11
        }
      ]
    },
    {
      "cell_type": "code",
      "metadata": {
        "id": "Ps07ZNiM5j62",
        "outputId": "512292a0-e6d0-4fc4-bc56-1b258eb35908"
      },
      "source": [
        "type(filmes_dependente)"
      ],
      "execution_count": null,
      "outputs": [
        {
          "output_type": "execute_result",
          "data": {
            "text/plain": [
              "pandas.core.frame.DataFrame"
            ]
          },
          "metadata": {
            "tags": []
          },
          "execution_count": 88
        }
      ]
    },
    {
      "cell_type": "code",
      "metadata": {
        "id": "s0919kqN5j62"
      },
      "source": [
        "train, test, train_bilheteria, test_bilheteria = train_test_split(filmes_independente, filmes_dependente)"
      ],
      "execution_count": null,
      "outputs": []
    },
    {
      "cell_type": "code",
      "metadata": {
        "id": "Q8u-G7Xh5j62",
        "outputId": "a20c95d5-63e3-4fcb-902b-7b2b376b70ef"
      },
      "source": [
        "train.head()"
      ],
      "execution_count": null,
      "outputs": [
        {
          "output_type": "execute_result",
          "data": {
            "text/html": [
              "<div>\n",
              "<style scoped>\n",
              "    .dataframe tbody tr th:only-of-type {\n",
              "        vertical-align: middle;\n",
              "    }\n",
              "\n",
              "    .dataframe tbody tr th {\n",
              "        vertical-align: top;\n",
              "    }\n",
              "\n",
              "    .dataframe thead th {\n",
              "        text-align: right;\n",
              "    }\n",
              "</style>\n",
              "<table border=\"1\" class=\"dataframe\">\n",
              "  <thead>\n",
              "    <tr style=\"text-align: right;\">\n",
              "      <th></th>\n",
              "      <th>Documentary</th>\n",
              "      <th>Sci-Fi</th>\n",
              "      <th>Mystery</th>\n",
              "      <th>Horror</th>\n",
              "      <th>Romance</th>\n",
              "      <th>Thriller</th>\n",
              "      <th>Crime</th>\n",
              "      <th>Fantasy</th>\n",
              "      <th>Comedy</th>\n",
              "      <th>Animation</th>\n",
              "      <th>Children</th>\n",
              "      <th>Drama</th>\n",
              "      <th>Adventure</th>\n",
              "      <th>Duracao</th>\n",
              "      <th>Investimento</th>\n",
              "    </tr>\n",
              "  </thead>\n",
              "  <tbody>\n",
              "    <tr>\n",
              "      <th>7505</th>\n",
              "      <td>0</td>\n",
              "      <td>0</td>\n",
              "      <td>0</td>\n",
              "      <td>0</td>\n",
              "      <td>0</td>\n",
              "      <td>0</td>\n",
              "      <td>1</td>\n",
              "      <td>0</td>\n",
              "      <td>1</td>\n",
              "      <td>0</td>\n",
              "      <td>0</td>\n",
              "      <td>0</td>\n",
              "      <td>0</td>\n",
              "      <td>111.247325</td>\n",
              "      <td>41.496397</td>\n",
              "    </tr>\n",
              "    <tr>\n",
              "      <th>909</th>\n",
              "      <td>0</td>\n",
              "      <td>0</td>\n",
              "      <td>0</td>\n",
              "      <td>0</td>\n",
              "      <td>0</td>\n",
              "      <td>0</td>\n",
              "      <td>0</td>\n",
              "      <td>0</td>\n",
              "      <td>0</td>\n",
              "      <td>0</td>\n",
              "      <td>0</td>\n",
              "      <td>1</td>\n",
              "      <td>0</td>\n",
              "      <td>129.757430</td>\n",
              "      <td>3.751061</td>\n",
              "    </tr>\n",
              "    <tr>\n",
              "      <th>8308</th>\n",
              "      <td>0</td>\n",
              "      <td>0</td>\n",
              "      <td>0</td>\n",
              "      <td>0</td>\n",
              "      <td>0</td>\n",
              "      <td>0</td>\n",
              "      <td>0</td>\n",
              "      <td>0</td>\n",
              "      <td>1</td>\n",
              "      <td>0</td>\n",
              "      <td>0</td>\n",
              "      <td>0</td>\n",
              "      <td>0</td>\n",
              "      <td>139.792106</td>\n",
              "      <td>32.107787</td>\n",
              "    </tr>\n",
              "    <tr>\n",
              "      <th>416</th>\n",
              "      <td>0</td>\n",
              "      <td>0</td>\n",
              "      <td>0</td>\n",
              "      <td>0</td>\n",
              "      <td>1</td>\n",
              "      <td>0</td>\n",
              "      <td>0</td>\n",
              "      <td>0</td>\n",
              "      <td>1</td>\n",
              "      <td>0</td>\n",
              "      <td>0</td>\n",
              "      <td>0</td>\n",
              "      <td>0</td>\n",
              "      <td>120.752073</td>\n",
              "      <td>6.473384</td>\n",
              "    </tr>\n",
              "    <tr>\n",
              "      <th>4728</th>\n",
              "      <td>0</td>\n",
              "      <td>0</td>\n",
              "      <td>0</td>\n",
              "      <td>0</td>\n",
              "      <td>0</td>\n",
              "      <td>0</td>\n",
              "      <td>0</td>\n",
              "      <td>0</td>\n",
              "      <td>0</td>\n",
              "      <td>0</td>\n",
              "      <td>0</td>\n",
              "      <td>0</td>\n",
              "      <td>0</td>\n",
              "      <td>96.975762</td>\n",
              "      <td>4.128282</td>\n",
              "    </tr>\n",
              "  </tbody>\n",
              "</table>\n",
              "</div>"
            ],
            "text/plain": [
              "      Documentary  Sci-Fi  Mystery  Horror  Romance  Thriller  Crime  Fantasy  \\\n",
              "7505            0       0        0       0        0         0      1        0   \n",
              "909             0       0        0       0        0         0      0        0   \n",
              "8308            0       0        0       0        0         0      0        0   \n",
              "416             0       0        0       0        1         0      0        0   \n",
              "4728            0       0        0       0        0         0      0        0   \n",
              "\n",
              "      Comedy  Animation  Children  Drama  Adventure     Duracao  Investimento  \n",
              "7505       1          0         0      0          0  111.247325     41.496397  \n",
              "909        0          0         0      1          0  129.757430      3.751061  \n",
              "8308       1          0         0      0          0  139.792106     32.107787  \n",
              "416        1          0         0      0          0  120.752073      6.473384  \n",
              "4728       0          0         0      0          0   96.975762      4.128282  "
            ]
          },
          "metadata": {
            "tags": []
          },
          "execution_count": 90
        }
      ]
    },
    {
      "cell_type": "code",
      "metadata": {
        "id": "zsKKYM0V5j62",
        "outputId": "690d8525-b04e-43d1-db3a-d35f8ec21b23"
      },
      "source": [
        "train.shape[0]"
      ],
      "execution_count": null,
      "outputs": [
        {
          "output_type": "execute_result",
          "data": {
            "text/plain": [
              "6843"
            ]
          },
          "metadata": {
            "tags": []
          },
          "execution_count": 91
        }
      ]
    },
    {
      "cell_type": "code",
      "metadata": {
        "id": "Dy1guWQA5j63",
        "outputId": "0adee925-c25c-4917-b886-7f082ca15e16"
      },
      "source": [
        "test.shape[0]"
      ],
      "execution_count": null,
      "outputs": [
        {
          "output_type": "execute_result",
          "data": {
            "text/plain": [
              "2282"
            ]
          },
          "metadata": {
            "tags": []
          },
          "execution_count": 92
        }
      ]
    },
    {
      "cell_type": "code",
      "metadata": {
        "id": "ig_BaWA65j63",
        "outputId": "9b58634b-f5fd-4cb1-e61e-97410a8a8b02"
      },
      "source": [
        "modelo = LinearRegression()\n",
        "modelo.fit(train,train_bilheteria)"
      ],
      "execution_count": null,
      "outputs": [
        {
          "output_type": "execute_result",
          "data": {
            "text/plain": [
              "LinearRegression(copy_X=True, fit_intercept=True, n_jobs=1, normalize=False)"
            ]
          },
          "metadata": {
            "tags": []
          },
          "execution_count": 93
        }
      ]
    },
    {
      "cell_type": "markdown",
      "metadata": {
        "id": "Ogjrq3kI5j63"
      },
      "source": [
        "#### 1,Toy Story (1995),0,0,0,0,0,0,0,1,1,1,1,0,1,103.4683096,11.04821649,5623234.602"
      ]
    },
    {
      "cell_type": "code",
      "metadata": {
        "id": "XF8Ed9xq5j63",
        "outputId": "cd3f9f79-0897-4ece-c91d-e6d6f0e36e61"
      },
      "source": [
        "modelo.predict([[0,0,0,0,0,0,0,1,1,1,1,0,1,103.4683096,11.04821649]])"
      ],
      "execution_count": null,
      "outputs": [
        {
          "output_type": "execute_result",
          "data": {
            "text/plain": [
              "array([[ 5828627.96965683]])"
            ]
          },
          "metadata": {
            "tags": []
          },
          "execution_count": 94
        }
      ]
    },
    {
      "cell_type": "code",
      "metadata": {
        "id": "PugfMf0y5j63",
        "outputId": "5fe043fd-06e6-4adc-b52b-b208ed0c41c0"
      },
      "source": [
        "modelo.score(train, train_bilheteria)"
      ],
      "execution_count": null,
      "outputs": [
        {
          "output_type": "execute_result",
          "data": {
            "text/plain": [
              "0.82728993267807627"
            ]
          },
          "metadata": {
            "tags": []
          },
          "execution_count": 95
        }
      ]
    },
    {
      "cell_type": "code",
      "metadata": {
        "id": "JyE9v1je5j64",
        "outputId": "760d5767-6739-41cc-eb5c-00e199095a2c"
      },
      "source": [
        "modelo.coef_"
      ],
      "execution_count": null,
      "outputs": [
        {
          "output_type": "execute_result",
          "data": {
            "text/plain": [
              "array([[ 42655.97503496,   6338.33598592, -13818.76605525, -23915.64582939,\n",
              "         24775.47891531,  15437.82939179,  13901.13435994,  17001.12069112,\n",
              "         -5758.97665963,  14581.77792254,  12879.50700613, -10960.33103084,\n",
              "        -61189.27789748,  45674.3003098 ,  98955.21832726]])"
            ]
          },
          "metadata": {
            "tags": []
          },
          "execution_count": 96
        }
      ]
    },
    {
      "cell_type": "code",
      "metadata": {
        "id": "4qAmQoET5j64",
        "outputId": "6d62b892-fe0d-4479-fc49-6079cc66190b"
      },
      "source": [
        "modelo.intercept_"
      ],
      "execution_count": null,
      "outputs": [
        {
          "output_type": "execute_result",
          "data": {
            "text/plain": [
              "array([ 31992.49848156])"
            ]
          },
          "metadata": {
            "tags": []
          },
          "execution_count": 97
        }
      ]
    },
    {
      "cell_type": "code",
      "metadata": {
        "id": "fZZGKPrX5j64",
        "outputId": "32cbbf49-3fe6-444a-8cca-d2104f8a2616"
      },
      "source": [
        "modelo.score(test, test_bilheteria)"
      ],
      "execution_count": null,
      "outputs": [
        {
          "output_type": "execute_result",
          "data": {
            "text/plain": [
              "0.82868767262936649"
            ]
          },
          "metadata": {
            "tags": []
          },
          "execution_count": 98
        }
      ]
    },
    {
      "cell_type": "markdown",
      "metadata": {
        "id": "GAstEifp5j64"
      },
      "source": [
        "#### Zootopia\n",
        "```\n",
        "movieId,Titulo,Documentary,Sci-Fi,Mystery,Horror,Romance,Thriller,Crime,Fantasy,Comedy,Animation,Children,Drama,Adventure,Duracao,Investimento,Bilheteria\n",
        "9999999,Zootopia,0,0,0,0,0,0,0,1,1,1,1,0,1,110,27.74456356,?????\n",
        "```"
      ]
    },
    {
      "cell_type": "code",
      "metadata": {
        "id": "APPFMcZ35j64",
        "outputId": "aa7e5843-795f-42e6-a67e-e8a1cc8956fc"
      },
      "source": [
        "zootopia = [0,0,0,0,0,0,0,1,1,1,1,0,1,110,27.74456356]\n",
        "modelo.predict([zootopia])"
      ],
      "execution_count": null,
      "outputs": [
        {
          "output_type": "execute_result",
          "data": {
            "text/plain": [
              "array([[ 7779149.0280967]])"
            ]
          },
          "metadata": {
            "tags": []
          },
          "execution_count": 99
        }
      ]
    },
    {
      "cell_type": "markdown",
      "metadata": {
        "id": "CllQrlZU5j65"
      },
      "source": [
        "### Split dos dados com test_size=0.3"
      ]
    },
    {
      "cell_type": "code",
      "metadata": {
        "id": "0wudPsaQ5j65"
      },
      "source": [
        "train, test, train_bilheteria, test_bilheteria = train_test_split(filmes_independente, filmes_dependente, test_size=0.3)"
      ],
      "execution_count": null,
      "outputs": []
    },
    {
      "cell_type": "code",
      "metadata": {
        "id": "2Hy72hW25j65",
        "outputId": "f66b2900-f93b-40f4-da14-02e7e374f968"
      },
      "source": [
        "modelo_30 = LinearRegression()\n",
        "modelo_30.fit(train,train_bilheteria)"
      ],
      "execution_count": null,
      "outputs": [
        {
          "output_type": "execute_result",
          "data": {
            "text/plain": [
              "LinearRegression(copy_X=True, fit_intercept=True, n_jobs=1, normalize=False)"
            ]
          },
          "metadata": {
            "tags": []
          },
          "execution_count": 101
        }
      ]
    },
    {
      "cell_type": "code",
      "metadata": {
        "id": "CQc54qqi5j65",
        "outputId": "121bb0ec-99e6-4257-e205-3ed060738f50"
      },
      "source": [
        "modelo_30.score(test, test_bilheteria)"
      ],
      "execution_count": null,
      "outputs": [
        {
          "output_type": "execute_result",
          "data": {
            "text/plain": [
              "0.8324125338489522"
            ]
          },
          "metadata": {
            "tags": []
          },
          "execution_count": 102
        }
      ]
    },
    {
      "cell_type": "code",
      "metadata": {
        "id": "M9tXj0KF5j65",
        "outputId": "e7a7512e-c858-4973-c666-9d2a4e86775a"
      },
      "source": [
        "zootopia = [0,0,0,0,0,0,0,0,1,1,1,0,1,145.5170642,3.451632127]\n",
        "modelo.predict([zootopia])"
      ],
      "execution_count": null,
      "outputs": [
        {
          "output_type": "execute_result",
          "data": {
            "text/plain": [
              "array([[ 6980452.63003705]])"
            ]
          },
          "metadata": {
            "tags": []
          },
          "execution_count": 103
        }
      ]
    },
    {
      "cell_type": "code",
      "metadata": {
        "id": "k0WfDaiB5j65",
        "outputId": "87048933-d431-4dc6-dc38-d22e87b956c3"
      },
      "source": [
        "planeta_macaco = [0,1,0,0,0,0,0,0,0,0,0,0,0,150,5]\n",
        "modelo.predict([planeta_macaco])"
      ],
      "execution_count": null,
      "outputs": [
        {
          "output_type": "execute_result",
          "data": {
            "text/plain": [
              "array([[ 7384251.97257379]])"
            ]
          },
          "metadata": {
            "tags": []
          },
          "execution_count": 104
        }
      ]
    }
  ]
}