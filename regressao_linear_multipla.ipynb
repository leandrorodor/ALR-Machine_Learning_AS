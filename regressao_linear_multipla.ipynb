{
  "nbformat": 4,
  "nbformat_minor": 0,
  "metadata": {
    "kernelspec": {
      "display_name": "Python 3",
      "language": "python",
      "name": "python3"
    },
    "language_info": {
      "codemirror_mode": {
        "name": "ipython",
        "version": 3
      },
      "file_extension": ".py",
      "mimetype": "text/x-python",
      "name": "python",
      "nbconvert_exporter": "python",
      "pygments_lexer": "ipython3",
      "version": "3.6.5"
    },
    "colab": {
      "name": "626-Aula2.ipynb",
      "provenance": [],
      "toc_visible": true,
      "include_colab_link": true
    }
  },
  "cells": [
    {
      "cell_type": "markdown",
      "metadata": {
        "id": "view-in-github",
        "colab_type": "text"
      },
      "source": [
        "<a href=\"https://colab.research.google.com/github/leandrorodor/ALR-Machine_Learning_AS/blob/main/regressao_linear_multipla.ipynb\" target=\"_parent\"><img src=\"https://colab.research.google.com/assets/colab-badge.svg\" alt=\"Open In Colab\"/></a>"
      ]
    },
    {
      "cell_type": "markdown",
      "metadata": {
        "id": "ligOx-zg5j6u"
      },
      "source": [
        "# Regressão linear múltipla\n",
        "A análise de regressão diz respeito ao estudo da dependência de uma variável (a variável dependente) em relação a uma ou mais variáveis, as variáveis explanatórias, visando estimar e/ou prever o valor médio da primeira em termos dos valores conhecidos ou fixados das segundas."
      ]
    },
    {
      "cell_type": "markdown",
      "metadata": {
        "id": "LP79H0YNEKn5"
      },
      "source": [
        "# <font color='red' style='font-size: 30px;'>Conhecendo o Dataset</font>\n",
        "<hr style='border: 2px solid red;'>"
      ]
    },
    {
      "cell_type": "markdown",
      "metadata": {
        "id": "6CvS-NC7UJ3V"
      },
      "source": [
        "## Importando bibliotecas"
      ]
    },
    {
      "cell_type": "code",
      "metadata": {
        "id": "kBR2nP-y5j6z"
      },
      "source": [
        "import pandas as pd\n",
        "from sklearn.model_selection import train_test_split\n",
        "from sklearn.linear_model import LinearRegression\n",
        "from sklearn import metrics\n",
        "import numpy as np\n",
        "import matplotlib.pyplot as plt\n",
        "%matplotlib inline"
      ],
      "execution_count": 2,
      "outputs": []
    },
    {
      "cell_type": "markdown",
      "metadata": {
        "id": "POfg56ydUV0y"
      },
      "source": [
        "## Leitura dos dados"
      ]
    },
    {
      "cell_type": "markdown",
      "metadata": {
        "id": "oDb9UVNn5j6z"
      },
      "source": [
        "Download Dataset: [rlma.csv](https://s3.amazonaws.com/caelum-online-public/machine-learning-aprendizado-supervisionado/movies_multilinear_reg.csv)"
      ]
    },
    {
      "cell_type": "code",
      "metadata": {
        "id": "uSpTPMtP5j6z"
      },
      "source": [
        "movies = pd.read_csv('/content/sample_data/rlma.csv')"
      ],
      "execution_count": 3,
      "outputs": []
    },
    {
      "cell_type": "code",
      "metadata": {
        "colab": {
          "base_uri": "https://localhost:8080/"
        },
        "id": "q_xdE9X15j60",
        "outputId": "e85dd5b4-fb98-4da0-b10b-45cd51ab2136"
      },
      "source": [
        "type(movies)"
      ],
      "execution_count": 4,
      "outputs": [
        {
          "output_type": "execute_result",
          "data": {
            "text/plain": [
              "pandas.core.frame.DataFrame"
            ]
          },
          "metadata": {
            "tags": []
          },
          "execution_count": 4
        }
      ]
    },
    {
      "cell_type": "markdown",
      "metadata": {
        "id": "dJUJa736UaA5"
      },
      "source": [
        "## Visualização dos dados"
      ]
    },
    {
      "cell_type": "code",
      "metadata": {
        "colab": {
          "base_uri": "https://localhost:8080/",
          "height": 359
        },
        "id": "EYVH44iE5j60",
        "outputId": "57208d96-0adf-497f-c2bd-7a890ee914be"
      },
      "source": [
        "movies.head(10)"
      ],
      "execution_count": 5,
      "outputs": [
        {
          "output_type": "execute_result",
          "data": {
            "text/html": [
              "<div>\n",
              "<style scoped>\n",
              "    .dataframe tbody tr th:only-of-type {\n",
              "        vertical-align: middle;\n",
              "    }\n",
              "\n",
              "    .dataframe tbody tr th {\n",
              "        vertical-align: top;\n",
              "    }\n",
              "\n",
              "    .dataframe thead th {\n",
              "        text-align: right;\n",
              "    }\n",
              "</style>\n",
              "<table border=\"1\" class=\"dataframe\">\n",
              "  <thead>\n",
              "    <tr style=\"text-align: right;\">\n",
              "      <th></th>\n",
              "      <th>movieId</th>\n",
              "      <th>Titulo</th>\n",
              "      <th>Documentary</th>\n",
              "      <th>Sci-Fi</th>\n",
              "      <th>Mystery</th>\n",
              "      <th>Horror</th>\n",
              "      <th>Romance</th>\n",
              "      <th>Thriller</th>\n",
              "      <th>Crime</th>\n",
              "      <th>Fantasy</th>\n",
              "      <th>Comedy</th>\n",
              "      <th>Animation</th>\n",
              "      <th>Children</th>\n",
              "      <th>Drama</th>\n",
              "      <th>Adventure</th>\n",
              "      <th>Duracao</th>\n",
              "      <th>Investimento</th>\n",
              "      <th>Bilheteria</th>\n",
              "    </tr>\n",
              "  </thead>\n",
              "  <tbody>\n",
              "    <tr>\n",
              "      <th>0</th>\n",
              "      <td>1</td>\n",
              "      <td>Toy Story (1995)</td>\n",
              "      <td>0</td>\n",
              "      <td>0</td>\n",
              "      <td>0</td>\n",
              "      <td>0</td>\n",
              "      <td>0</td>\n",
              "      <td>0</td>\n",
              "      <td>0</td>\n",
              "      <td>1</td>\n",
              "      <td>1</td>\n",
              "      <td>1</td>\n",
              "      <td>1</td>\n",
              "      <td>0</td>\n",
              "      <td>1</td>\n",
              "      <td>103.468310</td>\n",
              "      <td>11.048216</td>\n",
              "      <td>5623234.602</td>\n",
              "    </tr>\n",
              "    <tr>\n",
              "      <th>1</th>\n",
              "      <td>2</td>\n",
              "      <td>Jumanji (1995)</td>\n",
              "      <td>0</td>\n",
              "      <td>0</td>\n",
              "      <td>0</td>\n",
              "      <td>0</td>\n",
              "      <td>0</td>\n",
              "      <td>0</td>\n",
              "      <td>0</td>\n",
              "      <td>1</td>\n",
              "      <td>0</td>\n",
              "      <td>0</td>\n",
              "      <td>1</td>\n",
              "      <td>0</td>\n",
              "      <td>1</td>\n",
              "      <td>112.337916</td>\n",
              "      <td>14.927678</td>\n",
              "      <td>5714951.757</td>\n",
              "    </tr>\n",
              "    <tr>\n",
              "      <th>2</th>\n",
              "      <td>3</td>\n",
              "      <td>Grumpier Old Men (1995)</td>\n",
              "      <td>0</td>\n",
              "      <td>0</td>\n",
              "      <td>0</td>\n",
              "      <td>0</td>\n",
              "      <td>1</td>\n",
              "      <td>0</td>\n",
              "      <td>0</td>\n",
              "      <td>0</td>\n",
              "      <td>1</td>\n",
              "      <td>0</td>\n",
              "      <td>0</td>\n",
              "      <td>0</td>\n",
              "      <td>0</td>\n",
              "      <td>116.245732</td>\n",
              "      <td>27.114597</td>\n",
              "      <td>9524339.124</td>\n",
              "    </tr>\n",
              "    <tr>\n",
              "      <th>3</th>\n",
              "      <td>4</td>\n",
              "      <td>Waiting to Exhale (1995)</td>\n",
              "      <td>0</td>\n",
              "      <td>0</td>\n",
              "      <td>0</td>\n",
              "      <td>0</td>\n",
              "      <td>1</td>\n",
              "      <td>0</td>\n",
              "      <td>0</td>\n",
              "      <td>0</td>\n",
              "      <td>1</td>\n",
              "      <td>0</td>\n",
              "      <td>0</td>\n",
              "      <td>1</td>\n",
              "      <td>0</td>\n",
              "      <td>120.317732</td>\n",
              "      <td>4.994242</td>\n",
              "      <td>6331568.779</td>\n",
              "    </tr>\n",
              "    <tr>\n",
              "      <th>4</th>\n",
              "      <td>5</td>\n",
              "      <td>Father of the Bride Part II (1995)</td>\n",
              "      <td>0</td>\n",
              "      <td>0</td>\n",
              "      <td>0</td>\n",
              "      <td>0</td>\n",
              "      <td>0</td>\n",
              "      <td>0</td>\n",
              "      <td>0</td>\n",
              "      <td>0</td>\n",
              "      <td>1</td>\n",
              "      <td>0</td>\n",
              "      <td>0</td>\n",
              "      <td>0</td>\n",
              "      <td>0</td>\n",
              "      <td>110.023572</td>\n",
              "      <td>19.142246</td>\n",
              "      <td>6409617.277</td>\n",
              "    </tr>\n",
              "    <tr>\n",
              "      <th>5</th>\n",
              "      <td>6</td>\n",
              "      <td>Heat (1995)</td>\n",
              "      <td>0</td>\n",
              "      <td>0</td>\n",
              "      <td>0</td>\n",
              "      <td>0</td>\n",
              "      <td>0</td>\n",
              "      <td>1</td>\n",
              "      <td>1</td>\n",
              "      <td>0</td>\n",
              "      <td>0</td>\n",
              "      <td>0</td>\n",
              "      <td>0</td>\n",
              "      <td>0</td>\n",
              "      <td>0</td>\n",
              "      <td>97.324845</td>\n",
              "      <td>9.977311</td>\n",
              "      <td>4956557.317</td>\n",
              "    </tr>\n",
              "    <tr>\n",
              "      <th>6</th>\n",
              "      <td>7</td>\n",
              "      <td>Sabrina (1995)</td>\n",
              "      <td>0</td>\n",
              "      <td>0</td>\n",
              "      <td>0</td>\n",
              "      <td>0</td>\n",
              "      <td>1</td>\n",
              "      <td>0</td>\n",
              "      <td>0</td>\n",
              "      <td>0</td>\n",
              "      <td>1</td>\n",
              "      <td>0</td>\n",
              "      <td>0</td>\n",
              "      <td>0</td>\n",
              "      <td>0</td>\n",
              "      <td>88.978893</td>\n",
              "      <td>14.257461</td>\n",
              "      <td>4654565.066</td>\n",
              "    </tr>\n",
              "    <tr>\n",
              "      <th>7</th>\n",
              "      <td>8</td>\n",
              "      <td>Tom and Huck (1995)</td>\n",
              "      <td>0</td>\n",
              "      <td>0</td>\n",
              "      <td>0</td>\n",
              "      <td>0</td>\n",
              "      <td>0</td>\n",
              "      <td>0</td>\n",
              "      <td>0</td>\n",
              "      <td>0</td>\n",
              "      <td>0</td>\n",
              "      <td>0</td>\n",
              "      <td>1</td>\n",
              "      <td>0</td>\n",
              "      <td>1</td>\n",
              "      <td>78.536011</td>\n",
              "      <td>8.871800</td>\n",
              "      <td>3950017.325</td>\n",
              "    </tr>\n",
              "    <tr>\n",
              "      <th>8</th>\n",
              "      <td>9</td>\n",
              "      <td>Sudden Death (1995)</td>\n",
              "      <td>0</td>\n",
              "      <td>0</td>\n",
              "      <td>0</td>\n",
              "      <td>0</td>\n",
              "      <td>0</td>\n",
              "      <td>0</td>\n",
              "      <td>0</td>\n",
              "      <td>0</td>\n",
              "      <td>0</td>\n",
              "      <td>0</td>\n",
              "      <td>0</td>\n",
              "      <td>0</td>\n",
              "      <td>0</td>\n",
              "      <td>104.934703</td>\n",
              "      <td>29.112800</td>\n",
              "      <td>6850971.551</td>\n",
              "    </tr>\n",
              "    <tr>\n",
              "      <th>9</th>\n",
              "      <td>10</td>\n",
              "      <td>GoldenEye (1995)</td>\n",
              "      <td>0</td>\n",
              "      <td>0</td>\n",
              "      <td>0</td>\n",
              "      <td>0</td>\n",
              "      <td>0</td>\n",
              "      <td>1</td>\n",
              "      <td>0</td>\n",
              "      <td>0</td>\n",
              "      <td>0</td>\n",
              "      <td>0</td>\n",
              "      <td>0</td>\n",
              "      <td>0</td>\n",
              "      <td>1</td>\n",
              "      <td>105.899475</td>\n",
              "      <td>3.695241</td>\n",
              "      <td>5157865.850</td>\n",
              "    </tr>\n",
              "  </tbody>\n",
              "</table>\n",
              "</div>"
            ],
            "text/plain": [
              "   movieId                              Titulo  ...  Investimento   Bilheteria\n",
              "0        1                    Toy Story (1995)  ...     11.048216  5623234.602\n",
              "1        2                      Jumanji (1995)  ...     14.927678  5714951.757\n",
              "2        3             Grumpier Old Men (1995)  ...     27.114597  9524339.124\n",
              "3        4            Waiting to Exhale (1995)  ...      4.994242  6331568.779\n",
              "4        5  Father of the Bride Part II (1995)  ...     19.142246  6409617.277\n",
              "5        6                         Heat (1995)  ...      9.977311  4956557.317\n",
              "6        7                      Sabrina (1995)  ...     14.257461  4654565.066\n",
              "7        8                 Tom and Huck (1995)  ...      8.871800  3950017.325\n",
              "8        9                 Sudden Death (1995)  ...     29.112800  6850971.551\n",
              "9       10                    GoldenEye (1995)  ...      3.695241  5157865.850\n",
              "\n",
              "[10 rows x 18 columns]"
            ]
          },
          "metadata": {
            "tags": []
          },
          "execution_count": 5
        }
      ]
    },
    {
      "cell_type": "markdown",
      "metadata": {
        "id": "zDMkA0S5Ugd1"
      },
      "source": [
        "## Verificação do tamanho do dataset"
      ]
    },
    {
      "cell_type": "code",
      "metadata": {
        "colab": {
          "base_uri": "https://localhost:8080/"
        },
        "id": "bTlTjpUX5j61",
        "outputId": "1fbbc1d1-5bd1-4bb6-efd7-65ffc8c2bab3"
      },
      "source": [
        "movies.shape"
      ],
      "execution_count": 6,
      "outputs": [
        {
          "output_type": "execute_result",
          "data": {
            "text/plain": [
              "(9125, 18)"
            ]
          },
          "metadata": {
            "tags": []
          },
          "execution_count": 6
        }
      ]
    },
    {
      "cell_type": "markdown",
      "metadata": {
        "id": "Wi_X_FSeEUDx"
      },
      "source": [
        "# <font color='red' style='font-size: 30px;'>Análises Preliminares</font>\n",
        "<hr style='border: 2px solid red;'>"
      ]
    },
    {
      "cell_type": "markdown",
      "metadata": {
        "id": "zbiAJW_WUlxz"
      },
      "source": [
        "## Estatísticas descritivas"
      ]
    },
    {
      "cell_type": "code",
      "metadata": {
        "colab": {
          "base_uri": "https://localhost:8080/",
          "height": 297
        },
        "id": "d8XQT6Z2UpX1",
        "outputId": "74a99df1-9cd1-4062-b4d2-bcbf31875fcd"
      },
      "source": [
        "movies[movies.columns[2:17]].describe().round(2)"
      ],
      "execution_count": 7,
      "outputs": [
        {
          "output_type": "execute_result",
          "data": {
            "text/html": [
              "<div>\n",
              "<style scoped>\n",
              "    .dataframe tbody tr th:only-of-type {\n",
              "        vertical-align: middle;\n",
              "    }\n",
              "\n",
              "    .dataframe tbody tr th {\n",
              "        vertical-align: top;\n",
              "    }\n",
              "\n",
              "    .dataframe thead th {\n",
              "        text-align: right;\n",
              "    }\n",
              "</style>\n",
              "<table border=\"1\" class=\"dataframe\">\n",
              "  <thead>\n",
              "    <tr style=\"text-align: right;\">\n",
              "      <th></th>\n",
              "      <th>Documentary</th>\n",
              "      <th>Sci-Fi</th>\n",
              "      <th>Mystery</th>\n",
              "      <th>Horror</th>\n",
              "      <th>Romance</th>\n",
              "      <th>Thriller</th>\n",
              "      <th>Crime</th>\n",
              "      <th>Fantasy</th>\n",
              "      <th>Comedy</th>\n",
              "      <th>Animation</th>\n",
              "      <th>Children</th>\n",
              "      <th>Drama</th>\n",
              "      <th>Adventure</th>\n",
              "      <th>Duracao</th>\n",
              "      <th>Investimento</th>\n",
              "    </tr>\n",
              "  </thead>\n",
              "  <tbody>\n",
              "    <tr>\n",
              "      <th>count</th>\n",
              "      <td>9125.00</td>\n",
              "      <td>9125.00</td>\n",
              "      <td>9125.00</td>\n",
              "      <td>9125.00</td>\n",
              "      <td>9125.00</td>\n",
              "      <td>9125.00</td>\n",
              "      <td>9125.00</td>\n",
              "      <td>9125.00</td>\n",
              "      <td>9125.00</td>\n",
              "      <td>9125.00</td>\n",
              "      <td>9125.00</td>\n",
              "      <td>9125.00</td>\n",
              "      <td>9125.00</td>\n",
              "      <td>9125.00</td>\n",
              "      <td>9125.00</td>\n",
              "    </tr>\n",
              "    <tr>\n",
              "      <th>mean</th>\n",
              "      <td>0.05</td>\n",
              "      <td>0.09</td>\n",
              "      <td>0.06</td>\n",
              "      <td>0.10</td>\n",
              "      <td>0.17</td>\n",
              "      <td>0.19</td>\n",
              "      <td>0.12</td>\n",
              "      <td>0.07</td>\n",
              "      <td>0.36</td>\n",
              "      <td>0.05</td>\n",
              "      <td>0.06</td>\n",
              "      <td>0.48</td>\n",
              "      <td>0.12</td>\n",
              "      <td>109.83</td>\n",
              "      <td>16.60</td>\n",
              "    </tr>\n",
              "    <tr>\n",
              "      <th>std</th>\n",
              "      <td>0.23</td>\n",
              "      <td>0.28</td>\n",
              "      <td>0.24</td>\n",
              "      <td>0.29</td>\n",
              "      <td>0.38</td>\n",
              "      <td>0.39</td>\n",
              "      <td>0.33</td>\n",
              "      <td>0.26</td>\n",
              "      <td>0.48</td>\n",
              "      <td>0.22</td>\n",
              "      <td>0.24</td>\n",
              "      <td>0.50</td>\n",
              "      <td>0.33</td>\n",
              "      <td>20.04</td>\n",
              "      <td>12.52</td>\n",
              "    </tr>\n",
              "    <tr>\n",
              "      <th>min</th>\n",
              "      <td>0.00</td>\n",
              "      <td>0.00</td>\n",
              "      <td>0.00</td>\n",
              "      <td>0.00</td>\n",
              "      <td>0.00</td>\n",
              "      <td>0.00</td>\n",
              "      <td>0.00</td>\n",
              "      <td>0.00</td>\n",
              "      <td>0.00</td>\n",
              "      <td>0.00</td>\n",
              "      <td>0.00</td>\n",
              "      <td>0.00</td>\n",
              "      <td>0.00</td>\n",
              "      <td>40.82</td>\n",
              "      <td>3.44</td>\n",
              "    </tr>\n",
              "    <tr>\n",
              "      <th>25%</th>\n",
              "      <td>0.00</td>\n",
              "      <td>0.00</td>\n",
              "      <td>0.00</td>\n",
              "      <td>0.00</td>\n",
              "      <td>0.00</td>\n",
              "      <td>0.00</td>\n",
              "      <td>0.00</td>\n",
              "      <td>0.00</td>\n",
              "      <td>0.00</td>\n",
              "      <td>0.00</td>\n",
              "      <td>0.00</td>\n",
              "      <td>0.00</td>\n",
              "      <td>0.00</td>\n",
              "      <td>96.15</td>\n",
              "      <td>6.19</td>\n",
              "    </tr>\n",
              "    <tr>\n",
              "      <th>50%</th>\n",
              "      <td>0.00</td>\n",
              "      <td>0.00</td>\n",
              "      <td>0.00</td>\n",
              "      <td>0.00</td>\n",
              "      <td>0.00</td>\n",
              "      <td>0.00</td>\n",
              "      <td>0.00</td>\n",
              "      <td>0.00</td>\n",
              "      <td>0.00</td>\n",
              "      <td>0.00</td>\n",
              "      <td>0.00</td>\n",
              "      <td>0.00</td>\n",
              "      <td>0.00</td>\n",
              "      <td>109.71</td>\n",
              "      <td>12.05</td>\n",
              "    </tr>\n",
              "    <tr>\n",
              "      <th>75%</th>\n",
              "      <td>0.00</td>\n",
              "      <td>0.00</td>\n",
              "      <td>0.00</td>\n",
              "      <td>0.00</td>\n",
              "      <td>0.00</td>\n",
              "      <td>0.00</td>\n",
              "      <td>0.00</td>\n",
              "      <td>0.00</td>\n",
              "      <td>1.00</td>\n",
              "      <td>0.00</td>\n",
              "      <td>0.00</td>\n",
              "      <td>1.00</td>\n",
              "      <td>0.00</td>\n",
              "      <td>123.46</td>\n",
              "      <td>24.62</td>\n",
              "    </tr>\n",
              "    <tr>\n",
              "      <th>max</th>\n",
              "      <td>1.00</td>\n",
              "      <td>1.00</td>\n",
              "      <td>1.00</td>\n",
              "      <td>1.00</td>\n",
              "      <td>1.00</td>\n",
              "      <td>1.00</td>\n",
              "      <td>1.00</td>\n",
              "      <td>1.00</td>\n",
              "      <td>1.00</td>\n",
              "      <td>1.00</td>\n",
              "      <td>1.00</td>\n",
              "      <td>1.00</td>\n",
              "      <td>1.00</td>\n",
              "      <td>185.35</td>\n",
              "      <td>50.00</td>\n",
              "    </tr>\n",
              "  </tbody>\n",
              "</table>\n",
              "</div>"
            ],
            "text/plain": [
              "       Documentary   Sci-Fi  Mystery  ...  Adventure  Duracao  Investimento\n",
              "count      9125.00  9125.00  9125.00  ...    9125.00  9125.00       9125.00\n",
              "mean          0.05     0.09     0.06  ...       0.12   109.83         16.60\n",
              "std           0.23     0.28     0.24  ...       0.33    20.04         12.52\n",
              "min           0.00     0.00     0.00  ...       0.00    40.82          3.44\n",
              "25%           0.00     0.00     0.00  ...       0.00    96.15          6.19\n",
              "50%           0.00     0.00     0.00  ...       0.00   109.71         12.05\n",
              "75%           0.00     0.00     0.00  ...       0.00   123.46         24.62\n",
              "max           1.00     1.00     1.00  ...       1.00   185.35         50.00\n",
              "\n",
              "[8 rows x 15 columns]"
            ]
          },
          "metadata": {
            "tags": []
          },
          "execution_count": 7
        }
      ]
    },
    {
      "cell_type": "markdown",
      "metadata": {
        "id": "T12WqdsbVVAR"
      },
      "source": [
        "## Box plot da variável dependente (y)"
      ]
    },
    {
      "cell_type": "code",
      "metadata": {
        "colab": {
          "base_uri": "https://localhost:8080/",
          "height": 298
        },
        "id": "ZzNBwIOwVYcB",
        "outputId": "b087dbee-14ee-4074-b9d4-3a01d2d60342"
      },
      "source": [
        "plt.boxplot(x=movies['Bilheteria'])\n",
        "plt.title(\"Bilheteria\")\n",
        "plt.ylabel(\"Ingressos\")"
      ],
      "execution_count": 111,
      "outputs": [
        {
          "output_type": "execute_result",
          "data": {
            "text/plain": [
              "Text(0, 0.5, 'Ingressos')"
            ]
          },
          "metadata": {
            "tags": []
          },
          "execution_count": 111
        },
        {
          "output_type": "display_data",
          "data": {
            "image/png": "[encoded data removed]",
            "text/plain": [
              "<Figure size 432x288 with 1 Axes>"
            ]
          },
          "metadata": {
            "tags": [],
            "needs_background": "light"
          }
        }
      ]
    },
    {
      "cell_type": "markdown",
      "metadata": {
        "id": "UV-EoZH6Wsw7"
      },
      "source": [
        "## Investigando a variável dependente (y) segundo determinada característica"
      ]
    },
    {
      "cell_type": "code",
      "metadata": {
        "colab": {
          "base_uri": "https://localhost:8080/",
          "height": 298
        },
        "id": "Az7x_rCfWvLY",
        "outputId": "ca1f9689-49f6-430e-cb93-91816b6b3278"
      },
      "source": [
        "plt.boxplot(x=movies[['Bilheteria', 'Duracao']])\n",
        "plt.title(\"Bilheteria\")\n",
        "plt.ylabel(\"Ingressos\")"
      ],
      "execution_count": 8,
      "outputs": [
        {
          "output_type": "execute_result",
          "data": {
            "text/plain": [
              "Text(0, 0.5, 'Ingressos')"
            ]
          },
          "metadata": {
            "tags": []
          },
          "execution_count": 8
        },
        {
          "output_type": "display_data",
          "data": {
            "image/png": "[encoded data removed]",
            "text/plain": [
              "<Figure size 432x288 with 1 Axes>"
            ]
          },
          "metadata": {
            "tags": [],
            "needs_background": "light"
          }
        }
      ]
    },
    {
      "cell_type": "markdown",
      "metadata": {
        "id": "j2gyoGOQElwd"
      },
      "source": [
        "# <font color='red' style='font-size: 30px;'>Distribuição de Frequências</font>\n",
        "<hr style='border: 2px solid red;'>"
      ]
    },
    {
      "cell_type": "markdown",
      "metadata": {
        "id": "Q-wwspZ-Z-MW"
      },
      "source": [
        "## Distribuição de frequências da variável dependente (y)"
      ]
    },
    {
      "cell_type": "code",
      "metadata": {
        "colab": {
          "base_uri": "https://localhost:8080/",
          "height": 311
        },
        "id": "NAS4pCmpaBrK",
        "outputId": "f5f69b4c-a7ee-42a9-fa54-91144b28863e"
      },
      "source": [
        "plt.hist(x=movies['Bilheteria'], bins = 25)\n",
        "plt.title('Distribuição de Frequências')"
      ],
      "execution_count": 15,
      "outputs": [
        {
          "output_type": "execute_result",
          "data": {
            "text/plain": [
              "Text(0.5, 1.0, 'Distribuição de Frequências')"
            ]
          },
          "metadata": {
            "tags": []
          },
          "execution_count": 15
        },
        {
          "output_type": "display_data",
          "data": {
            "image/png": "[encoded data removed]",
            "text/plain": [
              "<Figure size 432x288 with 1 Axes>"
            ]
          },
          "metadata": {
            "tags": [],
            "needs_background": "light"
          }
        }
      ]
    },
    {
      "cell_type": "markdown",
      "metadata": {
        "id": "rgtgTr6FFBxl"
      },
      "source": [
        "# <font color='red' style='font-size: 30px;'>Estimando um Modelo de Regressão Linear para o Consumo</font>\n",
        "<hr style='border: 2px solid red;'>"
      ]
    },
    {
      "cell_type": "markdown",
      "metadata": {
        "id": "4QPN4eaybNN5"
      },
      "source": [
        "## Criando um DataFrame (pandas) para armazenar as variáveis explicativas (X)"
      ]
    },
    {
      "cell_type": "code",
      "metadata": {
        "id": "LJY8f78T5j61"
      },
      "source": [
        "filmes_independente = movies[movies.columns[2:17]]"
      ],
      "execution_count": 18,
      "outputs": []
    },
    {
      "cell_type": "code",
      "metadata": {
        "colab": {
          "base_uri": "https://localhost:8080/"
        },
        "id": "f-7lAbU97K6s",
        "outputId": "3e665b7e-220e-4661-ac36-a8227fce3106"
      },
      "source": [
        "type(filmes_independente)"
      ],
      "execution_count": 19,
      "outputs": [
        {
          "output_type": "execute_result",
          "data": {
            "text/plain": [
              "pandas.core.frame.DataFrame"
            ]
          },
          "metadata": {
            "tags": []
          },
          "execution_count": 19
        }
      ]
    },
    {
      "cell_type": "markdown",
      "metadata": {
        "id": "LXpZ_Ho7eo8z"
      },
      "source": [
        "## Criando uma Series (pandas) para armazenar variável dependente (y)"
      ]
    },
    {
      "cell_type": "code",
      "metadata": {
        "id": "IXWRsqmW5j61"
      },
      "source": [
        "filmes_dependente = movies['Bilheteria']"
      ],
      "execution_count": 23,
      "outputs": []
    },
    {
      "cell_type": "code",
      "metadata": {
        "colab": {
          "base_uri": "https://localhost:8080/"
        },
        "id": "iN5ouMBm6EQ0",
        "outputId": "cc5ded51-2797-42b8-b55e-cf5a2c119f96"
      },
      "source": [
        "filmes_dependente"
      ],
      "execution_count": 24,
      "outputs": [
        {
          "output_type": "execute_result",
          "data": {
            "text/plain": [
              "0       5.623235e+06\n",
              "1       5.714952e+06\n",
              "2       9.524339e+06\n",
              "3       6.331569e+06\n",
              "4       6.409617e+06\n",
              "            ...     \n",
              "9120    6.318999e+06\n",
              "9121    5.300340e+06\n",
              "9122    6.945211e+06\n",
              "9123    6.459004e+06\n",
              "9124    1.063624e+07\n",
              "Name: Bilheteria, Length: 9125, dtype: float64"
            ]
          },
          "metadata": {
            "tags": []
          },
          "execution_count": 24
        }
      ]
    },
    {
      "cell_type": "code",
      "metadata": {
        "colab": {
          "base_uri": "https://localhost:8080/"
        },
        "id": "Ps07ZNiM5j62",
        "outputId": "c986a964-d50b-4cfa-9526-7c0306b48ee6"
      },
      "source": [
        "type(filmes_dependente)"
      ],
      "execution_count": 25,
      "outputs": [
        {
          "output_type": "execute_result",
          "data": {
            "text/plain": [
              "pandas.core.series.Series"
            ]
          },
          "metadata": {
            "tags": []
          },
          "execution_count": 25
        }
      ]
    },
    {
      "cell_type": "markdown",
      "metadata": {
        "id": "Xv6Av47Qlzb6"
      },
      "source": [
        "## Criando os datasets de treino e de teste"
      ]
    },
    {
      "cell_type": "code",
      "metadata": {
        "id": "s0919kqN5j62"
      },
      "source": [
        "treino, teste, treino_bilheteria, teste_bilheteria = train_test_split(filmes_independente, filmes_dependente)"
      ],
      "execution_count": 28,
      "outputs": []
    },
    {
      "cell_type": "markdown",
      "metadata": {
        "id": "bZqSCHdE-sFA"
      },
      "source": [
        "## Verificando os tamanhos dos arquivos gerados pela função train_test_split"
      ]
    },
    {
      "cell_type": "code",
      "metadata": {
        "colab": {
          "base_uri": "https://localhost:8080/",
          "height": 204
        },
        "id": "Q8u-G7Xh5j62",
        "outputId": "867105a5-c7f4-4518-c603-f6e6cfb437d1"
      },
      "source": [
        "treino.head()"
      ],
      "execution_count": 29,
      "outputs": [
        {
          "output_type": "execute_result",
          "data": {
            "text/html": [
              "<div>\n",
              "<style scoped>\n",
              "    .dataframe tbody tr th:only-of-type {\n",
              "        vertical-align: middle;\n",
              "    }\n",
              "\n",
              "    .dataframe tbody tr th {\n",
              "        vertical-align: top;\n",
              "    }\n",
              "\n",
              "    .dataframe thead th {\n",
              "        text-align: right;\n",
              "    }\n",
              "</style>\n",
              "<table border=\"1\" class=\"dataframe\">\n",
              "  <thead>\n",
              "    <tr style=\"text-align: right;\">\n",
              "      <th></th>\n",
              "      <th>Documentary</th>\n",
              "      <th>Sci-Fi</th>\n",
              "      <th>Mystery</th>\n",
              "      <th>Horror</th>\n",
              "      <th>Romance</th>\n",
              "      <th>Thriller</th>\n",
              "      <th>Crime</th>\n",
              "      <th>Fantasy</th>\n",
              "      <th>Comedy</th>\n",
              "      <th>Animation</th>\n",
              "      <th>Children</th>\n",
              "      <th>Drama</th>\n",
              "      <th>Adventure</th>\n",
              "      <th>Duracao</th>\n",
              "      <th>Investimento</th>\n",
              "    </tr>\n",
              "  </thead>\n",
              "  <tbody>\n",
              "    <tr>\n",
              "      <th>1393</th>\n",
              "      <td>0</td>\n",
              "      <td>0</td>\n",
              "      <td>0</td>\n",
              "      <td>0</td>\n",
              "      <td>1</td>\n",
              "      <td>0</td>\n",
              "      <td>0</td>\n",
              "      <td>0</td>\n",
              "      <td>1</td>\n",
              "      <td>0</td>\n",
              "      <td>0</td>\n",
              "      <td>1</td>\n",
              "      <td>0</td>\n",
              "      <td>123.543500</td>\n",
              "      <td>9.615631</td>\n",
              "    </tr>\n",
              "    <tr>\n",
              "      <th>8710</th>\n",
              "      <td>0</td>\n",
              "      <td>0</td>\n",
              "      <td>0</td>\n",
              "      <td>0</td>\n",
              "      <td>0</td>\n",
              "      <td>0</td>\n",
              "      <td>0</td>\n",
              "      <td>0</td>\n",
              "      <td>0</td>\n",
              "      <td>0</td>\n",
              "      <td>0</td>\n",
              "      <td>1</td>\n",
              "      <td>0</td>\n",
              "      <td>120.460427</td>\n",
              "      <td>3.828920</td>\n",
              "    </tr>\n",
              "    <tr>\n",
              "      <th>4025</th>\n",
              "      <td>0</td>\n",
              "      <td>0</td>\n",
              "      <td>0</td>\n",
              "      <td>0</td>\n",
              "      <td>0</td>\n",
              "      <td>0</td>\n",
              "      <td>0</td>\n",
              "      <td>0</td>\n",
              "      <td>1</td>\n",
              "      <td>0</td>\n",
              "      <td>0</td>\n",
              "      <td>0</td>\n",
              "      <td>0</td>\n",
              "      <td>151.885339</td>\n",
              "      <td>26.399730</td>\n",
              "    </tr>\n",
              "    <tr>\n",
              "      <th>4424</th>\n",
              "      <td>0</td>\n",
              "      <td>0</td>\n",
              "      <td>0</td>\n",
              "      <td>0</td>\n",
              "      <td>0</td>\n",
              "      <td>0</td>\n",
              "      <td>0</td>\n",
              "      <td>0</td>\n",
              "      <td>1</td>\n",
              "      <td>0</td>\n",
              "      <td>0</td>\n",
              "      <td>1</td>\n",
              "      <td>0</td>\n",
              "      <td>139.899790</td>\n",
              "      <td>25.399133</td>\n",
              "    </tr>\n",
              "    <tr>\n",
              "      <th>448</th>\n",
              "      <td>0</td>\n",
              "      <td>0</td>\n",
              "      <td>0</td>\n",
              "      <td>0</td>\n",
              "      <td>0</td>\n",
              "      <td>0</td>\n",
              "      <td>0</td>\n",
              "      <td>0</td>\n",
              "      <td>0</td>\n",
              "      <td>0</td>\n",
              "      <td>0</td>\n",
              "      <td>1</td>\n",
              "      <td>0</td>\n",
              "      <td>110.025685</td>\n",
              "      <td>21.649061</td>\n",
              "    </tr>\n",
              "  </tbody>\n",
              "</table>\n",
              "</div>"
            ],
            "text/plain": [
              "      Documentary  Sci-Fi  Mystery  ...  Adventure     Duracao  Investimento\n",
              "1393            0       0        0  ...          0  123.543500      9.615631\n",
              "8710            0       0        0  ...          0  120.460427      3.828920\n",
              "4025            0       0        0  ...          0  151.885339     26.399730\n",
              "4424            0       0        0  ...          0  139.899790     25.399133\n",
              "448             0       0        0  ...          0  110.025685     21.649061\n",
              "\n",
              "[5 rows x 15 columns]"
            ]
          },
          "metadata": {
            "tags": []
          },
          "execution_count": 29
        }
      ]
    },
    {
      "cell_type": "code",
      "metadata": {
        "colab": {
          "base_uri": "https://localhost:8080/"
        },
        "id": "zsKKYM0V5j62",
        "outputId": "46c0f71d-1ed2-41e6-a19a-9ede5cd01a8a"
      },
      "source": [
        "treino.shape[0]"
      ],
      "execution_count": 30,
      "outputs": [
        {
          "output_type": "execute_result",
          "data": {
            "text/plain": [
              "6843"
            ]
          },
          "metadata": {
            "tags": []
          },
          "execution_count": 30
        }
      ]
    },
    {
      "cell_type": "code",
      "metadata": {
        "colab": {
          "base_uri": "https://localhost:8080/"
        },
        "id": "Dy1guWQA5j63",
        "outputId": "a3e804cc-5572-4853-e80f-66ff0f69cbdf"
      },
      "source": [
        "teste.shape[0]"
      ],
      "execution_count": 31,
      "outputs": [
        {
          "output_type": "execute_result",
          "data": {
            "text/plain": [
              "2282"
            ]
          },
          "metadata": {
            "tags": []
          },
          "execution_count": 31
        }
      ]
    },
    {
      "cell_type": "code",
      "metadata": {
        "colab": {
          "base_uri": "https://localhost:8080/"
        },
        "id": "dmHAgABx_Fgf",
        "outputId": "5b87dc7f-a1b2-4fdf-c88e-5f6d781de5ca"
      },
      "source": [
        "treino.shape[0]+teste.shape[0]"
      ],
      "execution_count": 32,
      "outputs": [
        {
          "output_type": "execute_result",
          "data": {
            "text/plain": [
              "9125"
            ]
          },
          "metadata": {
            "tags": []
          },
          "execution_count": 32
        }
      ]
    },
    {
      "cell_type": "markdown",
      "metadata": {
        "id": "4j_BSG_B_ZB4"
      },
      "source": [
        "## Instanciando a classe LinearRegression()"
      ]
    },
    {
      "cell_type": "code",
      "metadata": {
        "colab": {
          "base_uri": "https://localhost:8080/"
        },
        "id": "ig_BaWA65j63",
        "outputId": "abdbb482-b850-41f2-9557-46b61bc6bb8f"
      },
      "source": [
        "modelo = LinearRegression()\n",
        "modelo.fit(treino,treino_bilheteria)"
      ],
      "execution_count": 33,
      "outputs": [
        {
          "output_type": "execute_result",
          "data": {
            "text/plain": [
              "LinearRegression(copy_X=True, fit_intercept=True, n_jobs=None, normalize=False)"
            ]
          },
          "metadata": {
            "tags": []
          },
          "execution_count": 33
        }
      ]
    },
    {
      "cell_type": "markdown",
      "metadata": {
        "id": "6fsL2nxZ_k4X"
      },
      "source": [
        "## Utilizando o método fit() do objeto \"modelo\" para estimar nosso modelo linear utilizando os dados de TREINO (treino_bilheteria e treino)"
      ]
    },
    {
      "cell_type": "code",
      "metadata": {
        "colab": {
          "base_uri": "https://localhost:8080/"
        },
        "id": "o1aG7bCJ_xy6",
        "outputId": "f9966b1b-959b-4c58-b147-634050b5bc7f"
      },
      "source": [
        "modelo.fit(treino, treino_bilheteria)"
      ],
      "execution_count": 34,
      "outputs": [
        {
          "output_type": "execute_result",
          "data": {
            "text/plain": [
              "LinearRegression(copy_X=True, fit_intercept=True, n_jobs=None, normalize=False)"
            ]
          },
          "metadata": {
            "tags": []
          },
          "execution_count": 34
        }
      ]
    },
    {
      "cell_type": "markdown",
      "metadata": {
        "id": "219jUlOh_82S"
      },
      "source": [
        "## Obtendo o coeficiente de determinação (R²) do modelo estimado com os dados de TREINO"
      ]
    },
    {
      "cell_type": "code",
      "metadata": {
        "colab": {
          "base_uri": "https://localhost:8080/"
        },
        "id": "tSRfdDNZ__DO",
        "outputId": "3a077241-8204-451a-c00b-59a5822b7853"
      },
      "source": [
        "print('R² = {}'.format(modelo.score(treino, treino_bilheteria).round(2)))"
      ],
      "execution_count": 35,
      "outputs": [
        {
          "output_type": "stream",
          "text": [
            "R² = 0.83\n"
          ],
          "name": "stdout"
        }
      ]
    },
    {
      "cell_type": "markdown",
      "metadata": {
        "id": "soTnV4YfSBr0"
      },
      "source": [
        "## Obtendo o coeficiente de determinação (R²) do modelo estimado com os dados de TESTE"
      ]
    },
    {
      "cell_type": "code",
      "metadata": {
        "colab": {
          "base_uri": "https://localhost:8080/"
        },
        "id": "UKWkOunfSEo1",
        "outputId": "753637a5-afe4-4ea0-a280-f108b5f51e6a"
      },
      "source": [
        "print('R² = {}'.format(modelo.score(teste, teste_bilheteria).round(2)))"
      ],
      "execution_count": 36,
      "outputs": [
        {
          "output_type": "stream",
          "text": [
            "R² = 0.83\n"
          ],
          "name": "stdout"
        }
      ]
    },
    {
      "cell_type": "markdown",
      "metadata": {
        "id": "bRfDnNnyA1S3"
      },
      "source": [
        "## Gerando previsões para os dados de TESTE (teste) utilizando o método predict() do objeto \"modelo\""
      ]
    },
    {
      "cell_type": "code",
      "metadata": {
        "colab": {
          "base_uri": "https://localhost:8080/"
        },
        "id": "ognnv_ihA6VS",
        "outputId": "bf3265df-b81d-4ab1-c412-e099c5d84a0e"
      },
      "source": [
        "previsao_bilheteria = modelo.predict(teste)\n",
        "previsao_bilheteria"
      ],
      "execution_count": 37,
      "outputs": [
        {
          "output_type": "execute_result",
          "data": {
            "text/plain": [
              "array([7469789.08880355, 5912825.40339902, 9288837.75054187, ...,\n",
              "       9380075.24405153, 8900384.32315662, 5875914.82645251])"
            ]
          },
          "metadata": {
            "tags": []
          },
          "execution_count": 37
        }
      ]
    },
    {
      "cell_type": "markdown",
      "metadata": {
        "id": "OCa5Vne9BMVZ"
      },
      "source": [
        "## Obtendo o coeficiente de determinação (R²) para as previsões do nosso modelo"
      ]
    },
    {
      "cell_type": "code",
      "metadata": {
        "colab": {
          "base_uri": "https://localhost:8080/"
        },
        "id": "RnwZ61xwBN8x",
        "outputId": "755771cc-2f6f-4ef2-f62b-7c53587f4104"
      },
      "source": [
        "print('R² = %s' % metrics.r2_score(teste_bilheteria, previsao_bilheteria).round(2))"
      ],
      "execution_count": 34,
      "outputs": [
        {
          "output_type": "stream",
          "text": [
            "R² = 0.82\n"
          ],
          "name": "stdout"
        }
      ]
    },
    {
      "cell_type": "markdown",
      "metadata": {
        "id": "WfzfjFdUFdeO"
      },
      "source": [
        "# <font color='red' style='font-size: 30px;'>Obtendo Previsões Pontuais</font>\n",
        "<hr style='border: 2px solid red;'>"
      ]
    },
    {
      "cell_type": "markdown",
      "metadata": {
        "id": "GNTk2B3EBewk"
      },
      "source": [
        "## Dados de entrada"
      ]
    },
    {
      "cell_type": "code",
      "metadata": {
        "colab": {
          "base_uri": "https://localhost:8080/",
          "height": 80
        },
        "id": "nbYRRB2XBpiX",
        "outputId": "16a49d15-e597-4a27-c871-8bf18a49fd0f"
      },
      "source": [
        "entrada = teste[0:1]\n",
        "entrada"
      ],
      "execution_count": 36,
      "outputs": [
        {
          "output_type": "execute_result",
          "data": {
            "text/html": [
              "<div>\n",
              "<style scoped>\n",
              "    .dataframe tbody tr th:only-of-type {\n",
              "        vertical-align: middle;\n",
              "    }\n",
              "\n",
              "    .dataframe tbody tr th {\n",
              "        vertical-align: top;\n",
              "    }\n",
              "\n",
              "    .dataframe thead th {\n",
              "        text-align: right;\n",
              "    }\n",
              "</style>\n",
              "<table border=\"1\" class=\"dataframe\">\n",
              "  <thead>\n",
              "    <tr style=\"text-align: right;\">\n",
              "      <th></th>\n",
              "      <th>Documentary</th>\n",
              "      <th>Sci-Fi</th>\n",
              "      <th>Mystery</th>\n",
              "      <th>Horror</th>\n",
              "      <th>Romance</th>\n",
              "      <th>Thriller</th>\n",
              "      <th>Crime</th>\n",
              "      <th>Fantasy</th>\n",
              "      <th>Comedy</th>\n",
              "      <th>Animation</th>\n",
              "      <th>Children</th>\n",
              "      <th>Drama</th>\n",
              "      <th>Adventure</th>\n",
              "      <th>Duracao</th>\n",
              "      <th>Investimento</th>\n",
              "    </tr>\n",
              "  </thead>\n",
              "  <tbody>\n",
              "    <tr>\n",
              "      <th>6588</th>\n",
              "      <td>0</td>\n",
              "      <td>0</td>\n",
              "      <td>0</td>\n",
              "      <td>0</td>\n",
              "      <td>1</td>\n",
              "      <td>0</td>\n",
              "      <td>0</td>\n",
              "      <td>0</td>\n",
              "      <td>0</td>\n",
              "      <td>0</td>\n",
              "      <td>0</td>\n",
              "      <td>1</td>\n",
              "      <td>0</td>\n",
              "      <td>86.730539</td>\n",
              "      <td>29.579279</td>\n",
              "    </tr>\n",
              "  </tbody>\n",
              "</table>\n",
              "</div>"
            ],
            "text/plain": [
              "      Documentary  Sci-Fi  Mystery  ...  Adventure    Duracao  Investimento\n",
              "6588            0       0        0  ...          0  86.730539     29.579279\n",
              "\n",
              "[1 rows x 15 columns]"
            ]
          },
          "metadata": {
            "tags": []
          },
          "execution_count": 36
        }
      ]
    },
    {
      "cell_type": "markdown",
      "metadata": {
        "id": "-Aoc-bleBlWl"
      },
      "source": [
        "## Gerando previsão pontual"
      ]
    },
    {
      "cell_type": "code",
      "metadata": {
        "colab": {
          "base_uri": "https://localhost:8080/"
        },
        "id": "z3UbcS0JBwuQ",
        "outputId": "e7cbee7d-c8a6-472c-c317-0d1864139f28"
      },
      "source": [
        "modelo.predict(entrada)[0]"
      ],
      "execution_count": 37,
      "outputs": [
        {
          "output_type": "execute_result",
          "data": {
            "text/plain": [
              "array([6962277.97581228])"
            ]
          },
          "metadata": {
            "tags": []
          },
          "execution_count": 37
        }
      ]
    },
    {
      "cell_type": "markdown",
      "metadata": {
        "id": "zSOAOimZB6Bm"
      },
      "source": [
        "## Criando um simulador simples"
      ]
    },
    {
      "cell_type": "code",
      "metadata": {
        "colab": {
          "base_uri": "https://localhost:8080/"
        },
        "id": "nDnHLfgOB78Z",
        "outputId": "8c16886b-5bfc-4754-ba32-b0af7f16d8cc"
      },
      "source": [
        "Documentary=0\n",
        "SciFi=0\n",
        "Mystery=0\n",
        "Horror=0\n",
        "Romance=1\n",
        "Thriller=0\n",
        "Crime=0\n",
        "Fantasy=0\n",
        "Comedy=0\n",
        "Animation=0\n",
        "Children=0\n",
        "Drama=0\n",
        "Adventure=0\n",
        "Duracao=86.730539\n",
        "Investimento=29.579279\n",
        "entrada=[[Documentary, SciFi, Mystery, Horror, Romance, Thriller, Crime, Fantasy, Comedy, Animation, Children, Drama, Adventure, Duracao, Investimento]]\n",
        "\n",
        "print('{0:.2f} ingressos (Bilheteria)'.format(modelo.predict(entrada)[0]))"
      ],
      "execution_count": 107,
      "outputs": [
        {
          "output_type": "stream",
          "text": [
            "6959838.79 ingressos (Bilheteria)\n"
          ],
          "name": "stdout"
        }
      ]
    },
    {
      "cell_type": "markdown",
      "metadata": {
        "id": "Ogjrq3kI5j63"
      },
      "source": [
        "#### Exemplo\n",
        "#### 1,Toy Story (1995),0,0,0,0,0,0,0,1,1,1,1,0,1,103.4683096,11.04821649,5623234.602"
      ]
    },
    {
      "cell_type": "code",
      "metadata": {
        "colab": {
          "base_uri": "https://localhost:8080/"
        },
        "id": "XF8Ed9xq5j63",
        "outputId": "42987534-79cc-4766-8ee1-c15eacb5b3b5"
      },
      "source": [
        "previsto = modelo.predict([[0,0,0,0,0,0,0,1,1,1,1,0,1,103.4683096,11.04821649]])\n",
        "previsto"
      ],
      "execution_count": 40,
      "outputs": [
        {
          "output_type": "execute_result",
          "data": {
            "text/plain": [
              "array([5792505.3053686])"
            ]
          },
          "metadata": {
            "tags": []
          },
          "execution_count": 40
        }
      ]
    },
    {
      "cell_type": "markdown",
      "metadata": {
        "id": "poalUxdJFn6B"
      },
      "source": [
        "# <font color='red' style='font-size: 30px;'>Interpretação dos Coeficientes Estimados</font>\n",
        "<hr style='border: 2px solid red;'>"
      ]
    },
    {
      "cell_type": "markdown",
      "metadata": {
        "id": "MlLRMYIFD_u0"
      },
      "source": [
        "## Obtendo o intercepto do modelo\n",
        "O intercepto representa o efeito médio em $Y$ (Bilheteria) tendo todas as variáveis explicativas excluídas do modelo. De forma mais simples, o intercepto representa o efeito médio em $Y$ (Bilheteria de Cerveja) quando todas as variáveis independentes são iguais a zero."
      ]
    },
    {
      "cell_type": "code",
      "metadata": {
        "colab": {
          "base_uri": "https://localhost:8080/"
        },
        "id": "4qAmQoET5j64",
        "outputId": "90f318d2-2331-40ba-ff0c-c55a36ed75fe"
      },
      "source": [
        "modelo.intercept_"
      ],
      "execution_count": 42,
      "outputs": [
        {
          "output_type": "execute_result",
          "data": {
            "text/plain": [
              "24534.775124577805"
            ]
          },
          "metadata": {
            "tags": []
          },
          "execution_count": 42
        }
      ]
    },
    {
      "cell_type": "code",
      "metadata": {
        "colab": {
          "base_uri": "https://localhost:8080/"
        },
        "id": "OJjRys-HHIDd",
        "outputId": "6fd2c0c3-c181-4701-db7a-ddd04b623a3b"
      },
      "source": [
        "type(modelo.intercept_)"
      ],
      "execution_count": 44,
      "outputs": [
        {
          "output_type": "execute_result",
          "data": {
            "text/plain": [
              "numpy.float64"
            ]
          },
          "metadata": {
            "tags": []
          },
          "execution_count": 44
        }
      ]
    },
    {
      "cell_type": "markdown",
      "metadata": {
        "id": "RGTrPyXnnCKz"
      },
      "source": [
        "## Obtendo os coeficientes de regressão\n",
        "Os coeficientes de regressão $\\beta_2$, $\\beta_3$ e $\\beta_4$ são conhecidos como coeficientes parciais de regressão ou coeficientes parciais angulares. Considerando o número de variáveis explicativas de nosso modelo, seu significado seria o seguinte: $\\beta_2$ mede a variação no valor médio de $Y$ (Bilheteria), por unidade de variação em $X_2$, mantendo-se os valores de $X_3$ e $X_4$ ($Xn$) constantes. Em outras palavras, ele nos dá o efeito \"direto\" ou \"líquido\" de uma unidade de variação em $X_2$ sobre o valor médio de $Y$, excluídos os efeitos que $X_3$ e $X_4$ possam ter sobre a média de $Y$. De modo análogo podemos interpretar os demais coeficientes de regressão."
      ]
    },
    {
      "cell_type": "code",
      "metadata": {
        "colab": {
          "base_uri": "https://localhost:8080/"
        },
        "id": "Q-NlCn6BnVXZ",
        "outputId": "2c43c068-fd5b-4090-da91-62c6d881ce9f"
      },
      "source": [
        "modelo.coef_"
      ],
      "execution_count": 45,
      "outputs": [
        {
          "output_type": "execute_result",
          "data": {
            "text/plain": [
              "array([ 42358.09228088,  24407.62418233,  33420.27913013, -41694.26837223,\n",
              "        28509.82466034,  34169.29128746, -20935.23699957, -14039.82312516,\n",
              "        -2588.08762102,  20994.56694658, -21443.44021581, -22709.30076912,\n",
              "       -52828.65779035,  45841.40905553,  99087.74582601])"
            ]
          },
          "metadata": {
            "tags": []
          },
          "execution_count": 45
        }
      ]
    },
    {
      "cell_type": "code",
      "metadata": {
        "colab": {
          "base_uri": "https://localhost:8080/"
        },
        "id": "ju7Yi_iMnZEt",
        "outputId": "7d802fd8-7931-45bf-a12a-e1b12e2c129a"
      },
      "source": [
        "type(modelo.coef_)"
      ],
      "execution_count": 46,
      "outputs": [
        {
          "output_type": "execute_result",
          "data": {
            "text/plain": [
              "numpy.ndarray"
            ]
          },
          "metadata": {
            "tags": []
          },
          "execution_count": 46
        }
      ]
    },
    {
      "cell_type": "markdown",
      "metadata": {
        "id": "SpzEHLDqHVaz"
      },
      "source": [
        "## Confirmando a ordem das variáveis explicativas no DataFrame"
      ]
    },
    {
      "cell_type": "code",
      "metadata": {
        "colab": {
          "base_uri": "https://localhost:8080/"
        },
        "id": "CtM7LMywHaWa",
        "outputId": "fc3eb893-e1cc-47b1-a0e7-bdea7f037a6b"
      },
      "source": [
        "filmes_independente.columns"
      ],
      "execution_count": 49,
      "outputs": [
        {
          "output_type": "execute_result",
          "data": {
            "text/plain": [
              "Index(['Documentary', 'Sci-Fi', 'Mystery', 'Horror', 'Romance', 'Thriller',\n",
              "       'Crime', 'Fantasy', 'Comedy', 'Animation', 'Children', 'Drama',\n",
              "       'Adventure', 'Duracao', 'Investimento'],\n",
              "      dtype='object')"
            ]
          },
          "metadata": {
            "tags": []
          },
          "execution_count": 49
        }
      ]
    },
    {
      "cell_type": "markdown",
      "metadata": {
        "id": "rxYNQBnpINUk"
      },
      "source": [
        "## Criando uma lista com os nomes das variáveis do modelo"
      ]
    },
    {
      "cell_type": "code",
      "metadata": {
        "id": "IVIDn7HcIPSL"
      },
      "source": [
        "index = ['Intercepto', 'Documentary', 'Sci-Fi', 'Mystery', 'Horror', 'Romance', 'Thriller',\n",
        "       'Crime', 'Fantasy', 'Comedy', 'Animation', 'Children', 'Drama',\n",
        "       'Adventure', 'Duracao', 'Investimento']"
      ],
      "execution_count": 50,
      "outputs": []
    },
    {
      "cell_type": "markdown",
      "metadata": {
        "id": "COfke2uQIaL5"
      },
      "source": [
        "## Criando um DataFrame para armazenar os coeficientes do modelo"
      ]
    },
    {
      "cell_type": "code",
      "metadata": {
        "colab": {
          "base_uri": "https://localhost:8080/",
          "height": 545
        },
        "id": "lEzfLyOQIbwI",
        "outputId": "e762c12f-2f75-49a0-8727-2c4a12627a89"
      },
      "source": [
        "pd.DataFrame(data=np.append(modelo.intercept_,modelo.coef_), index=index, columns=['Parâmetros'])"
      ],
      "execution_count": 51,
      "outputs": [
        {
          "output_type": "execute_result",
          "data": {
            "text/html": [
              "<div>\n",
              "<style scoped>\n",
              "    .dataframe tbody tr th:only-of-type {\n",
              "        vertical-align: middle;\n",
              "    }\n",
              "\n",
              "    .dataframe tbody tr th {\n",
              "        vertical-align: top;\n",
              "    }\n",
              "\n",
              "    .dataframe thead th {\n",
              "        text-align: right;\n",
              "    }\n",
              "</style>\n",
              "<table border=\"1\" class=\"dataframe\">\n",
              "  <thead>\n",
              "    <tr style=\"text-align: right;\">\n",
              "      <th></th>\n",
              "      <th>Parâmetros</th>\n",
              "    </tr>\n",
              "  </thead>\n",
              "  <tbody>\n",
              "    <tr>\n",
              "      <th>Intercepto</th>\n",
              "      <td>24534.775125</td>\n",
              "    </tr>\n",
              "    <tr>\n",
              "      <th>Documentary</th>\n",
              "      <td>42358.092281</td>\n",
              "    </tr>\n",
              "    <tr>\n",
              "      <th>Sci-Fi</th>\n",
              "      <td>24407.624182</td>\n",
              "    </tr>\n",
              "    <tr>\n",
              "      <th>Mystery</th>\n",
              "      <td>33420.279130</td>\n",
              "    </tr>\n",
              "    <tr>\n",
              "      <th>Horror</th>\n",
              "      <td>-41694.268372</td>\n",
              "    </tr>\n",
              "    <tr>\n",
              "      <th>Romance</th>\n",
              "      <td>28509.824660</td>\n",
              "    </tr>\n",
              "    <tr>\n",
              "      <th>Thriller</th>\n",
              "      <td>34169.291287</td>\n",
              "    </tr>\n",
              "    <tr>\n",
              "      <th>Crime</th>\n",
              "      <td>-20935.237000</td>\n",
              "    </tr>\n",
              "    <tr>\n",
              "      <th>Fantasy</th>\n",
              "      <td>-14039.823125</td>\n",
              "    </tr>\n",
              "    <tr>\n",
              "      <th>Comedy</th>\n",
              "      <td>-2588.087621</td>\n",
              "    </tr>\n",
              "    <tr>\n",
              "      <th>Animation</th>\n",
              "      <td>20994.566947</td>\n",
              "    </tr>\n",
              "    <tr>\n",
              "      <th>Children</th>\n",
              "      <td>-21443.440216</td>\n",
              "    </tr>\n",
              "    <tr>\n",
              "      <th>Drama</th>\n",
              "      <td>-22709.300769</td>\n",
              "    </tr>\n",
              "    <tr>\n",
              "      <th>Adventure</th>\n",
              "      <td>-52828.657790</td>\n",
              "    </tr>\n",
              "    <tr>\n",
              "      <th>Duracao</th>\n",
              "      <td>45841.409056</td>\n",
              "    </tr>\n",
              "    <tr>\n",
              "      <th>Investimento</th>\n",
              "      <td>99087.745826</td>\n",
              "    </tr>\n",
              "  </tbody>\n",
              "</table>\n",
              "</div>"
            ],
            "text/plain": [
              "                Parâmetros\n",
              "Intercepto    24534.775125\n",
              "Documentary   42358.092281\n",
              "Sci-Fi        24407.624182\n",
              "Mystery       33420.279130\n",
              "Horror       -41694.268372\n",
              "Romance       28509.824660\n",
              "Thriller      34169.291287\n",
              "Crime        -20935.237000\n",
              "Fantasy      -14039.823125\n",
              "Comedy        -2588.087621\n",
              "Animation     20994.566947\n",
              "Children     -21443.440216\n",
              "Drama        -22709.300769\n",
              "Adventure    -52828.657790\n",
              "Duracao       45841.409056\n",
              "Investimento  99087.745826"
            ]
          },
          "metadata": {
            "tags": []
          },
          "execution_count": 51
        }
      ]
    },
    {
      "cell_type": "markdown",
      "metadata": {
        "id": "y76fg6HBKXVA"
      },
      "source": [
        "## Interpretação dos Coeficientes Estimados\n",
        "Intercepto → Excluindo o efeito das variáveis explicativas ($X_2=X_3=X_4 ...Xn =0 $) o efeito médio na Bilheteria seria de 40379.948792 ingressos."
      ]
    },
    {
      "cell_type": "code",
      "metadata": {
        "colab": {
          "base_uri": "https://localhost:8080/"
        },
        "id": "i1z1kyWqIXPl",
        "outputId": "1490fce8-5cae-46b6-b218-e26f6112df41"
      },
      "source": [
        "index"
      ],
      "execution_count": 63,
      "outputs": [
        {
          "output_type": "execute_result",
          "data": {
            "text/plain": [
              "['Documentary',\n",
              " 'Sci-Fi',\n",
              " 'Mystery',\n",
              " 'Horror',\n",
              " 'Romance',\n",
              " 'Thriller',\n",
              " 'Crime',\n",
              " 'Fantasy',\n",
              " 'Comedy',\n",
              " 'Animation',\n",
              " 'Children',\n",
              " 'Drama',\n",
              " 'Adventure',\n",
              " 'Duracao',\n",
              " 'Investimento']"
            ]
          },
          "metadata": {
            "tags": []
          },
          "execution_count": 63
        }
      ]
    },
    {
      "cell_type": "markdown",
      "metadata": {
        "id": "1uSm-zDLFzph"
      },
      "source": [
        "# <font color='red' style='font-size: 30px;'>Análises Gráficas das Previsões do Modelo</font>\n",
        "<hr style='border: 2px solid red;'>"
      ]
    },
    {
      "cell_type": "markdown",
      "metadata": {
        "id": "8lQTvFjjK9vt"
      },
      "source": [
        "## Gerando as previsões do modelo para os dados de TREINO"
      ]
    },
    {
      "cell_type": "code",
      "metadata": {
        "colab": {
          "base_uri": "https://localhost:8080/"
        },
        "id": "CZsUaUHmLAwh",
        "outputId": "b92a90b4-1a39-42a5-cf0a-a769cbd74aec"
      },
      "source": [
        "previsto_bilheteria = modelo.predict(teste)\n",
        "previsto_bilheteria"
      ],
      "execution_count": 92,
      "outputs": [
        {
          "output_type": "execute_result",
          "data": {
            "text/plain": [
              "array([7469789.08880355, 5912825.40339902, 9288837.75054187, ...,\n",
              "       9380075.24405153, 8900384.32315662, 5875914.82645251])"
            ]
          },
          "metadata": {
            "tags": []
          },
          "execution_count": 92
        }
      ]
    },
    {
      "cell_type": "markdown",
      "metadata": {
        "id": "llZiMC7NLLk_"
      },
      "source": [
        "## Gráfico de dispersão entre valor estimado e valor real"
      ]
    },
    {
      "cell_type": "code",
      "metadata": {
        "colab": {
          "base_uri": "https://localhost:8080/",
          "height": 312
        },
        "id": "UIj2Zkz2LNJa",
        "outputId": "038bcde5-b51f-4bb4-c98b-7ed535e41a33"
      },
      "source": [
        "plt.scatter(x=previsto_bilheteria, y=treino_bilheteria)\n",
        "plt.title('Previsto X Real')\n",
        "plt.xlabel('Investimento (Milhões U$)')\n",
        "plt.ylabel('Bilheteria (Pessoas)')"
      ],
      "execution_count": 58,
      "outputs": [
        {
          "output_type": "execute_result",
          "data": {
            "text/plain": [
              "Text(0, 0.5, 'Bilheteria (Pessoas)')"
            ]
          },
          "metadata": {
            "tags": []
          },
          "execution_count": 58
        },
        {
          "output_type": "display_data",
          "data": {
            "image/png": "[encoded data removed]",
            "text/plain": [
              "<Figure size 432x288 with 1 Axes>"
            ]
          },
          "metadata": {
            "tags": [],
            "needs_background": "light"
          }
        }
      ]
    },
    {
      "cell_type": "markdown",
      "metadata": {
        "id": "HaTHUCYHMkl9"
      },
      "source": [
        "## Obtendo os resíduos"
      ]
    },
    {
      "cell_type": "code",
      "metadata": {
        "colab": {
          "base_uri": "https://localhost:8080/"
        },
        "id": "h3tC06YZpDCk",
        "outputId": "c8389510-9911-417d-d1c9-697e687f3e8c"
      },
      "source": [
        "len(previsto_bilheteria)"
      ],
      "execution_count": 72,
      "outputs": [
        {
          "output_type": "execute_result",
          "data": {
            "text/plain": [
              "6843"
            ]
          },
          "metadata": {
            "tags": []
          },
          "execution_count": 72
        }
      ]
    },
    {
      "cell_type": "code",
      "metadata": {
        "colab": {
          "base_uri": "https://localhost:8080/"
        },
        "id": "oUPvNuRTDA9I",
        "outputId": "c25def46-708d-417a-968c-90fcc682510c"
      },
      "source": [
        "len(treino_bilheteria)"
      ],
      "execution_count": 79,
      "outputs": [
        {
          "output_type": "execute_result",
          "data": {
            "text/plain": [
              "6843"
            ]
          },
          "metadata": {
            "tags": []
          },
          "execution_count": 79
        }
      ]
    },
    {
      "cell_type": "code",
      "metadata": {
        "colab": {
          "base_uri": "https://localhost:8080/"
        },
        "id": "hzw4Nfz1MmJM",
        "outputId": "1b378be1-63d2-41ce-c176-47c0b8f8ad17"
      },
      "source": [
        "residuo = treino_bilheteria - previsto_bilheteria\n",
        "residuo"
      ],
      "execution_count": 65,
      "outputs": [
        {
          "output_type": "execute_result",
          "data": {
            "text/plain": [
              "1393   -7.076841e+05\n",
              "8710    1.101800e+06\n",
              "4025    1.246867e+06\n",
              "4424   -1.594375e+06\n",
              "448     1.802036e+06\n",
              "            ...     \n",
              "1347   -9.473849e+05\n",
              "8506   -3.952384e+05\n",
              "3473   -5.400575e+05\n",
              "8880    4.581403e+05\n",
              "6950   -3.514027e+05\n",
              "Name: Bilheteria, Length: 6843, dtype: float64"
            ]
          },
          "metadata": {
            "tags": []
          },
          "execution_count": 65
        }
      ]
    },
    {
      "cell_type": "markdown",
      "metadata": {
        "id": "shLmIfrcMvVo"
      },
      "source": [
        "## Gráfico de dispersão entre valor estimado e resíduos\n",
        "Método informal de verificação da hipótese de variância constante dos resíduos (homocedasticidade)"
      ]
    },
    {
      "cell_type": "code",
      "metadata": {
        "colab": {
          "base_uri": "https://localhost:8080/",
          "height": 312
        },
        "id": "49rk3HhBMzQj",
        "outputId": "96c7e6ab-cd17-431b-bec6-8b74b56c3949"
      },
      "source": [
        "plt.scatter(x=previsto_bilheteria, y=residuo)\n",
        "plt.title('Previsto X Realizado')\n",
        "plt.xlabel('Bilheteria (Ingressos) - Previsão')\n",
        "plt.ylabel('Bilheteria (Ingressos) - Real')"
      ],
      "execution_count": 75,
      "outputs": [
        {
          "output_type": "execute_result",
          "data": {
            "text/plain": [
              "Text(0, 0.5, 'Bilheteria (Ingressos) - Real')"
            ]
          },
          "metadata": {
            "tags": []
          },
          "execution_count": 75
        },
        {
          "output_type": "display_data",
          "data": {
            "image/png": "[encoded data removed]",
            "text/plain": [
              "<Figure size 432x288 with 1 Axes>"
            ]
          },
          "metadata": {
            "tags": [],
            "needs_background": "light"
          }
        }
      ]
    },
    {
      "cell_type": "markdown",
      "metadata": {
        "id": "bPfUHjlRNYqE"
      },
      "source": [
        "## Utilizando os resíduos ao quadrado"
      ]
    },
    {
      "cell_type": "code",
      "metadata": {
        "colab": {
          "base_uri": "https://localhost:8080/",
          "height": 312
        },
        "id": "qJMd_7RPNaZ3",
        "outputId": "3d8855ce-9b2c-449d-867b-83498ac2cc26"
      },
      "source": [
        "plt.scatter(x=previsto_bilheteria, y=residuo**2, s=10)\n",
        "plt.title('Resíduos X Previsão')\n",
        "plt.xlabel('Bilheteria (Ingressos) - Previsão')\n",
        "plt.ylabel('Resíduos²')"
      ],
      "execution_count": 76,
      "outputs": [
        {
          "output_type": "execute_result",
          "data": {
            "text/plain": [
              "Text(0, 0.5, 'Resíduos²')"
            ]
          },
          "metadata": {
            "tags": []
          },
          "execution_count": 76
        },
        {
          "output_type": "display_data",
          "data": {
            "image/png": "[encoded data removed]",
            "text/plain": [
              "<Figure size 432x288 with 1 Axes>"
            ]
          },
          "metadata": {
            "tags": [],
            "needs_background": "light"
          }
        }
      ]
    },
    {
      "cell_type": "markdown",
      "metadata": {
        "id": "l4s10PF9N0pq"
      },
      "source": [
        "## Plotando a distribuição de frequências dos resíduos"
      ]
    },
    {
      "cell_type": "code",
      "metadata": {
        "colab": {
          "base_uri": "https://localhost:8080/",
          "height": 312
        },
        "id": "4yE74ispN2Lo",
        "outputId": "f2554f41-6dc3-4b96-9ff0-fd1133e87d28"
      },
      "source": [
        "plt.hist(residuo, bins=30)\n",
        "plt.title('Distribuição de Frequência dos Resíduos')\n",
        "plt.xlabel('Ingressos')\n"
      ],
      "execution_count": 90,
      "outputs": [
        {
          "output_type": "execute_result",
          "data": {
            "text/plain": [
              "Text(0.5, 0, 'Ingressos')"
            ]
          },
          "metadata": {
            "tags": []
          },
          "execution_count": 90
        },
        {
          "output_type": "display_data",
          "data": {
            "image/png": "[encoded data removed]",
            "text/plain": [
              "<Figure size 432x288 with 1 Axes>"
            ]
          },
          "metadata": {
            "tags": [],
            "needs_background": "light"
          }
        }
      ]
    },
    {
      "cell_type": "markdown",
      "metadata": {
        "id": "NYr_vUnzGD2r"
      },
      "source": [
        "# <font color='red' style='font-size: 30px;'>Outras Métricas de Regressão</font>\n",
        "<hr style='border: 2px solid red;'>"
      ]
    },
    {
      "cell_type": "markdown",
      "metadata": {
        "id": "S-_yBS8zGHM5"
      },
      "source": [
        "## Métricas da regressão\n",
        "<hr>\n",
        "\n",
        "fonte: https://scikit-learn.org/stable/modules/model_evaluation.html#regression-metrics\n",
        "\n",
        "Algumas estatísticas obtidas do modelo de regressão são muito úteis como critério de comparação entre modelos estimados e de seleção do melhor modelo, as principais métricas de regressão que o scikit-learn disponibiliza para modelos lineares são as seguintes:\n",
        "\n",
        "### Erro Quadrático Médio\n",
        "\n",
        "Média dos quadrados dos erros. Ajustes melhores apresentam $EQM$ mais baixo.\n",
        "\n",
        "$$EQM(y, \\hat{y}) = \\frac 1n\\sum_{i=0}^{n-1}(y_i-\\hat{y}_i)^2$$\n",
        "\n",
        "### Raíz do Erro Quadrático Médio\n",
        "\n",
        "Raíz quadrada da média dos quadrados dos erros. Ajustes melhores apresentam $\\sqrt{EQM}$ mais baixo.\n",
        "\n",
        "$$\\sqrt{EQM(y, \\hat{y})} = \\sqrt{\\frac 1n\\sum_{i=0}^{n-1}(y_i-\\hat{y}_i)^2}$$\n",
        "\n"
      ]
    },
    {
      "cell_type": "markdown",
      "metadata": {
        "id": "0L7sMF1ZIsVK"
      },
      "source": [
        "## Gerando previsões para os dados de TESTE (X_test e X2_test) utilizando o método *predict()* do objetos \"modelo\""
      ]
    },
    {
      "cell_type": "code",
      "metadata": {
        "id": "4HixJ7RIIrdr"
      },
      "source": [
        "y_previsto = modelo.predict(X_test)\n",
        "y_previsto_2 = modelo_2.predict(X2_test)"
      ],
      "execution_count": null,
      "outputs": []
    },
    {
      "cell_type": "code",
      "metadata": {
        "colab": {
          "base_uri": "https://localhost:8080/"
        },
        "id": "IrN-6dh0I7z6",
        "outputId": "51947c17-d13f-4ba0-b69d-715f6ab4507a"
      },
      "source": [
        "previsto_bilheteria"
      ],
      "execution_count": 91,
      "outputs": [
        {
          "output_type": "execute_result",
          "data": {
            "text/plain": [
              "array([6643946.55570891, 5903300.19832781, 9600474.35125174, ...,\n",
              "       5130444.30205255, 7389302.2917943 , 6148464.38114846])"
            ]
          },
          "metadata": {
            "tags": []
          },
          "execution_count": 91
        }
      ]
    },
    {
      "cell_type": "markdown",
      "metadata": {
        "id": "i4l_lMzs9VmX"
      },
      "source": [
        "## Obtendo métricas para o modelo"
      ]
    },
    {
      "cell_type": "code",
      "metadata": {
        "colab": {
          "base_uri": "https://localhost:8080/",
          "height": 419
        },
        "id": "v5X08jNGHINv",
        "outputId": "adb7680c-8c84-43d2-c3b8-d326f466a310"
      },
      "source": [
        "teste"
      ],
      "execution_count": 78,
      "outputs": [
        {
          "output_type": "execute_result",
          "data": {
            "text/html": [
              "<div>\n",
              "<style scoped>\n",
              "    .dataframe tbody tr th:only-of-type {\n",
              "        vertical-align: middle;\n",
              "    }\n",
              "\n",
              "    .dataframe tbody tr th {\n",
              "        vertical-align: top;\n",
              "    }\n",
              "\n",
              "    .dataframe thead th {\n",
              "        text-align: right;\n",
              "    }\n",
              "</style>\n",
              "<table border=\"1\" class=\"dataframe\">\n",
              "  <thead>\n",
              "    <tr style=\"text-align: right;\">\n",
              "      <th></th>\n",
              "      <th>Documentary</th>\n",
              "      <th>Sci-Fi</th>\n",
              "      <th>Mystery</th>\n",
              "      <th>Horror</th>\n",
              "      <th>Romance</th>\n",
              "      <th>Thriller</th>\n",
              "      <th>Crime</th>\n",
              "      <th>Fantasy</th>\n",
              "      <th>Comedy</th>\n",
              "      <th>Animation</th>\n",
              "      <th>Children</th>\n",
              "      <th>Drama</th>\n",
              "      <th>Adventure</th>\n",
              "      <th>Duracao</th>\n",
              "      <th>Investimento</th>\n",
              "    </tr>\n",
              "  </thead>\n",
              "  <tbody>\n",
              "    <tr>\n",
              "      <th>3859</th>\n",
              "      <td>0</td>\n",
              "      <td>0</td>\n",
              "      <td>0</td>\n",
              "      <td>0</td>\n",
              "      <td>0</td>\n",
              "      <td>0</td>\n",
              "      <td>0</td>\n",
              "      <td>0</td>\n",
              "      <td>0</td>\n",
              "      <td>0</td>\n",
              "      <td>0</td>\n",
              "      <td>1</td>\n",
              "      <td>0</td>\n",
              "      <td>86.031062</td>\n",
              "      <td>35.566239</td>\n",
              "    </tr>\n",
              "    <tr>\n",
              "      <th>2395</th>\n",
              "      <td>1</td>\n",
              "      <td>0</td>\n",
              "      <td>0</td>\n",
              "      <td>0</td>\n",
              "      <td>0</td>\n",
              "      <td>0</td>\n",
              "      <td>0</td>\n",
              "      <td>0</td>\n",
              "      <td>0</td>\n",
              "      <td>0</td>\n",
              "      <td>0</td>\n",
              "      <td>0</td>\n",
              "      <td>0</td>\n",
              "      <td>94.357707</td>\n",
              "      <td>15.344403</td>\n",
              "    </tr>\n",
              "    <tr>\n",
              "      <th>6379</th>\n",
              "      <td>0</td>\n",
              "      <td>0</td>\n",
              "      <td>0</td>\n",
              "      <td>0</td>\n",
              "      <td>0</td>\n",
              "      <td>1</td>\n",
              "      <td>1</td>\n",
              "      <td>0</td>\n",
              "      <td>0</td>\n",
              "      <td>0</td>\n",
              "      <td>0</td>\n",
              "      <td>0</td>\n",
              "      <td>0</td>\n",
              "      <td>118.757809</td>\n",
              "      <td>38.420933</td>\n",
              "    </tr>\n",
              "    <tr>\n",
              "      <th>2355</th>\n",
              "      <td>0</td>\n",
              "      <td>0</td>\n",
              "      <td>0</td>\n",
              "      <td>0</td>\n",
              "      <td>1</td>\n",
              "      <td>0</td>\n",
              "      <td>0</td>\n",
              "      <td>0</td>\n",
              "      <td>1</td>\n",
              "      <td>0</td>\n",
              "      <td>0</td>\n",
              "      <td>0</td>\n",
              "      <td>1</td>\n",
              "      <td>71.201125</td>\n",
              "      <td>18.557700</td>\n",
              "    </tr>\n",
              "    <tr>\n",
              "      <th>4641</th>\n",
              "      <td>0</td>\n",
              "      <td>0</td>\n",
              "      <td>0</td>\n",
              "      <td>0</td>\n",
              "      <td>0</td>\n",
              "      <td>0</td>\n",
              "      <td>0</td>\n",
              "      <td>0</td>\n",
              "      <td>1</td>\n",
              "      <td>0</td>\n",
              "      <td>0</td>\n",
              "      <td>0</td>\n",
              "      <td>0</td>\n",
              "      <td>119.692973</td>\n",
              "      <td>21.090627</td>\n",
              "    </tr>\n",
              "    <tr>\n",
              "      <th>...</th>\n",
              "      <td>...</td>\n",
              "      <td>...</td>\n",
              "      <td>...</td>\n",
              "      <td>...</td>\n",
              "      <td>...</td>\n",
              "      <td>...</td>\n",
              "      <td>...</td>\n",
              "      <td>...</td>\n",
              "      <td>...</td>\n",
              "      <td>...</td>\n",
              "      <td>...</td>\n",
              "      <td>...</td>\n",
              "      <td>...</td>\n",
              "      <td>...</td>\n",
              "      <td>...</td>\n",
              "    </tr>\n",
              "    <tr>\n",
              "      <th>4438</th>\n",
              "      <td>0</td>\n",
              "      <td>0</td>\n",
              "      <td>0</td>\n",
              "      <td>0</td>\n",
              "      <td>1</td>\n",
              "      <td>0</td>\n",
              "      <td>0</td>\n",
              "      <td>0</td>\n",
              "      <td>1</td>\n",
              "      <td>0</td>\n",
              "      <td>0</td>\n",
              "      <td>0</td>\n",
              "      <td>0</td>\n",
              "      <td>148.814463</td>\n",
              "      <td>9.496976</td>\n",
              "    </tr>\n",
              "    <tr>\n",
              "      <th>740</th>\n",
              "      <td>0</td>\n",
              "      <td>0</td>\n",
              "      <td>0</td>\n",
              "      <td>0</td>\n",
              "      <td>0</td>\n",
              "      <td>0</td>\n",
              "      <td>0</td>\n",
              "      <td>1</td>\n",
              "      <td>0</td>\n",
              "      <td>0</td>\n",
              "      <td>1</td>\n",
              "      <td>0</td>\n",
              "      <td>1</td>\n",
              "      <td>98.443788</td>\n",
              "      <td>34.741632</td>\n",
              "    </tr>\n",
              "    <tr>\n",
              "      <th>7761</th>\n",
              "      <td>0</td>\n",
              "      <td>0</td>\n",
              "      <td>0</td>\n",
              "      <td>0</td>\n",
              "      <td>0</td>\n",
              "      <td>0</td>\n",
              "      <td>0</td>\n",
              "      <td>0</td>\n",
              "      <td>0</td>\n",
              "      <td>1</td>\n",
              "      <td>1</td>\n",
              "      <td>0</td>\n",
              "      <td>0</td>\n",
              "      <td>138.858075</td>\n",
              "      <td>30.180720</td>\n",
              "    </tr>\n",
              "    <tr>\n",
              "      <th>1284</th>\n",
              "      <td>0</td>\n",
              "      <td>0</td>\n",
              "      <td>0</td>\n",
              "      <td>0</td>\n",
              "      <td>0</td>\n",
              "      <td>0</td>\n",
              "      <td>0</td>\n",
              "      <td>0</td>\n",
              "      <td>0</td>\n",
              "      <td>0</td>\n",
              "      <td>0</td>\n",
              "      <td>1</td>\n",
              "      <td>0</td>\n",
              "      <td>148.302562</td>\n",
              "      <td>21.194956</td>\n",
              "    </tr>\n",
              "    <tr>\n",
              "      <th>5643</th>\n",
              "      <td>0</td>\n",
              "      <td>0</td>\n",
              "      <td>0</td>\n",
              "      <td>1</td>\n",
              "      <td>0</td>\n",
              "      <td>1</td>\n",
              "      <td>0</td>\n",
              "      <td>1</td>\n",
              "      <td>0</td>\n",
              "      <td>0</td>\n",
              "      <td>0</td>\n",
              "      <td>0</td>\n",
              "      <td>0</td>\n",
              "      <td>106.759105</td>\n",
              "      <td>9.879698</td>\n",
              "    </tr>\n",
              "  </tbody>\n",
              "</table>\n",
              "<p>2282 rows × 15 columns</p>\n",
              "</div>"
            ],
            "text/plain": [
              "      Documentary  Sci-Fi  Mystery  ...  Adventure     Duracao  Investimento\n",
              "3859            0       0        0  ...          0   86.031062     35.566239\n",
              "2395            1       0        0  ...          0   94.357707     15.344403\n",
              "6379            0       0        0  ...          0  118.757809     38.420933\n",
              "2355            0       0        0  ...          1   71.201125     18.557700\n",
              "4641            0       0        0  ...          0  119.692973     21.090627\n",
              "...           ...     ...      ...  ...        ...         ...           ...\n",
              "4438            0       0        0  ...          0  148.814463      9.496976\n",
              "740             0       0        0  ...          1   98.443788     34.741632\n",
              "7761            0       0        0  ...          0  138.858075     30.180720\n",
              "1284            0       0        0  ...          0  148.302562     21.194956\n",
              "5643            0       0        0  ...          0  106.759105      9.879698\n",
              "\n",
              "[2282 rows x 15 columns]"
            ]
          },
          "metadata": {
            "tags": []
          },
          "execution_count": 78
        }
      ]
    },
    {
      "cell_type": "code",
      "metadata": {
        "colab": {
          "base_uri": "https://localhost:8080/",
          "height": 142
        },
        "id": "MzyAwwhnHjGc",
        "outputId": "3dbf3033-b0d6-41a9-935a-8bcb6c473832"
      },
      "source": [
        "EQM_2 = metrics.mean_squared_error(teste_bilheteria, previsto_bilheteria)\n",
        "REQM_2 = np.sqrt(metrics.mean_squared_error(teste_bilheteria, previsto_bilheteria))\n",
        "R2_2 = metrics.r2_score(teste_bilheteria, previsto_bilheteria)\n",
        "\n",
        "\n",
        "pd.DataFrame([EQM_2,REQM_2,R2_2],['EQM', 'REQM', 'R²'], columns=['Métricas'])"
      ],
      "execution_count": 103,
      "outputs": [
        {
          "output_type": "execute_result",
          "data": {
            "text/html": [
              "<div>\n",
              "<style scoped>\n",
              "    .dataframe tbody tr th:only-of-type {\n",
              "        vertical-align: middle;\n",
              "    }\n",
              "\n",
              "    .dataframe tbody tr th {\n",
              "        vertical-align: top;\n",
              "    }\n",
              "\n",
              "    .dataframe thead th {\n",
              "        text-align: right;\n",
              "    }\n",
              "</style>\n",
              "<table border=\"1\" class=\"dataframe\">\n",
              "  <thead>\n",
              "    <tr style=\"text-align: right;\">\n",
              "      <th></th>\n",
              "      <th>Métricas</th>\n",
              "    </tr>\n",
              "  </thead>\n",
              "  <tbody>\n",
              "    <tr>\n",
              "      <th>EQM</th>\n",
              "      <td>4.981305e+11</td>\n",
              "    </tr>\n",
              "    <tr>\n",
              "      <th>REQM</th>\n",
              "      <td>7.057836e+05</td>\n",
              "    </tr>\n",
              "    <tr>\n",
              "      <th>R²</th>\n",
              "      <td>8.256413e-01</td>\n",
              "    </tr>\n",
              "  </tbody>\n",
              "</table>\n",
              "</div>"
            ],
            "text/plain": [
              "          Métricas\n",
              "EQM   4.981305e+11\n",
              "REQM  7.057836e+05\n",
              "R²    8.256413e-01"
            ]
          },
          "metadata": {
            "tags": []
          },
          "execution_count": 103
        }
      ]
    },
    {
      "cell_type": "markdown",
      "metadata": {
        "id": "Ky0oy7ISLVNg"
      },
      "source": [
        "# <font color='red' style='font-size: 30px;'>Salvando e Carregando o Modelo Estimado</font>\n",
        "<hr style='border: 2px solid red;'>"
      ]
    },
    {
      "cell_type": "markdown",
      "metadata": {
        "id": "GAstEifp5j64"
      },
      "source": [
        "## Gerando previsão pontual (Zootopia)\n",
        "```\n",
        "movieId,Titulo,Documentary,Sci-Fi,Mystery,Horror,Romance,Thriller,Crime,Fantasy,Comedy,Animation,Children,Drama,Adventure,Duracao,Investimento,Bilheteria\n",
        "9999999,Zootopia,0,0,0,0,0,0,0,1,1,1,1,0,1,110,27.74456356,?????\n",
        "```"
      ]
    },
    {
      "cell_type": "code",
      "metadata": {
        "id": "APPFMcZ35j64",
        "outputId": "aa7e5843-795f-42e6-a67e-e8a1cc8956fc"
      },
      "source": [
        "zootopia = [0,0,0,0,0,0,0,1,1,1,1,0,1,110,27.74456356]\n",
        "modelo.predict([zootopia])"
      ],
      "execution_count": null,
      "outputs": [
        {
          "output_type": "execute_result",
          "data": {
            "text/plain": [
              "array([[ 7779149.0280967]])"
            ]
          },
          "metadata": {
            "tags": []
          },
          "execution_count": 99
        }
      ]
    },
    {
      "cell_type": "markdown",
      "metadata": {
        "id": "NKX-tkGhLciW"
      },
      "source": [
        "## Salvando o modelo estimado"
      ]
    },
    {
      "cell_type": "code",
      "metadata": {
        "id": "v3meBK7dLfta"
      },
      "source": [
        "import pickle"
      ],
      "execution_count": 104,
      "outputs": []
    },
    {
      "cell_type": "code",
      "metadata": {
        "id": "VBRsSkssLhaZ"
      },
      "source": [
        "output = open('modelo_bilheteria', 'wb')\n",
        "pickle.dump(modelo, output)\n",
        "output.close()"
      ],
      "execution_count": 106,
      "outputs": []
    },
    {
      "cell_type": "markdown",
      "metadata": {
        "id": "hT9_3fBjLr0C"
      },
      "source": [
        "### Em um novo notebook/projeto Python\n",
        "\n",
        "<h4 style='color: blue; font-weight: normal'>In [1]:</h4>\n",
        "\n",
        "```sh\n",
        "import pickle\n",
        "\n",
        "modelo = open('modelo_bilheteria','rb')\n",
        "lm_new = pickle.load(modelo)\n",
        "modelo.close()\n",
        "\n",
        "Documentary=0\n",
        "SciFi=0\n",
        "Mystery=0\n",
        "Horror=0\n",
        "Romance=1\n",
        "Thriller=0\n",
        "Crime=0\n",
        "Fantasy=0\n",
        "Comedy=0\n",
        "Animation=0\n",
        "Children=0\n",
        "Drama=0\n",
        "Adventure=0\n",
        "Duracao=86.730539\n",
        "Investimento=29.579279\n",
        "\n",
        "entrada=[[Documentary, SciFi, Mystery, Horror, Romance, Thriller, Crime, Fantasy, Comedy, Animation, Children, Drama, Adventure, Duracao, Investimento]]\n",
        "\n",
        "print('{0:.2f} ingressos'.format(lm_new.predict(entrada)[0]))\n",
        "```"
      ]
    },
    {
      "cell_type": "code",
      "metadata": {
        "id": "iTYsAW-dLq8n"
      },
      "source": [
        ""
      ],
      "execution_count": null,
      "outputs": []
    },
    {
      "cell_type": "markdown",
      "metadata": {
        "id": "Osh9cbmnOSED"
      },
      "source": [
        "# <font color='red' style='font-size: 30px;'>Alterando tamanho dos dados</font>\n",
        "<hr style='border: 2px solid red;'>"
      ]
    },
    {
      "cell_type": "markdown",
      "metadata": {
        "id": "CllQrlZU5j65"
      },
      "source": [
        "## Split dos dados com test_size=0.3"
      ]
    },
    {
      "cell_type": "code",
      "metadata": {
        "id": "0wudPsaQ5j65"
      },
      "source": [
        "treino_2, teste_2, treino_bilheteria_2, teste_bilheteria_2 = train_test_split(filmes_independente, filmes_dependente, test_size=0.3)"
      ],
      "execution_count": 108,
      "outputs": []
    },
    {
      "cell_type": "code",
      "metadata": {
        "colab": {
          "base_uri": "https://localhost:8080/"
        },
        "id": "2Hy72hW25j65",
        "outputId": "1cf12d74-8a72-4ee3-9075-3492df1e9bd0"
      },
      "source": [
        "modelo_30 = LinearRegression()\n",
        "modelo_30.fit(treino,treino_bilheteria)"
      ],
      "execution_count": 110,
      "outputs": [
        {
          "output_type": "execute_result",
          "data": {
            "text/plain": [
              "LinearRegression(copy_X=True, fit_intercept=True, n_jobs=None, normalize=False)"
            ]
          },
          "metadata": {
            "tags": []
          },
          "execution_count": 110
        }
      ]
    },
    {
      "cell_type": "code",
      "metadata": {
        "colab": {
          "base_uri": "https://localhost:8080/"
        },
        "id": "CQc54qqi5j65",
        "outputId": "f9136b5d-3549-497a-fc41-f93121dcd07e"
      },
      "source": [
        "modelo_30.score(teste, teste_bilheteria)"
      ],
      "execution_count": 111,
      "outputs": [
        {
          "output_type": "execute_result",
          "data": {
            "text/plain": [
              "0.8256412506801167"
            ]
          },
          "metadata": {
            "tags": []
          },
          "execution_count": 111
        }
      ]
    },
    {
      "cell_type": "code",
      "metadata": {
        "colab": {
          "base_uri": "https://localhost:8080/"
        },
        "id": "M9tXj0KF5j65",
        "outputId": "64812267-d13b-4e64-ea42-c379fd263a16"
      },
      "source": [
        "zootopia = [0,0,0,0,0,0,0,0,1,1,1,0,1,145.5170642,3.451632127]\n",
        "modelo_30.predict([zootopia])"
      ],
      "execution_count": 113,
      "outputs": [
        {
          "output_type": "execute_result",
          "data": {
            "text/plain": [
              "array([6981390.86788126])"
            ]
          },
          "metadata": {
            "tags": []
          },
          "execution_count": 113
        }
      ]
    },
    {
      "cell_type": "code",
      "metadata": {
        "colab": {
          "base_uri": "https://localhost:8080/"
        },
        "id": "k0WfDaiB5j65",
        "outputId": "153b94de-b6b9-4b37-cb63-8e689fc06e23"
      },
      "source": [
        "planeta_macaco = [0,1,0,0,0,0,0,0,0,0,0,0,0,150,5]\n",
        "modelo_30.predict([planeta_macaco])"
      ],
      "execution_count": 114,
      "outputs": [
        {
          "output_type": "execute_result",
          "data": {
            "text/plain": [
              "array([7420592.48676667])"
            ]
          },
          "metadata": {
            "tags": []
          },
          "execution_count": 114
        }
      ]
    },
    {
      "cell_type": "markdown",
      "metadata": {
        "id": "rbvKI4cWLPsM"
      },
      "source": [
        ""
      ]
    }
  ]
}