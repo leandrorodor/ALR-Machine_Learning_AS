{
  "nbformat": 4,
  "nbformat_minor": 0,
  "metadata": {
    "kernelspec": {
      "display_name": "Python 3",
      "language": "python",
      "name": "python3"
    },
    "language_info": {
      "codemirror_mode": {
        "name": "ipython",
        "version": 3
      },
      "file_extension": ".py",
      "mimetype": "text/x-python",
      "name": "python",
      "nbconvert_exporter": "python",
      "pygments_lexer": "ipython3",
      "version": "3.6.5"
    },
    "colab": {
      "name": "626-Aula4.ipynb",
      "provenance": [],
      "toc_visible": true,
      "include_colab_link": true
    }
  },
  "cells": [
    {
      "cell_type": "markdown",
      "metadata": {
        "id": "view-in-github",
        "colab_type": "text"
      },
      "source": [
        "<a href=\"https://colab.research.google.com/github/leandrorodor/ALR-Machine_Learning_AS/blob/main/decision_tree.ipynb\" target=\"_parent\"><img src=\"https://colab.research.google.com/assets/colab-badge.svg\" alt=\"Open In Colab\"/></a>"
      ]
    },
    {
      "cell_type": "markdown",
      "metadata": {
        "id": "_3uapuM-ZFkQ"
      },
      "source": [
        "Conhecendo DecisionTreeRegressor"
      ]
    },
    {
      "cell_type": "code",
      "metadata": {
        "id": "twfaDwSJZFka"
      },
      "source": [
        "import pandas as pd\n",
        "import numpy as np \n",
        "from sklearn import tree\n",
        "from sklearn.linear_model import LinearRegression\n",
        "from sklearn.model_selection import train_test_split"
      ],
      "execution_count": null,
      "outputs": []
    },
    {
      "cell_type": "markdown",
      "metadata": {
        "id": "NAMlijNsZFkc"
      },
      "source": [
        "Download Dataset: [movies_multilinear_reg.csv](https://s3.amazonaws.com/caelum-online-public/machine-learning-aprendizado-supervisionado/movies_multilinear_reg.csv)"
      ]
    },
    {
      "cell_type": "code",
      "metadata": {
        "id": "AVciuD1HZFkc"
      },
      "source": [
        "filmes = pd.read_csv('datasets/movies_multilinear_reg.csv')"
      ],
      "execution_count": null,
      "outputs": []
    },
    {
      "cell_type": "code",
      "metadata": {
        "id": "j-7VOKhtZFkc",
        "outputId": "e3bef00f-3b47-4918-a88d-bae7cb873042"
      },
      "source": [
        "filmes.head(5)"
      ],
      "execution_count": null,
      "outputs": [
        {
          "output_type": "execute_result",
          "data": {
            "text/html": [
              "<div>\n",
              "<style scoped>\n",
              "    .dataframe tbody tr th:only-of-type {\n",
              "        vertical-align: middle;\n",
              "    }\n",
              "\n",
              "    .dataframe tbody tr th {\n",
              "        vertical-align: top;\n",
              "    }\n",
              "\n",
              "    .dataframe thead th {\n",
              "        text-align: right;\n",
              "    }\n",
              "</style>\n",
              "<table border=\"1\" class=\"dataframe\">\n",
              "  <thead>\n",
              "    <tr style=\"text-align: right;\">\n",
              "      <th></th>\n",
              "      <th>movieId</th>\n",
              "      <th>Titulo</th>\n",
              "      <th>Documentary</th>\n",
              "      <th>Sci-Fi</th>\n",
              "      <th>Mystery</th>\n",
              "      <th>Horror</th>\n",
              "      <th>Romance</th>\n",
              "      <th>Thriller</th>\n",
              "      <th>Crime</th>\n",
              "      <th>Fantasy</th>\n",
              "      <th>Comedy</th>\n",
              "      <th>Animation</th>\n",
              "      <th>Children</th>\n",
              "      <th>Drama</th>\n",
              "      <th>Adventure</th>\n",
              "      <th>Duracao</th>\n",
              "      <th>Investimento</th>\n",
              "      <th>Bilheteria</th>\n",
              "    </tr>\n",
              "  </thead>\n",
              "  <tbody>\n",
              "    <tr>\n",
              "      <th>0</th>\n",
              "      <td>1</td>\n",
              "      <td>Toy Story (1995)</td>\n",
              "      <td>0</td>\n",
              "      <td>0</td>\n",
              "      <td>0</td>\n",
              "      <td>0</td>\n",
              "      <td>0</td>\n",
              "      <td>0</td>\n",
              "      <td>0</td>\n",
              "      <td>1</td>\n",
              "      <td>1</td>\n",
              "      <td>1</td>\n",
              "      <td>1</td>\n",
              "      <td>0</td>\n",
              "      <td>1</td>\n",
              "      <td>103.468310</td>\n",
              "      <td>11.048216</td>\n",
              "      <td>5623234.602</td>\n",
              "    </tr>\n",
              "    <tr>\n",
              "      <th>1</th>\n",
              "      <td>2</td>\n",
              "      <td>Jumanji (1995)</td>\n",
              "      <td>0</td>\n",
              "      <td>0</td>\n",
              "      <td>0</td>\n",
              "      <td>0</td>\n",
              "      <td>0</td>\n",
              "      <td>0</td>\n",
              "      <td>0</td>\n",
              "      <td>1</td>\n",
              "      <td>0</td>\n",
              "      <td>0</td>\n",
              "      <td>1</td>\n",
              "      <td>0</td>\n",
              "      <td>1</td>\n",
              "      <td>112.337916</td>\n",
              "      <td>14.927678</td>\n",
              "      <td>5714951.757</td>\n",
              "    </tr>\n",
              "    <tr>\n",
              "      <th>2</th>\n",
              "      <td>3</td>\n",
              "      <td>Grumpier Old Men (1995)</td>\n",
              "      <td>0</td>\n",
              "      <td>0</td>\n",
              "      <td>0</td>\n",
              "      <td>0</td>\n",
              "      <td>1</td>\n",
              "      <td>0</td>\n",
              "      <td>0</td>\n",
              "      <td>0</td>\n",
              "      <td>1</td>\n",
              "      <td>0</td>\n",
              "      <td>0</td>\n",
              "      <td>0</td>\n",
              "      <td>0</td>\n",
              "      <td>116.245732</td>\n",
              "      <td>27.114597</td>\n",
              "      <td>9524339.124</td>\n",
              "    </tr>\n",
              "    <tr>\n",
              "      <th>3</th>\n",
              "      <td>4</td>\n",
              "      <td>Waiting to Exhale (1995)</td>\n",
              "      <td>0</td>\n",
              "      <td>0</td>\n",
              "      <td>0</td>\n",
              "      <td>0</td>\n",
              "      <td>1</td>\n",
              "      <td>0</td>\n",
              "      <td>0</td>\n",
              "      <td>0</td>\n",
              "      <td>1</td>\n",
              "      <td>0</td>\n",
              "      <td>0</td>\n",
              "      <td>1</td>\n",
              "      <td>0</td>\n",
              "      <td>120.317732</td>\n",
              "      <td>4.994242</td>\n",
              "      <td>6331568.779</td>\n",
              "    </tr>\n",
              "    <tr>\n",
              "      <th>4</th>\n",
              "      <td>5</td>\n",
              "      <td>Father of the Bride Part II (1995)</td>\n",
              "      <td>0</td>\n",
              "      <td>0</td>\n",
              "      <td>0</td>\n",
              "      <td>0</td>\n",
              "      <td>0</td>\n",
              "      <td>0</td>\n",
              "      <td>0</td>\n",
              "      <td>0</td>\n",
              "      <td>1</td>\n",
              "      <td>0</td>\n",
              "      <td>0</td>\n",
              "      <td>0</td>\n",
              "      <td>0</td>\n",
              "      <td>110.023572</td>\n",
              "      <td>19.142246</td>\n",
              "      <td>6409617.277</td>\n",
              "    </tr>\n",
              "  </tbody>\n",
              "</table>\n",
              "</div>"
            ],
            "text/plain": [
              "   movieId                              Titulo  Documentary  Sci-Fi  Mystery  \\\n",
              "0        1                    Toy Story (1995)            0       0        0   \n",
              "1        2                      Jumanji (1995)            0       0        0   \n",
              "2        3             Grumpier Old Men (1995)            0       0        0   \n",
              "3        4            Waiting to Exhale (1995)            0       0        0   \n",
              "4        5  Father of the Bride Part II (1995)            0       0        0   \n",
              "\n",
              "   Horror  Romance  Thriller  Crime  Fantasy  Comedy  Animation  Children  \\\n",
              "0       0        0         0      0        1       1          1         1   \n",
              "1       0        0         0      0        1       0          0         1   \n",
              "2       0        1         0      0        0       1          0         0   \n",
              "3       0        1         0      0        0       1          0         0   \n",
              "4       0        0         0      0        0       1          0         0   \n",
              "\n",
              "   Drama  Adventure     Duracao  Investimento   Bilheteria  \n",
              "0      0          1  103.468310     11.048216  5623234.602  \n",
              "1      0          1  112.337916     14.927678  5714951.757  \n",
              "2      0          0  116.245732     27.114597  9524339.124  \n",
              "3      1          0  120.317732      4.994242  6331568.779  \n",
              "4      0          0  110.023572     19.142246  6409617.277  "
            ]
          },
          "metadata": {
            "tags": []
          },
          "execution_count": 203
        }
      ]
    },
    {
      "cell_type": "code",
      "metadata": {
        "id": "_XeycYq_ZFke",
        "outputId": "5693a433-e51e-410c-efd0-9fa6df4d8332"
      },
      "source": [
        "filmes.shape"
      ],
      "execution_count": null,
      "outputs": [
        {
          "output_type": "execute_result",
          "data": {
            "text/plain": [
              "(9125, 18)"
            ]
          },
          "metadata": {
            "tags": []
          },
          "execution_count": 204
        }
      ]
    },
    {
      "cell_type": "code",
      "metadata": {
        "id": "7B7GCeqBZFke"
      },
      "source": [
        "filmes_caract = filmes[filmes.columns[2:17]]\n",
        "filmes_labels = filmes[filmes.columns[17:]]"
      ],
      "execution_count": null,
      "outputs": []
    },
    {
      "cell_type": "code",
      "metadata": {
        "id": "wUPulKCvZFkf",
        "outputId": "48c0c909-7bd1-4eaf-bf4b-e152fb7f570d"
      },
      "source": [
        "filmes_caract.head(5)"
      ],
      "execution_count": null,
      "outputs": [
        {
          "output_type": "execute_result",
          "data": {
            "text/html": [
              "<div>\n",
              "<style scoped>\n",
              "    .dataframe tbody tr th:only-of-type {\n",
              "        vertical-align: middle;\n",
              "    }\n",
              "\n",
              "    .dataframe tbody tr th {\n",
              "        vertical-align: top;\n",
              "    }\n",
              "\n",
              "    .dataframe thead th {\n",
              "        text-align: right;\n",
              "    }\n",
              "</style>\n",
              "<table border=\"1\" class=\"dataframe\">\n",
              "  <thead>\n",
              "    <tr style=\"text-align: right;\">\n",
              "      <th></th>\n",
              "      <th>Documentary</th>\n",
              "      <th>Sci-Fi</th>\n",
              "      <th>Mystery</th>\n",
              "      <th>Horror</th>\n",
              "      <th>Romance</th>\n",
              "      <th>Thriller</th>\n",
              "      <th>Crime</th>\n",
              "      <th>Fantasy</th>\n",
              "      <th>Comedy</th>\n",
              "      <th>Animation</th>\n",
              "      <th>Children</th>\n",
              "      <th>Drama</th>\n",
              "      <th>Adventure</th>\n",
              "      <th>Duracao</th>\n",
              "      <th>Investimento</th>\n",
              "    </tr>\n",
              "  </thead>\n",
              "  <tbody>\n",
              "    <tr>\n",
              "      <th>0</th>\n",
              "      <td>0</td>\n",
              "      <td>0</td>\n",
              "      <td>0</td>\n",
              "      <td>0</td>\n",
              "      <td>0</td>\n",
              "      <td>0</td>\n",
              "      <td>0</td>\n",
              "      <td>1</td>\n",
              "      <td>1</td>\n",
              "      <td>1</td>\n",
              "      <td>1</td>\n",
              "      <td>0</td>\n",
              "      <td>1</td>\n",
              "      <td>103.468310</td>\n",
              "      <td>11.048216</td>\n",
              "    </tr>\n",
              "    <tr>\n",
              "      <th>1</th>\n",
              "      <td>0</td>\n",
              "      <td>0</td>\n",
              "      <td>0</td>\n",
              "      <td>0</td>\n",
              "      <td>0</td>\n",
              "      <td>0</td>\n",
              "      <td>0</td>\n",
              "      <td>1</td>\n",
              "      <td>0</td>\n",
              "      <td>0</td>\n",
              "      <td>1</td>\n",
              "      <td>0</td>\n",
              "      <td>1</td>\n",
              "      <td>112.337916</td>\n",
              "      <td>14.927678</td>\n",
              "    </tr>\n",
              "    <tr>\n",
              "      <th>2</th>\n",
              "      <td>0</td>\n",
              "      <td>0</td>\n",
              "      <td>0</td>\n",
              "      <td>0</td>\n",
              "      <td>1</td>\n",
              "      <td>0</td>\n",
              "      <td>0</td>\n",
              "      <td>0</td>\n",
              "      <td>1</td>\n",
              "      <td>0</td>\n",
              "      <td>0</td>\n",
              "      <td>0</td>\n",
              "      <td>0</td>\n",
              "      <td>116.245732</td>\n",
              "      <td>27.114597</td>\n",
              "    </tr>\n",
              "    <tr>\n",
              "      <th>3</th>\n",
              "      <td>0</td>\n",
              "      <td>0</td>\n",
              "      <td>0</td>\n",
              "      <td>0</td>\n",
              "      <td>1</td>\n",
              "      <td>0</td>\n",
              "      <td>0</td>\n",
              "      <td>0</td>\n",
              "      <td>1</td>\n",
              "      <td>0</td>\n",
              "      <td>0</td>\n",
              "      <td>1</td>\n",
              "      <td>0</td>\n",
              "      <td>120.317732</td>\n",
              "      <td>4.994242</td>\n",
              "    </tr>\n",
              "    <tr>\n",
              "      <th>4</th>\n",
              "      <td>0</td>\n",
              "      <td>0</td>\n",
              "      <td>0</td>\n",
              "      <td>0</td>\n",
              "      <td>0</td>\n",
              "      <td>0</td>\n",
              "      <td>0</td>\n",
              "      <td>0</td>\n",
              "      <td>1</td>\n",
              "      <td>0</td>\n",
              "      <td>0</td>\n",
              "      <td>0</td>\n",
              "      <td>0</td>\n",
              "      <td>110.023572</td>\n",
              "      <td>19.142246</td>\n",
              "    </tr>\n",
              "  </tbody>\n",
              "</table>\n",
              "</div>"
            ],
            "text/plain": [
              "   Documentary  Sci-Fi  Mystery  Horror  Romance  Thriller  Crime  Fantasy  \\\n",
              "0            0       0        0       0        0         0      0        1   \n",
              "1            0       0        0       0        0         0      0        1   \n",
              "2            0       0        0       0        1         0      0        0   \n",
              "3            0       0        0       0        1         0      0        0   \n",
              "4            0       0        0       0        0         0      0        0   \n",
              "\n",
              "   Comedy  Animation  Children  Drama  Adventure     Duracao  Investimento  \n",
              "0       1          1         1      0          1  103.468310     11.048216  \n",
              "1       0          0         1      0          1  112.337916     14.927678  \n",
              "2       1          0         0      0          0  116.245732     27.114597  \n",
              "3       1          0         0      1          0  120.317732      4.994242  \n",
              "4       1          0         0      0          0  110.023572     19.142246  "
            ]
          },
          "metadata": {
            "tags": []
          },
          "execution_count": 206
        }
      ]
    },
    {
      "cell_type": "code",
      "metadata": {
        "id": "gtYEX8RSZFkf",
        "outputId": "9b1f4e6c-2cab-49a8-ad3d-0c6760fe0e2c"
      },
      "source": [
        "filmes_labels.head(5)"
      ],
      "execution_count": null,
      "outputs": [
        {
          "output_type": "execute_result",
          "data": {
            "text/html": [
              "<div>\n",
              "<style scoped>\n",
              "    .dataframe tbody tr th:only-of-type {\n",
              "        vertical-align: middle;\n",
              "    }\n",
              "\n",
              "    .dataframe tbody tr th {\n",
              "        vertical-align: top;\n",
              "    }\n",
              "\n",
              "    .dataframe thead th {\n",
              "        text-align: right;\n",
              "    }\n",
              "</style>\n",
              "<table border=\"1\" class=\"dataframe\">\n",
              "  <thead>\n",
              "    <tr style=\"text-align: right;\">\n",
              "      <th></th>\n",
              "      <th>Bilheteria</th>\n",
              "    </tr>\n",
              "  </thead>\n",
              "  <tbody>\n",
              "    <tr>\n",
              "      <th>0</th>\n",
              "      <td>5623234.602</td>\n",
              "    </tr>\n",
              "    <tr>\n",
              "      <th>1</th>\n",
              "      <td>5714951.757</td>\n",
              "    </tr>\n",
              "    <tr>\n",
              "      <th>2</th>\n",
              "      <td>9524339.124</td>\n",
              "    </tr>\n",
              "    <tr>\n",
              "      <th>3</th>\n",
              "      <td>6331568.779</td>\n",
              "    </tr>\n",
              "    <tr>\n",
              "      <th>4</th>\n",
              "      <td>6409617.277</td>\n",
              "    </tr>\n",
              "  </tbody>\n",
              "</table>\n",
              "</div>"
            ],
            "text/plain": [
              "    Bilheteria\n",
              "0  5623234.602\n",
              "1  5714951.757\n",
              "2  9524339.124\n",
              "3  6331568.779\n",
              "4  6409617.277"
            ]
          },
          "metadata": {
            "tags": []
          },
          "execution_count": 207
        }
      ]
    },
    {
      "cell_type": "code",
      "metadata": {
        "id": "2Y3bR5VFZFkg"
      },
      "source": [
        "treino, teste, treino_labels, teste_labels = train_test_split(filmes_caract, filmes_labels)"
      ],
      "execution_count": null,
      "outputs": []
    },
    {
      "cell_type": "code",
      "metadata": {
        "id": "O1PDy0LdZFkg",
        "outputId": "5574fa97-a6bb-48f2-bb5f-b8eaad53e14f"
      },
      "source": [
        "print('Shape do treino {}, Shape do teste {}'.format(treino.shape, teste.shape))"
      ],
      "execution_count": null,
      "outputs": [
        {
          "output_type": "stream",
          "text": [
            "Shape do treino (6843, 15), Shape do teste (2282, 15)\n"
          ],
          "name": "stdout"
        }
      ]
    },
    {
      "cell_type": "code",
      "metadata": {
        "id": "hubuBH2BZFkh",
        "outputId": "18613706-658e-48cc-bb96-0ca3d90ae641"
      },
      "source": [
        "porc_treino = len(treino)/len(filmes_caract)*100\n",
        "porc_teste =  len(teste)/len(filmes_caract)*100\n",
        "print('Proporção Treino / Teste: {0:.2f}% / {1:.2f}%'.format(porc_treino, porc_teste))"
      ],
      "execution_count": null,
      "outputs": [
        {
          "output_type": "stream",
          "text": [
            "Proporção Treino / Teste: 74.99% / 25.01%\n"
          ],
          "name": "stdout"
        }
      ]
    },
    {
      "cell_type": "code",
      "metadata": {
        "id": "TGVN8HFBZFkh"
      },
      "source": [
        "treino_arr = np.array(treino).reshape(len(treino),15)\n",
        "teste_arr = np.array(teste).reshape(len(teste),15)"
      ],
      "execution_count": null,
      "outputs": []
    },
    {
      "cell_type": "code",
      "metadata": {
        "id": "hk-_s-0GZFkh",
        "outputId": "ef475596-20c9-47db-b038-3eddf4ee8597"
      },
      "source": [
        "print('Tipo e shape do array treino {} - {}'.format(type(treino_arr), treino_arr.shape))"
      ],
      "execution_count": null,
      "outputs": [
        {
          "output_type": "stream",
          "text": [
            "Tipo e shape do array treino <class 'numpy.ndarray'> - (6843, 15)\n"
          ],
          "name": "stdout"
        }
      ]
    },
    {
      "cell_type": "code",
      "metadata": {
        "id": "CrlAG02rZFki",
        "outputId": "a77ebbf3-62ca-4235-bab6-9b1696bf9ff3"
      },
      "source": [
        "print('Tipo e shape do array teste {} - {}'.format(type(teste_arr), teste_arr.shape))"
      ],
      "execution_count": null,
      "outputs": [
        {
          "output_type": "stream",
          "text": [
            "Tipo e shape do array teste <class 'numpy.ndarray'> - (2282, 15)\n"
          ],
          "name": "stdout"
        }
      ]
    },
    {
      "cell_type": "code",
      "metadata": {
        "id": "OEuyUxQHZFki"
      },
      "source": [
        "treino_labels_arr = np.array(treino_labels).reshape(len(treino_labels),1)\n",
        "teste_labels_arr = np.array(teste_labels).reshape(len(teste_labels),1)"
      ],
      "execution_count": null,
      "outputs": []
    },
    {
      "cell_type": "markdown",
      "metadata": {
        "id": "7jP1rSoBZFki"
      },
      "source": [
        "#### Usando modelo DecisionTreeRegressor"
      ]
    },
    {
      "cell_type": "code",
      "metadata": {
        "id": "RdRacow1ZFkj",
        "outputId": "23d5d2a2-268d-4714-e386-141aa0bc0f40"
      },
      "source": [
        "modelo = tree.DecisionTreeRegressor()\n",
        "modelo.fit(treino_arr, treino_labels_arr)"
      ],
      "execution_count": null,
      "outputs": [
        {
          "output_type": "execute_result",
          "data": {
            "text/plain": [
              "DecisionTreeRegressor(criterion='mse', max_depth=None, max_features=None,\n",
              "           max_leaf_nodes=None, min_impurity_decrease=0.0,\n",
              "           min_impurity_split=None, min_samples_leaf=1,\n",
              "           min_samples_split=2, min_weight_fraction_leaf=0.0,\n",
              "           presort=False, random_state=None, splitter='best')"
            ]
          },
          "metadata": {
            "tags": []
          },
          "execution_count": 215
        }
      ]
    },
    {
      "cell_type": "code",
      "metadata": {
        "id": "OCuyvEyBZFkj",
        "outputId": "effb7fa7-ea23-4329-b9df-9a2b7aa5c6a4"
      },
      "source": [
        "score_treino = modelo.score(treino_arr, treino_labels_arr)\n",
        "score_teste = modelo.score(teste_arr, teste_labels_arr)\n",
        "print('DecisionTreeRegressor: Acertamos {0:.2f}% no treino, Acertamos {1:.2f}% no teste'.\n",
        "      format(score_treino * 100, score_teste * 100))"
      ],
      "execution_count": null,
      "outputs": [
        {
          "output_type": "stream",
          "text": [
            "DecisionTreeRegressor: Acertamos 100.00% no treino, Acertamos 66.12% no teste\n"
          ],
          "name": "stdout"
        }
      ]
    },
    {
      "cell_type": "markdown",
      "metadata": {
        "id": "EynwIM1BZFkj"
      },
      "source": [
        "#### Usando modelo LinearRegression"
      ]
    },
    {
      "cell_type": "code",
      "metadata": {
        "id": "XSRktdSJZFkk",
        "outputId": "a9df4f05-7d91-43b4-d4dd-8cd6e5412b07"
      },
      "source": [
        "modelo_reg = LinearRegression()\n",
        "modelo_reg.fit(treino_arr, treino_labels_arr)"
      ],
      "execution_count": null,
      "outputs": [
        {
          "output_type": "execute_result",
          "data": {
            "text/plain": [
              "LinearRegression(copy_X=True, fit_intercept=True, n_jobs=1, normalize=False)"
            ]
          },
          "metadata": {
            "tags": []
          },
          "execution_count": 217
        }
      ]
    },
    {
      "cell_type": "code",
      "metadata": {
        "id": "c1kFnOUBZFkk",
        "outputId": "c2e4d22a-eb1a-4a01-915d-607e03ef30e0"
      },
      "source": [
        "score_treino = modelo_reg.score(treino_arr, treino_labels_arr)\n",
        "score_teste = modelo_reg.score(teste_arr, teste_labels_arr)\n",
        "print('LinearRegression: Acertamos {0:.2f}% no treino, Acertamos {1:.2f}% no teste'.\n",
        "      format(score_treino * 100, score_teste * 100))"
      ],
      "execution_count": null,
      "outputs": [
        {
          "output_type": "stream",
          "text": [
            "LinearRegression: Acertamos 82.61% no treino, Acertamos 83.25% no teste\n"
          ],
          "name": "stdout"
        }
      ]
    },
    {
      "cell_type": "markdown",
      "metadata": {
        "id": "jICxT3rdZFkk"
      },
      "source": [
        "## Classificadores e métricas"
      ]
    },
    {
      "cell_type": "code",
      "metadata": {
        "id": "iMdzudDoZFkl",
        "outputId": "30a6b5b8-74a7-479e-f7c7-89a88a20459e"
      },
      "source": [
        "modelo_depth5 = tree.DecisionTreeRegressor(max_depth=5)\n",
        "modelo_depth5.fit(treino_arr, treino_labels_arr)"
      ],
      "execution_count": null,
      "outputs": [
        {
          "output_type": "execute_result",
          "data": {
            "text/plain": [
              "DecisionTreeRegressor(criterion='mse', max_depth=5, max_features=None,\n",
              "           max_leaf_nodes=None, min_impurity_decrease=0.0,\n",
              "           min_impurity_split=None, min_samples_leaf=1,\n",
              "           min_samples_split=2, min_weight_fraction_leaf=0.0,\n",
              "           presort=False, random_state=None, splitter='best')"
            ]
          },
          "metadata": {
            "tags": []
          },
          "execution_count": 219
        }
      ]
    },
    {
      "cell_type": "code",
      "metadata": {
        "id": "R9y8HIO1ZFkl",
        "outputId": "d5578742-d596-49c1-b0ac-e1ab2daee13a"
      },
      "source": [
        "score_max5_treino = modelo_depth5.score(treino_arr, treino_labels_arr)\n",
        "score_max5_teste = modelo_depth5.score(teste_arr, teste_labels_arr)\n",
        "print('DecisionTreeRegressor(max_depth=5): Acertamos {0:.2f}% no treino, Acertamos {1:.2f}% no teste'.\n",
        "      format(score_max5_treino * 100, score_max5_treino * 100))"
      ],
      "execution_count": null,
      "outputs": [
        {
          "output_type": "stream",
          "text": [
            "DecisionTreeRegressor(max_depth=5): Acertamos 80.73% no treino, Acertamos 80.73% no teste\n"
          ],
          "name": "stdout"
        }
      ]
    },
    {
      "cell_type": "code",
      "metadata": {
        "id": "sU3qBJBlZFkl",
        "outputId": "29a29e5f-fbac-4d63-9187-69d4bbc01147"
      },
      "source": [
        "zootopia = [0,0,0,0,0,0,0,1,1,1,1,0,1,110,27.74456356]\n",
        "modelo_depth5.predict([zootopia])"
      ],
      "execution_count": null,
      "outputs": [
        {
          "output_type": "execute_result",
          "data": {
            "text/plain": [
              "array([ 7899402.77132227])"
            ]
          },
          "metadata": {
            "tags": []
          },
          "execution_count": 221
        }
      ]
    },
    {
      "cell_type": "markdown",
      "metadata": {
        "id": "xOae5OCdZFkm"
      },
      "source": [
        "### Gostos do usuário"
      ]
    },
    {
      "cell_type": "markdown",
      "metadata": {
        "id": "gs5x-ityZFkm"
      },
      "source": [
        "Download Dataset: [avaliacoes_usuario.csv](https://s3.amazonaws.com/caelum-online-public/machine-learning-aprendizado-supervisionado/avaliacoes_usuario.csv)"
      ]
    },
    {
      "cell_type": "code",
      "metadata": {
        "id": "dEY2h4RfZFkm",
        "outputId": "96f7b2f5-e44b-475e-c951-3f306a20384f"
      },
      "source": [
        "gostos = pd.read_csv('datasets/avaliacoes_usuario.csv')\n",
        "gostos.head(5)"
      ],
      "execution_count": null,
      "outputs": [
        {
          "output_type": "execute_result",
          "data": {
            "text/html": [
              "<div>\n",
              "<style scoped>\n",
              "    .dataframe tbody tr th:only-of-type {\n",
              "        vertical-align: middle;\n",
              "    }\n",
              "\n",
              "    .dataframe tbody tr th {\n",
              "        vertical-align: top;\n",
              "    }\n",
              "\n",
              "    .dataframe thead th {\n",
              "        text-align: right;\n",
              "    }\n",
              "</style>\n",
              "<table border=\"1\" class=\"dataframe\">\n",
              "  <thead>\n",
              "    <tr style=\"text-align: right;\">\n",
              "      <th></th>\n",
              "      <th>Titulo</th>\n",
              "      <th>Documentary</th>\n",
              "      <th>Sci-Fi</th>\n",
              "      <th>Mystery</th>\n",
              "      <th>Horror</th>\n",
              "      <th>Romance</th>\n",
              "      <th>Thriller</th>\n",
              "      <th>Crime</th>\n",
              "      <th>Fantasy</th>\n",
              "      <th>Comedy</th>\n",
              "      <th>Animation</th>\n",
              "      <th>Children</th>\n",
              "      <th>Drama</th>\n",
              "      <th>Adventure</th>\n",
              "      <th>Duracao</th>\n",
              "      <th>Investimento</th>\n",
              "      <th>Gostou</th>\n",
              "    </tr>\n",
              "  </thead>\n",
              "  <tbody>\n",
              "    <tr>\n",
              "      <th>0</th>\n",
              "      <td>Nixon (1995)</td>\n",
              "      <td>0</td>\n",
              "      <td>0</td>\n",
              "      <td>0</td>\n",
              "      <td>0</td>\n",
              "      <td>0</td>\n",
              "      <td>0</td>\n",
              "      <td>0</td>\n",
              "      <td>0</td>\n",
              "      <td>0</td>\n",
              "      <td>0</td>\n",
              "      <td>0</td>\n",
              "      <td>1</td>\n",
              "      <td>0</td>\n",
              "      <td>114.496547</td>\n",
              "      <td>7.930748</td>\n",
              "      <td>1</td>\n",
              "    </tr>\n",
              "    <tr>\n",
              "      <th>1</th>\n",
              "      <td>Leaving Las Vegas (1995)</td>\n",
              "      <td>0</td>\n",
              "      <td>0</td>\n",
              "      <td>0</td>\n",
              "      <td>0</td>\n",
              "      <td>1</td>\n",
              "      <td>0</td>\n",
              "      <td>0</td>\n",
              "      <td>0</td>\n",
              "      <td>0</td>\n",
              "      <td>0</td>\n",
              "      <td>0</td>\n",
              "      <td>1</td>\n",
              "      <td>0</td>\n",
              "      <td>110.140191</td>\n",
              "      <td>18.276555</td>\n",
              "      <td>1</td>\n",
              "    </tr>\n",
              "    <tr>\n",
              "      <th>2</th>\n",
              "      <td>Persuasion (1995)</td>\n",
              "      <td>0</td>\n",
              "      <td>0</td>\n",
              "      <td>0</td>\n",
              "      <td>0</td>\n",
              "      <td>1</td>\n",
              "      <td>0</td>\n",
              "      <td>0</td>\n",
              "      <td>0</td>\n",
              "      <td>0</td>\n",
              "      <td>0</td>\n",
              "      <td>0</td>\n",
              "      <td>1</td>\n",
              "      <td>0</td>\n",
              "      <td>105.747597</td>\n",
              "      <td>16.582232</td>\n",
              "      <td>1</td>\n",
              "    </tr>\n",
              "    <tr>\n",
              "      <th>3</th>\n",
              "      <td>Babe (1995)</td>\n",
              "      <td>0</td>\n",
              "      <td>0</td>\n",
              "      <td>0</td>\n",
              "      <td>0</td>\n",
              "      <td>0</td>\n",
              "      <td>0</td>\n",
              "      <td>0</td>\n",
              "      <td>0</td>\n",
              "      <td>0</td>\n",
              "      <td>0</td>\n",
              "      <td>1</td>\n",
              "      <td>1</td>\n",
              "      <td>0</td>\n",
              "      <td>126.131978</td>\n",
              "      <td>13.004553</td>\n",
              "      <td>1</td>\n",
              "    </tr>\n",
              "    <tr>\n",
              "      <th>4</th>\n",
              "      <td>Carrington (1995)</td>\n",
              "      <td>0</td>\n",
              "      <td>0</td>\n",
              "      <td>0</td>\n",
              "      <td>0</td>\n",
              "      <td>1</td>\n",
              "      <td>0</td>\n",
              "      <td>0</td>\n",
              "      <td>0</td>\n",
              "      <td>0</td>\n",
              "      <td>0</td>\n",
              "      <td>0</td>\n",
              "      <td>1</td>\n",
              "      <td>0</td>\n",
              "      <td>85.025469</td>\n",
              "      <td>14.418120</td>\n",
              "      <td>1</td>\n",
              "    </tr>\n",
              "  </tbody>\n",
              "</table>\n",
              "</div>"
            ],
            "text/plain": [
              "                     Titulo  Documentary  Sci-Fi  Mystery  Horror  Romance  \\\n",
              "0              Nixon (1995)            0       0        0       0        0   \n",
              "1  Leaving Las Vegas (1995)            0       0        0       0        1   \n",
              "2         Persuasion (1995)            0       0        0       0        1   \n",
              "3               Babe (1995)            0       0        0       0        0   \n",
              "4         Carrington (1995)            0       0        0       0        1   \n",
              "\n",
              "   Thriller  Crime  Fantasy  Comedy  Animation  Children  Drama  Adventure  \\\n",
              "0         0      0        0       0          0         0      1          0   \n",
              "1         0      0        0       0          0         0      1          0   \n",
              "2         0      0        0       0          0         0      1          0   \n",
              "3         0      0        0       0          0         1      1          0   \n",
              "4         0      0        0       0          0         0      1          0   \n",
              "\n",
              "      Duracao  Investimento  Gostou  \n",
              "0  114.496547      7.930748       1  \n",
              "1  110.140191     18.276555       1  \n",
              "2  105.747597     16.582232       1  \n",
              "3  126.131978     13.004553       1  \n",
              "4   85.025469     14.418120       1  "
            ]
          },
          "metadata": {
            "tags": []
          },
          "execution_count": 222
        }
      ]
    },
    {
      "cell_type": "code",
      "metadata": {
        "id": "bRIYWbFnZFkm"
      },
      "source": [
        "caract = gostos[gostos.columns[1:16]]\n",
        "labels = gostos[gostos.columns[16:]]"
      ],
      "execution_count": null,
      "outputs": []
    },
    {
      "cell_type": "code",
      "metadata": {
        "id": "5jVwUV6LZFkm"
      },
      "source": [
        "treino, teste, treino_labels, teste_labels = train_test_split(caract, labels)"
      ],
      "execution_count": null,
      "outputs": []
    },
    {
      "cell_type": "code",
      "metadata": {
        "id": "sP-xrwCUZFkn"
      },
      "source": [
        "treino = np.array(treino).reshape(len(treino), 15)\n",
        "teste = np.array(teste).reshape(len(teste), 15)\n",
        "treino_labels = treino_labels.values.ravel()\n",
        "teste_labels = teste_labels.values.ravel()"
      ],
      "execution_count": null,
      "outputs": []
    },
    {
      "cell_type": "code",
      "metadata": {
        "id": "4JXE8PkvZFkn",
        "outputId": "9cdd31db-5de8-4498-b91e-b5672704a766"
      },
      "source": [
        "print('Tipos: treino {}, teste {}, treino_labels {}, teste_labels {}'.\n",
        "      format(type(treino), type(teste), type(treino_labels), type(teste_labels)))"
      ],
      "execution_count": null,
      "outputs": [
        {
          "output_type": "stream",
          "text": [
            "Tipos: treino <class 'numpy.ndarray'>, teste <class 'numpy.ndarray'>, treino_labels <class 'numpy.ndarray'>, teste_labels <class 'numpy.ndarray'>\n"
          ],
          "name": "stdout"
        }
      ]
    },
    {
      "cell_type": "markdown",
      "metadata": {
        "id": "uoP78Q9tZFkn"
      },
      "source": [
        "#### Usando LogisticRegression"
      ]
    },
    {
      "cell_type": "code",
      "metadata": {
        "id": "UDttluMKZFkn"
      },
      "source": [
        "from sklearn.linear_model import LogisticRegression\n",
        "from sklearn.metrics import accuracy_score"
      ],
      "execution_count": null,
      "outputs": []
    },
    {
      "cell_type": "code",
      "metadata": {
        "id": "k3WFUt7sZFkn",
        "outputId": "500290bf-0960-4a71-bcd1-18595ad7f70d"
      },
      "source": [
        "model = LogisticRegression()\n",
        "model.fit(treino, treino_labels)"
      ],
      "execution_count": null,
      "outputs": [
        {
          "output_type": "execute_result",
          "data": {
            "text/plain": [
              "LogisticRegression(C=1.0, class_weight=None, dual=False, fit_intercept=True,\n",
              "          intercept_scaling=1, max_iter=100, multi_class='ovr', n_jobs=1,\n",
              "          penalty='l2', random_state=None, solver='liblinear', tol=0.0001,\n",
              "          verbose=0, warm_start=False)"
            ]
          },
          "metadata": {
            "tags": []
          },
          "execution_count": 228
        }
      ]
    },
    {
      "cell_type": "code",
      "metadata": {
        "id": "_hAOlN5oZFko",
        "outputId": "732f3483-aa7d-4f07-f931-b8b8abbea7bb"
      },
      "source": [
        "previsoes = model.predict(teste)\n",
        "acuracia = accuracy_score(teste_labels, previsoes)\n",
        "print('Acuracia com LogisticRegression no teste: {0:.2f}%'.format(acuracia * 100))"
      ],
      "execution_count": null,
      "outputs": [
        {
          "output_type": "stream",
          "text": [
            "Acuracia com LogisticRegression no teste: 80.00%\n"
          ],
          "name": "stdout"
        }
      ]
    },
    {
      "cell_type": "markdown",
      "metadata": {
        "id": "TpMireJ7ZFko"
      },
      "source": [
        "#### Usando DecissionTreeClassifier"
      ]
    },
    {
      "cell_type": "code",
      "metadata": {
        "id": "T5ALAYf_ZFko",
        "outputId": "a39e2d36-4a2f-4bfc-9c2d-31daa549873f"
      },
      "source": [
        "modelo = tree.DecisionTreeClassifier()\n",
        "modelo.fit(treino, treino_labels)"
      ],
      "execution_count": null,
      "outputs": [
        {
          "output_type": "execute_result",
          "data": {
            "text/plain": [
              "DecisionTreeClassifier(class_weight=None, criterion='gini', max_depth=None,\n",
              "            max_features=None, max_leaf_nodes=None,\n",
              "            min_impurity_decrease=0.0, min_impurity_split=None,\n",
              "            min_samples_leaf=1, min_samples_split=2,\n",
              "            min_weight_fraction_leaf=0.0, presort=False, random_state=None,\n",
              "            splitter='best')"
            ]
          },
          "metadata": {
            "tags": []
          },
          "execution_count": 230
        }
      ]
    },
    {
      "cell_type": "code",
      "metadata": {
        "id": "M9mSGWH-ZFko",
        "outputId": "146f7632-e3a5-4598-ff30-1b0e472f8dcf"
      },
      "source": [
        "previsoes = modelo.predict(teste)\n",
        "acuracia = accuracy_score(teste_labels, previsoes)\n",
        "print('Acuracia com DecisionTreeClassifier no teste: {0:.2f}%'.format(acuracia * 100))\n",
        "previsoes = modelo.predict(treino)\n",
        "acuracia = accuracy_score(treino_labels, previsoes)\n",
        "print('Acuracia com DecisionTreeClassifier com treino: {0:.2f}%'.format(acuracia * 100))"
      ],
      "execution_count": null,
      "outputs": [
        {
          "output_type": "stream",
          "text": [
            "Acuracia com DecisionTreeClassifier no teste: 70.00%\n",
            "Acuracia com DecisionTreeClassifier com treino: 100.00%\n"
          ],
          "name": "stdout"
        }
      ]
    },
    {
      "cell_type": "markdown",
      "metadata": {
        "id": "c5PZqW6SZFkp"
      },
      "source": [
        "#### Usando DecisionTreeClassifier(max_depth=5)"
      ]
    },
    {
      "cell_type": "code",
      "metadata": {
        "id": "5FTZrtuLZFkp",
        "outputId": "b2d7f4b9-f1b1-4d09-f412-d471e3cdcb67"
      },
      "source": [
        "modelo_max5 = tree.DecisionTreeClassifier(max_depth=5)\n",
        "modelo_max5.fit(treino, treino_labels)\n",
        "previsoes = modelo_max5.predict(teste)\n",
        "acuracia = accuracy_score(teste_labels, previsoes)\n",
        "print('Acuracia com DecisionTreeClassifier(max_depth=5) no teste: {0:.2f}%'.format(acuracia * 100))\n",
        "previsoes = modelo_max5.predict(treino)\n",
        "acuracia = accuracy_score(treino_labels, previsoes)\n",
        "print('Acuracia com DecisionTreeClassifier(max_depth=5) com treino: {0:.2f}%'.format(acuracia * 100))"
      ],
      "execution_count": null,
      "outputs": [
        {
          "output_type": "stream",
          "text": [
            "Acuracia com DecisionTreeClassifier(max_depth=5) no teste: 75.29%\n",
            "Acuracia com DecisionTreeClassifier(max_depth=5) com treino: 85.63%\n"
          ],
          "name": "stdout"
        }
      ]
    },
    {
      "cell_type": "code",
      "metadata": {
        "id": "iWyj6-S7ZFkp"
      },
      "source": [
        ""
      ],
      "execution_count": null,
      "outputs": []
    }
  ]
}